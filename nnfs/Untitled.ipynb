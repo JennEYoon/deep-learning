{
 "cells": [
  {
   "cell_type": "raw",
   "id": "8fe06474",
   "metadata": {},
   "source": [
    "# nn one node  \n",
    "# nnfs  \n",
    "# 8/11/2022  "
   ]
  },
  {
   "cell_type": "code",
   "execution_count": 1,
   "id": "6dd02b63",
   "metadata": {},
   "outputs": [
    {
     "name": "stdout",
     "output_type": "stream",
     "text": [
      "[1, 2, 3] [0.2, 0.8, -0.5] 2\n",
      "2.3\n"
     ]
    }
   ],
   "source": [
    "# data\n",
    "inputs = [1, 2, 3] \n",
    "weights = [0.2, 0.8, -0.5 ]\n",
    "bias = 2\n",
    "print(inputs, weights, bias)\n",
    "\n",
    "# output\n",
    "output = (inputs[0] * weights[0] + inputs[1] * weights[1] + inputs[2] * weights[2] + bias)\n",
    "print(output)\n"
   ]
  },
  {
   "cell_type": "code",
   "execution_count": 2,
   "id": "9c539b7d",
   "metadata": {},
   "outputs": [
    {
     "name": "stdout",
     "output_type": "stream",
     "text": [
      "0.2\n",
      "1.6\n",
      "-1.5\n"
     ]
    }
   ],
   "source": [
    "print(1*.2)\n",
    "print(2*.8)\n",
    "print(3*-.5)\n"
   ]
  },
  {
   "cell_type": "code",
   "execution_count": 5,
   "id": "85a3545e",
   "metadata": {},
   "outputs": [
    {
     "name": "stdout",
     "output_type": "stream",
     "text": [
      "2.3\n"
     ]
    }
   ],
   "source": [
    "print(0.2+1.6-1.5+2)"
   ]
  },
  {
   "cell_type": "code",
   "execution_count": null,
   "id": "c822ad49",
   "metadata": {},
   "outputs": [],
   "source": []
  }
 ],
 "metadata": {
  "kernelspec": {
   "display_name": "Python 3",
   "language": "python",
   "name": "python3"
  },
  "language_info": {
   "codemirror_mode": {
    "name": "ipython",
    "version": 3
   },
   "file_extension": ".py",
   "mimetype": "text/x-python",
   "name": "python",
   "nbconvert_exporter": "python",
   "pygments_lexer": "ipython3",
   "version": "3.7.5"
  }
 },
 "nbformat": 4,
 "nbformat_minor": 5
}
