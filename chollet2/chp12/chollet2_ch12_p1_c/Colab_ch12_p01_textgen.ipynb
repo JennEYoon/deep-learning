{
  "cells": [
    {
      "cell_type": "markdown",
      "metadata": {
        "id": "gmARRv2dwKJo"
      },
      "source": [
        "This is a companion notebook for the book [Deep Learning with Python, Second Edition](https://www.manning.com/books/deep-learning-with-python-second-edition?a_aid=keras&a_bid=76564dff). For readability, it only contains runnable code blocks and section titles, and omits everything else in the book: text paragraphs, figures, and pseudocode.\n",
        "\n",
        "**If you want to be able to follow what's going on, I recommend reading the notebook side by side with your copy of the book.**\n",
        "\n",
        "This notebook was generated for TensorFlow 2.6."
      ]
    },
    {
      "cell_type": "markdown",
      "metadata": {
        "id": "-kUOuzm2wKJq"
      },
      "source": [
        "# Generative deep learning"
      ]
    },
    {
      "cell_type": "markdown",
      "metadata": {
        "id": "D2rLQ3UowKJq"
      },
      "source": [
        "## Text generation"
      ]
    },
    {
      "cell_type": "markdown",
      "metadata": {
        "id": "M3hmB19awKJr"
      },
      "source": [
        "### A brief history of generative deep learning for sequence generation"
      ]
    },
    {
      "cell_type": "markdown",
      "metadata": {
        "id": "-b13b97cwKJr"
      },
      "source": [
        "### How do you generate sequence data?"
      ]
    },
    {
      "cell_type": "markdown",
      "metadata": {
        "id": "oCT-7wl1wKJr"
      },
      "source": [
        "### The importance of the sampling strategy"
      ]
    },
    {
      "cell_type": "markdown",
      "metadata": {
        "id": "wcvuNyhBwKJr"
      },
      "source": [
        "**Reweighting a probability distribution to a different temperature**"
      ]
    },
    {
      "cell_type": "code",
      "execution_count": null,
      "metadata": {
        "id": "7TBVqCqrwKJs"
      },
      "outputs": [],
      "source": [
        "import numpy as np\n",
        "def reweight_distribution(original_distribution, temperature=0.5):\n",
        "    distribution = np.log(original_distribution) / temperature\n",
        "    distribution = np.exp(distribution)\n",
        "    return distribution / np.sum(distribution)"
      ]
    },
    {
      "cell_type": "markdown",
      "metadata": {
        "id": "MhavY1d0wKJt"
      },
      "source": [
        "### Implementing text generation with Keras"
      ]
    },
    {
      "cell_type": "markdown",
      "metadata": {
        "id": "YRT2VS51wKJt"
      },
      "source": [
        "#### Preparing the data"
      ]
    },
    {
      "cell_type": "markdown",
      "metadata": {
        "id": "YASwQJCqwKJu"
      },
      "source": [
        "**Downloading and uncompressing the IMDB movie reviews dataset**"
      ]
    },
    {
      "cell_type": "code",
      "execution_count": 1,
      "metadata": {
        "id": "vB0I9lmQwKJu",
        "outputId": "d10b366a-9ca9-4d0d-9a41-419bc3d1bff2",
        "colab": {
          "base_uri": "https://localhost:8080/"
        }
      },
      "outputs": [
        {
          "output_type": "stream",
          "name": "stdout",
          "text": [
            "--2022-06-24 03:30:47--  https://ai.stanford.edu/~amaas/data/sentiment/aclImdb_v1.tar.gz\n",
            "Resolving ai.stanford.edu (ai.stanford.edu)... 171.64.68.10\n",
            "Connecting to ai.stanford.edu (ai.stanford.edu)|171.64.68.10|:443... connected.\n",
            "HTTP request sent, awaiting response... 200 OK\n",
            "Length: 84125825 (80M) [application/x-gzip]\n",
            "Saving to: ‘aclImdb_v1.tar.gz’\n",
            "\n",
            "aclImdb_v1.tar.gz   100%[===================>]  80.23M  19.6MB/s    in 7.6s    \n",
            "\n",
            "2022-06-24 03:30:55 (10.5 MB/s) - ‘aclImdb_v1.tar.gz’ saved [84125825/84125825]\n",
            "\n"
          ]
        }
      ],
      "source": [
        "!wget https://ai.stanford.edu/~amaas/data/sentiment/aclImdb_v1.tar.gz\n",
        "!tar -xf aclImdb_v1.tar.gz"
      ]
    },
    {
      "cell_type": "code",
      "source": [
        "!ls /content/\n",
        "!ls /content/aclImdb"
      ],
      "metadata": {
        "id": "fdLClQQoxDT-",
        "outputId": "a99e7fb0-86ec-4b8e-c4d0-60d3b817df6d",
        "colab": {
          "base_uri": "https://localhost:8080/"
        }
      },
      "execution_count": 7,
      "outputs": [
        {
          "output_type": "stream",
          "name": "stdout",
          "text": [
            "aclImdb  aclImdb_v1.tar.gz  sample_data\n",
            "imdbEr.txt  imdb.vocab\tREADME\ttest  train\n"
          ]
        }
      ]
    },
    {
      "cell_type": "markdown",
      "metadata": {
        "id": "SjVIAqGuwKJu"
      },
      "source": [
        "**Creating a dataset from text files (one file = one sample)**"
      ]
    },
    {
      "cell_type": "code",
      "execution_count": 8,
      "metadata": {
        "id": "WF9SQD-pwKJu",
        "outputId": "074fc110-4edb-4165-a62a-d1614d600616",
        "colab": {
          "base_uri": "https://localhost:8080/"
        }
      },
      "outputs": [
        {
          "metadata": {
            "tags": null
          },
          "name": "stdout",
          "output_type": "stream",
          "text": [
            "Found 100006 files belonging to 1 classes.\n"
          ]
        }
      ],
      "source": [
        "import tensorflow as tf\n",
        "from tensorflow import keras\n",
        "dataset = keras.utils.text_dataset_from_directory(\n",
        "    directory=\"aclImdb\", label_mode=None, batch_size=256)\n",
        "dataset = dataset.map(lambda x: tf.strings.regex_replace(x, \"<br />\", \" \"))"
      ]
    },
    {
      "cell_type": "markdown",
      "metadata": {
        "id": "Lk-NT8oiwKJv"
      },
      "source": [
        "**Preparing a `TextVectorization` layer**"
      ]
    },
    {
      "cell_type": "code",
      "execution_count": 9,
      "metadata": {
        "id": "_nb8h4M_wKJv"
      },
      "outputs": [],
      "source": [
        "from tensorflow.keras.layers import TextVectorization\n",
        "\n",
        "sequence_length = 100\n",
        "vocab_size = 15000\n",
        "text_vectorization = TextVectorization(\n",
        "    max_tokens=vocab_size,\n",
        "    output_mode=\"int\",\n",
        "    output_sequence_length=sequence_length,\n",
        ")\n",
        "text_vectorization.adapt(dataset)"
      ]
    },
    {
      "cell_type": "markdown",
      "metadata": {
        "id": "cvEtLZ1GwKJv"
      },
      "source": [
        "**Setting up a language modeling dataset**"
      ]
    },
    {
      "cell_type": "code",
      "execution_count": 10,
      "metadata": {
        "id": "VGC1C6dYwKJv"
      },
      "outputs": [],
      "source": [
        "def prepare_lm_dataset(text_batch):\n",
        "    vectorized_sequences = text_vectorization(text_batch)\n",
        "    x = vectorized_sequences[:, :-1]\n",
        "    y = vectorized_sequences[:, 1:]\n",
        "    return x, y\n",
        "\n",
        "lm_dataset = dataset.map(prepare_lm_dataset, num_parallel_calls=4)"
      ]
    },
    {
      "cell_type": "markdown",
      "metadata": {
        "id": "9TLU94OlwKJv"
      },
      "source": [
        "#### A Transformer-based sequence-to-sequence model"
      ]
    },
    {
      "cell_type": "code",
      "execution_count": 11,
      "metadata": {
        "id": "dq_mCmTIwKJw"
      },
      "outputs": [],
      "source": [
        "import tensorflow as tf\n",
        "from tensorflow.keras import layers\n",
        "\n",
        "class PositionalEmbedding(layers.Layer):\n",
        "    def __init__(self, sequence_length, input_dim, output_dim, **kwargs):\n",
        "        super().__init__(**kwargs)\n",
        "        self.token_embeddings = layers.Embedding(\n",
        "            input_dim=input_dim, output_dim=output_dim)\n",
        "        self.position_embeddings = layers.Embedding(\n",
        "            input_dim=sequence_length, output_dim=output_dim)\n",
        "        self.sequence_length = sequence_length\n",
        "        self.input_dim = input_dim\n",
        "        self.output_dim = output_dim\n",
        "\n",
        "    def call(self, inputs):\n",
        "        length = tf.shape(inputs)[-1]\n",
        "        positions = tf.range(start=0, limit=length, delta=1)\n",
        "        embedded_tokens = self.token_embeddings(inputs)\n",
        "        embedded_positions = self.position_embeddings(positions)\n",
        "        return embedded_tokens + embedded_positions\n",
        "\n",
        "    def compute_mask(self, inputs, mask=None):\n",
        "        return tf.math.not_equal(inputs, 0)\n",
        "\n",
        "    def get_config(self):\n",
        "        config = super(PositionalEmbedding, self).get_config()\n",
        "        config.update({\n",
        "            \"output_dim\": self.output_dim,\n",
        "            \"sequence_length\": self.sequence_length,\n",
        "            \"input_dim\": self.input_dim,\n",
        "        })\n",
        "        return config\n",
        "\n",
        "\n",
        "class TransformerDecoder(layers.Layer):\n",
        "    def __init__(self, embed_dim, dense_dim, num_heads, **kwargs):\n",
        "        super().__init__(**kwargs)\n",
        "        self.embed_dim = embed_dim\n",
        "        self.dense_dim = dense_dim\n",
        "        self.num_heads = num_heads\n",
        "        self.attention_1 = layers.MultiHeadAttention(\n",
        "          num_heads=num_heads, key_dim=embed_dim)\n",
        "        self.attention_2 = layers.MultiHeadAttention(\n",
        "          num_heads=num_heads, key_dim=embed_dim)\n",
        "        self.dense_proj = keras.Sequential(\n",
        "            [layers.Dense(dense_dim, activation=\"relu\"),\n",
        "             layers.Dense(embed_dim),]\n",
        "        )\n",
        "        self.layernorm_1 = layers.LayerNormalization()\n",
        "        self.layernorm_2 = layers.LayerNormalization()\n",
        "        self.layernorm_3 = layers.LayerNormalization()\n",
        "        self.supports_masking = True\n",
        "\n",
        "    def get_config(self):\n",
        "        config = super(TransformerDecoder, self).get_config()\n",
        "        config.update({\n",
        "            \"embed_dim\": self.embed_dim,\n",
        "            \"num_heads\": self.num_heads,\n",
        "            \"dense_dim\": self.dense_dim,\n",
        "        })\n",
        "        return config\n",
        "\n",
        "    def get_causal_attention_mask(self, inputs):\n",
        "        input_shape = tf.shape(inputs)\n",
        "        batch_size, sequence_length = input_shape[0], input_shape[1]\n",
        "        i = tf.range(sequence_length)[:, tf.newaxis]\n",
        "        j = tf.range(sequence_length)\n",
        "        mask = tf.cast(i >= j, dtype=\"int32\")\n",
        "        mask = tf.reshape(mask, (1, input_shape[1], input_shape[1]))\n",
        "        mult = tf.concat(\n",
        "            [tf.expand_dims(batch_size, -1),\n",
        "             tf.constant([1, 1], dtype=tf.int32)], axis=0)\n",
        "        return tf.tile(mask, mult)\n",
        "\n",
        "    def call(self, inputs, encoder_outputs, mask=None):\n",
        "        causal_mask = self.get_causal_attention_mask(inputs)\n",
        "        if mask is not None:\n",
        "            padding_mask = tf.cast(\n",
        "                mask[:, tf.newaxis, :], dtype=\"int32\")\n",
        "            padding_mask = tf.minimum(padding_mask, causal_mask)\n",
        "        attention_output_1 = self.attention_1(\n",
        "            query=inputs,\n",
        "            value=inputs,\n",
        "            key=inputs,\n",
        "            attention_mask=causal_mask)\n",
        "        attention_output_1 = self.layernorm_1(inputs + attention_output_1)\n",
        "        attention_output_2 = self.attention_2(\n",
        "            query=attention_output_1,\n",
        "            value=encoder_outputs,\n",
        "            key=encoder_outputs,\n",
        "            attention_mask=padding_mask,\n",
        "        )\n",
        "        attention_output_2 = self.layernorm_2(\n",
        "            attention_output_1 + attention_output_2)\n",
        "        proj_output = self.dense_proj(attention_output_2)\n",
        "        return self.layernorm_3(attention_output_2 + proj_output)"
      ]
    },
    {
      "cell_type": "markdown",
      "metadata": {
        "id": "7UpBhn0owKJw"
      },
      "source": [
        "**A simple Transformer-based language model**"
      ]
    },
    {
      "cell_type": "code",
      "execution_count": 12,
      "metadata": {
        "id": "Z8uNTWc7wKJw"
      },
      "outputs": [],
      "source": [
        "from tensorflow.keras import layers\n",
        "embed_dim = 256\n",
        "latent_dim = 2048\n",
        "num_heads = 2\n",
        "\n",
        "inputs = keras.Input(shape=(None,), dtype=\"int64\")\n",
        "x = PositionalEmbedding(sequence_length, vocab_size, embed_dim)(inputs)\n",
        "x = TransformerDecoder(embed_dim, latent_dim, num_heads)(x, x)\n",
        "outputs = layers.Dense(vocab_size, activation=\"softmax\")(x)\n",
        "model = keras.Model(inputs, outputs)\n",
        "model.compile(loss=\"sparse_categorical_crossentropy\", optimizer=\"rmsprop\")"
      ]
    },
    {
      "cell_type": "markdown",
      "metadata": {
        "id": "g1gjShWzwKJx"
      },
      "source": [
        "### A text-generation callback with variable-temperature sampling"
      ]
    },
    {
      "cell_type": "markdown",
      "metadata": {
        "id": "uL2iDzqowKJx"
      },
      "source": [
        "**The text-generation callback**"
      ]
    },
    {
      "cell_type": "code",
      "execution_count": 13,
      "metadata": {
        "id": "YWgszCp_wKJx"
      },
      "outputs": [],
      "source": [
        "import numpy as np\n",
        "\n",
        "tokens_index = dict(enumerate(text_vectorization.get_vocabulary()))\n",
        "\n",
        "def sample_next(predictions, temperature=1.0):\n",
        "    predictions = np.asarray(predictions).astype(\"float64\")\n",
        "    predictions = np.log(predictions) / temperature\n",
        "    exp_preds = np.exp(predictions)\n",
        "    predictions = exp_preds / np.sum(exp_preds)\n",
        "    probas = np.random.multinomial(1, predictions, 1)\n",
        "    return np.argmax(probas)\n",
        "\n",
        "class TextGenerator(keras.callbacks.Callback):\n",
        "    def __init__(self,\n",
        "                 prompt,\n",
        "                 generate_length,\n",
        "                 model_input_length,\n",
        "                 temperatures=(1.,),\n",
        "                 print_freq=1):\n",
        "        self.prompt = prompt\n",
        "        self.generate_length = generate_length\n",
        "        self.model_input_length = model_input_length\n",
        "        self.temperatures = temperatures\n",
        "        self.print_freq = print_freq\n",
        "\n",
        "    def on_epoch_end(self, epoch, logs=None):\n",
        "        if (epoch + 1) % self.print_freq != 0:\n",
        "            return\n",
        "        for temperature in self.temperatures:\n",
        "            print(\"== Generating with temperature\", temperature)\n",
        "            sentence = self.prompt\n",
        "            for i in range(self.generate_length):\n",
        "                tokenized_sentence = text_vectorization([sentence])\n",
        "                predictions = self.model(tokenized_sentence)\n",
        "                next_token = sample_next(predictions[0, i, :])\n",
        "                sampled_token = tokens_index[next_token]\n",
        "                sentence += \" \" + sampled_token\n",
        "            print(sentence)\n",
        "\n",
        "prompt = \"This movie\"\n",
        "text_gen_callback = TextGenerator(\n",
        "    prompt,\n",
        "    generate_length=50,\n",
        "    model_input_length=sequence_length,\n",
        "    temperatures=(0.2, 0.5, 0.7, 1., 1.5))"
      ]
    },
    {
      "cell_type": "markdown",
      "metadata": {
        "id": "JvWJUpi4wKJx"
      },
      "source": [
        "**Fitting the language model**"
      ]
    },
    {
      "cell_type": "code",
      "execution_count": 14,
      "metadata": {
        "id": "B_uDgMuswKJx",
        "outputId": "d385df67-2110-48ba-8f9f-33060563ddd1",
        "colab": {
          "base_uri": "https://localhost:8080/"
        }
      },
      "outputs": [
        {
          "output_type": "stream",
          "name": "stdout",
          "text": [
            "Epoch 1/40\n",
            "391/391 [==============================] - ETA: 0s - loss: 5.3565== Generating with temperature 0.2\n",
            "This movie movie was had full comical time to scenery me every to shot watch the it film was festival you in get this better movie in while it actors being and is bad so its do thinking save then it lifetime many and persons is if probably you could can not\n",
            "== Generating with temperature 0.5\n",
            "This movie is is extremely a fascinating funny explain at again the in end the of end it of wasnt a the world edge war it movie makes the me director the and movie maybe the its music sort is of even [UNK] though all it see is actor very in good\n",
            "== Generating with temperature 0.7\n",
            "This movie is was typical going exploration from around the [UNK] producers yet of they this generally is [UNK] very are funny seemingly except introduced for to those disagree shows that a [UNK] common their culture [UNK] but that it makes tries the to scenario put or on the with lines buddy\n",
            "== Generating with temperature 1.0\n",
            "This movie is is not just the by worst its picture first from viewing that release only which in i recruit dont scifi understand movie how most the intelligent comments and if barry you snappy wondered romance why in mr many psychedelic [UNK] look is like excellent the plot level is of\n",
            "== Generating with temperature 1.5\n",
            "This movie is is released truly its unique experience but of mostly the good original as show are genre aware only that the theres way quite thats original why as not a as satirical the chinese two who [UNK] is [UNK] perfectly that comfort it of is the in point getting of\n",
            "391/391 [==============================] - 170s 417ms/step - loss: 5.3565\n",
            "Epoch 2/40\n",
            "391/391 [==============================] - ETA: 0s - loss: 4.8133== Generating with temperature 0.2\n",
            "This movie show was is not pretty good much but every i [UNK] really [UNK] enjoyed thought it it unfortunately is i an love ending the i whole really spectacular loved i mr love special the way songs i in liked for the a first lot i theres was a a number\n",
            "== Generating with temperature 0.5\n",
            "This movie film was professionalism all [UNK] of with the all other of shows the the fully life activity of but arabia frame is that so it macho does much not better like turns anything in at this all one for is the a most really important good characters music in nothing\n",
            "== Generating with temperature 0.7\n",
            "This movie series was and an i excellent felt and embarrassed good for if the it film had was the made one any of sense the the elaborate horrible and what yes else fell associated down with the the acting only the cares whole if plane only i did have not to\n",
            "== Generating with temperature 1.0\n",
            "This movie is was nothing considered going a to 30 ripoff years the ago series but i i do really dont decide know to where die when is i the know acting if was you lightning go to with [UNK] it in forward it with was 2 a [UNK] person atmospheric might\n",
            "== Generating with temperature 1.5\n",
            "This movie was is a basically slightly [UNK] entertaining because and it have was enough any to kind be of about young the girl cast a he cast is drunk i and thought they that cant annoying be because around they me are most so of i it liked was there the\n",
            "391/391 [==============================] - 164s 419ms/step - loss: 4.8133\n",
            "Epoch 3/40\n",
            "391/391 [==============================] - ETA: 0s - loss: 4.5929== Generating with temperature 0.2\n",
            "This movie movie was was much so better rubbish than definitely the seen same it year was i actually would gave have it a four great or actresses two in 2 a movies mother where  she had choreographed that lush cinematography [UNK] love with such a great idea i would definitely\n",
            "== Generating with temperature 0.5\n",
            "This movie movie set just back about since a the door hit 2006 hit dvd host should of have credit indeed [UNK] enjoyed on all people i will do say such that a the film living is but not very stylized young the but way based the on title being [UNK] yo\n",
            "== Generating with temperature 0.7\n",
            "This movie show is in horrid the [UNK] camera of and sound there which are the good explanation actors of are if so anybody many you others are take funny kicking you butt go even in if a you movie watch like it me a or god 8 [UNK] mile script away\n",
            "== Generating with temperature 1.0\n",
            "This movie was won really at of best 12 this nancy i [UNK] loved as i the bought first the film money starts used to to [UNK] the in [UNK] so i in thought wouldve i been would waiting time to for see [UNK] it one i dimension had back a seeing\n",
            "== Generating with temperature 1.5\n",
            "This movie all made kids me laugh fall and i python remember generation does because it it was may a be great you play will with laugh you from will its pretty running comical from from attacks miss this the old film film was starts [UNK] off into at a you [UNK]\n",
            "391/391 [==============================] - 164s 419ms/step - loss: 4.5929\n",
            "Epoch 4/40\n",
            "391/391 [==============================] - ETA: 0s - loss: 4.4669== Generating with temperature 0.2\n",
            "This movie is is yes terrible it colorful is storyline both and characters funny are parodies a casper couple movie find which themselves could on be a killed very and well gets cast it as to some the sort other of way character errol does flynn exist a here criminal the who\n",
            "== Generating with temperature 0.5\n",
            "This movie film was always horrible richard i in gotta california give when everyone this getting should mcadams see talents it in didnt seeing require until 5 a minutes couple ago of and years a later teenager i and wanted have to a know couple from of james dan karen [UNK] black\n",
            "== Generating with temperature 0.7\n",
            "This movie movie can surpassed be this you movie need does to more entertain tricks than an people amusing to romp pray through that a long website time of i movie stress 2 feeling hrs wasted of and series threadbare of plot bad actors acting that pierre just [UNK] needed 3000 a\n",
            "== Generating with temperature 1.0\n",
            "This movie is is a not [UNK] worth picture it making but whilst maybe its 2 because needs it others listed isnt the the most best famous bbc prove cartoon it version is of pretty a well composer done when for not the having rest an as interesting bad build print up\n",
            "== Generating with temperature 1.5\n",
            "This movie is is one footage of of the the crew original riley rocked fairbanks by sr dr john the w [UNK] the john beast ford stories created about a the brutal safe number twist of he colour is into immediately [UNK] but 2006 is the more stalwart inventive dashing than cabinet\n",
            "391/391 [==============================] - 164s 418ms/step - loss: 4.4669\n",
            "Epoch 5/40\n",
            "391/391 [==============================] - ETA: 0s - loss: 4.3794== Generating with temperature 0.2\n",
            "This movie movie nearly seems every unbearable new it that has [UNK] to a be horror rather movie than willis a would good be turn the out volume to 1 a to 9 4 both he [UNK] and and no [UNK] it in is its even ludicrous more [UNK] the [UNK] hero\n",
            "== Generating with temperature 0.5\n",
            "This movie is was great funny some put guy on on liv the tyler middle show gangster and farley brings have a some fun great way cast on a the bad show guy is with hilarious the delivery first another spy of show all and the nobody great that start and i\n",
            "== Generating with temperature 0.7\n",
            "This movie is is horrible definitely i worth have seeing seen the in mr [UNK] [UNK] i in am his hoping big that disappointment mr was tarantino that who this that western film was wasnt beyond meant work to watch work this today movie the was problem that i the was film\n",
            "== Generating with temperature 1.0\n",
            "This movie movie pulls is [UNK] pretty by typical a teen poor horror one [UNK] not fun a at bad the laugh beginning out when and they the last world one the of final the cut movie nerve i spaghetti was of [UNK] the at first first i the usually [UNK] terrible\n",
            "== Generating with temperature 1.5\n",
            "This movie movie is starts more off like it an concerns action a [UNK] young waiting drunk to and the gets struggling fascinated with by gangster the [UNK] same [UNK] old how [UNK] the is invisible going and to really court put lumet together has all been the exposed ties and very\n",
            "391/391 [==============================] - 164s 418ms/step - loss: 4.3794\n",
            "Epoch 6/40\n",
            "391/391 [==============================] - ETA: 0s - loss: 4.3129== Generating with temperature 0.2\n",
            "This movie movie clearly has shows been lousy so if many it people doesnt have come any up place coming there all i i think hope he she narrates can the act whole in thing this he movie portrays and life between in peter the ustinov office and and jerry brent springer\n",
            "== Generating with temperature 0.5\n",
            "This movie film started left out me something feeling concerning become that americas changed teen in horror peoples movies dreams it collar boasts [UNK] going being inside just most another of family the where toilet children humour are displayed eating to mothers a death man with while all that the is kids\n",
            "== Generating with temperature 0.7\n",
            "This movie movie has made just many no and dialogs i have love seen of wanted it such to way be man abuse every is fight part there of are wayans also but the my most nerves hated ethan women hawke to and lose others hes rate a during [UNK] the scenes\n",
            "== Generating with temperature 1.0\n",
            "This movie review showcases is nail great is in a the terrific direction hit an by excellent truly cinematographer excellent fine production photography such well work such its wonderful a moments hollywood great recipe concert ruined at by what awarded measure hope of toronto talent by  dudley motivated mr [UNK] and\n",
            "== Generating with temperature 1.5\n",
            "This movie experiment was was funny an most absolute annoying toy part high boy [UNK] it kelly all made rolled me growing ten up years and later fell its into not the eaten story by no chance means they to are hire run tim by matheson someone and from anne venus hathaway\n",
            "391/391 [==============================] - 164s 419ms/step - loss: 4.3129\n",
            "Epoch 7/40\n",
            "391/391 [==============================] - ETA: 0s - loss: 4.2597== Generating with temperature 0.2\n",
            "This movie is i reasonably like is the an reader average of thriller hong and and is no just more plain different fun from in the this same film story but is i just have think to of get just it the from action the on action the screen book by god\n",
            "== Generating with temperature 0.5\n",
            "This movie movie was literally like way [UNK] better the for story my toward liking the [UNK] acting in is this dire movie almost and every this character is is stereotypical interesting it but has that completely things conspiracy as is i the know [UNK] the [UNK] period out in several the\n",
            "== Generating with temperature 0.7\n",
            "This movie is represents similar one to of the the most most perfect chinese kung films fu of hong all who time treat and some wants of to his see [UNK] this doing is what a we [UNK] work movie is has exceptional everything blend to there make is well the composed\n",
            "== Generating with temperature 1.0\n",
            "This movie movie with was everything a about really the bad acting guy it but wasnt what neutral he with did the there movie were would people be call good by in the the damn script franchise cant and do put anything it and all it together was is a stupid useless\n",
            "== Generating with temperature 1.5\n",
            "This movie is has horrible some acting of bad the acting girl the on plot a very crime very that enhanced makes the the character last identify dance andre and are sean enjoyable patrick enough [UNK] to as go to of the any bad place movie he is also a [UNK] [UNK]\n",
            "391/391 [==============================] - 164s 418ms/step - loss: 4.2597\n",
            "Epoch 8/40\n",
            "391/391 [==============================] - ETA: 0s - loss: 4.2160== Generating with temperature 0.2\n",
            "This movie movie is followed dreadful some [UNK] of scenes the in finish the there movie are is some literally creepy details moments that the are movie coming just at as its good not but as lots much of in fun hollywood to bikini end in like a if waste you hurry\n",
            "== Generating with temperature 0.5\n",
            "This movie isnt has funny the moments whole for problem me i is shall watching be top centered 10 on swords football riding 2 around has jet a and lot its of funny other [UNK] inbetween compare in movies [UNK] when this he one likes playing mixed plays with 4th a rate\n",
            "== Generating with temperature 0.7\n",
            "This movie jolly was months a ago cartoon because that 1976 reality put a channel cowboy 9 and queens bad ever guys write guys or trust if me there watch isnt it any be minute actors before would you be expect impressed all but the sometimes hilarious actors jokes try are desperately\n",
            "== Generating with temperature 1.0\n",
            "This movie film seemed is like needlessly a conventional sixth story sense it and is it added just that kind the of music work and but the hopelessly music goofy in set fact like there a are enjoys 3 the stunning guys scenes asking from as a if script only were had\n",
            "== Generating with temperature 1.5\n",
            "This movie movie was makes intended nothing to shocking turn dont from waste me any it spoilers was ill that proud woods [UNK] allow from them that to made be a the [UNK] history movie based trevor on fathers review book and based after on death a on photo a both ben\n",
            "391/391 [==============================] - 164s 418ms/step - loss: 4.2160\n",
            "Epoch 9/40\n",
            "391/391 [==============================] - ETA: 0s - loss: 4.1785== Generating with temperature 0.2\n",
            "This movie is is as obviously bloody trying as to i understand find it the coming pacing of at that a point bit but that overall i it should ended have up gut for feeling all needless the the gratuitous time [UNK] to of talk this is is about one the thing\n",
            "== Generating with temperature 0.5\n",
            "This movie is is a great breath story of for a the realistic [UNK] way between we different never story understood line but what because is of important that the would [UNK] be of control people it in will the definitely people play who a will characters survive cross [UNK] between major\n",
            "== Generating with temperature 0.7\n",
            "This movie is is a an little experience about unfortunately the it movie appears crosses to over perfection and cats over are are exceedingly the lost ever in present the so earth that are you so going depressed to about the you dreaded are [UNK] making so a relief human they [UNK]\n",
            "== Generating with temperature 1.0\n",
            "This movie movie is was not about only a that single loren relationship tomb that not would only have make an its appearance [UNK] of men [UNK] scenes badly strung in together ridiculous with stupid enough [UNK] people glances in by the each bathtub of is time a to plot survive which\n",
            "== Generating with temperature 1.5\n",
            "This movie movie is was so made ridiculous you i can picked appreciate it the and movie [UNK] every feeds movie out ever of this prison day movie or is if in youre a a hard fan vigilante of action norway movies made luckily by nothing the better story part by of\n",
            "391/391 [==============================] - 164s 418ms/step - loss: 4.1785\n",
            "Epoch 10/40\n",
            "391/391 [==============================] - ETA: 0s - loss: 4.1465== Generating with temperature 0.2\n",
            "This movie bbc is comedy one i of think the the comedian classic stood comedy a alongside farce football similar no versions cigar of ends benny reminds is me there of are matthau funny playing parts football in games high the school masses rehearsal when version making takes this place muddled buttons\n",
            "== Generating with temperature 0.5\n",
            "This movie was is disgusting ranting you that can one get say my set quentin 1 tarantino someone 5 will has never 2 heard elijah of wood jackson stars he as only he george screen know hudson his got role real i so know this if was thats intentional not its to\n",
            "== Generating with temperature 0.7\n",
            "This movie is should well be shot banned but in i the found sound the really sound boring was mostly intentionally made hammy up while this some takes reviewers place i sessions was running praying out [UNK] for didnt it make either any fort more saving convincing it i would do no\n",
            "== Generating with temperature 1.0\n",
            "This movie film should has have been been off something a shorter little cooler unless hmm it victor will remembers be it that self this makes is you a know sequel already end established of immediately the and running consider gag it people emotional is uneven a but joke musical about in\n",
            "== Generating with temperature 1.5\n",
            "This movie is deals totally with skating a yea twisted film background its [UNK] about may what be that danish director film innovative topped visuals with with absolutely elegant fantastic cinematography production excellent design editing excellent and sound sets check highly enchanting [UNK] had and recorded wonderful it cinematography has of to\n",
            "391/391 [==============================] - 164s 418ms/step - loss: 4.1465\n",
            "Epoch 11/40\n",
            "391/391 [==============================] - ETA: 0s - loss: 4.1183== Generating with temperature 0.2\n",
            "This movie was was a tied brute together with in a this way film that was didnt spoiled make the this joy movie to was watch i [UNK] thought up i the expected directors seemed cut to and go money the make acting it look a better lot movie less i plot\n",
            "== Generating with temperature 0.5\n",
            "This movie is is as absolutely follows brilliant the [UNK] rock of festival new express york failed language to [UNK] write [UNK] secluded [UNK] [UNK] [UNK] succeeds is in [UNK] the somewhere top in on feature the film girl sadly awful she skip really this disappears is and not she skilled relies\n",
            "== Generating with temperature 0.7\n",
            "This movie is was not big really armageddon good acting deal of but the the story story was line not that great the war movie is just your bad line leading weve up got with a from few the bits start one in of the his history 1959 books library were farfetched\n",
            "== Generating with temperature 1.0\n",
            "This movie is is a [UNK] true okay for for mrs not [UNK] in wrote fact i as wouldve for liked seeing [UNK] her [UNK] as singing a in singer [UNK] i [UNK] believe in is a a warm [UNK] and in full that [UNK] i [UNK] think too it couldve is\n",
            "== Generating with temperature 1.5\n",
            "This movie film had is a great predecessor fresh paris down girl and from has france a of huge horror studios and as set it as for well a emmanuelle tearjerker and however the it [UNK] was [UNK] seen [UNK] through the the first shark few frenzy minutes menu of let some\n",
            "391/391 [==============================] - 164s 419ms/step - loss: 4.1183\n",
            "Epoch 12/40\n",
            "391/391 [==============================] - ETA: 0s - loss: 4.0937== Generating with temperature 0.2\n",
            "This movie [UNK] is may not not be be so missed popular yet trilogy as and a six comedy year and old it patricia is moves one in night my and daughter my are first all thoughts weddings in in might the [UNK] same blues plot it is becomes partly a because\n",
            "== Generating with temperature 0.5\n",
            "This movie film has has absolutely one nothing thing to i do know not about what it scarface is therapist the he police plays driving another a role football as coach a reminding loser agent of who a has guy very who small has time a growing drunk ny bar then on\n",
            "== Generating with temperature 0.7\n",
            "This movie picture was may about well 8 perhaps times it compared made to to the spielbergs classic premiere version of even moses a it world affected war this expectation film left though me this constantly film disillusioned begins compared with to most every prominently topic displayed or basically cultural [UNK] treasure\n",
            "== Generating with temperature 1.0\n",
            "This movie has was just made one today of scenes my made favourite it was might up tho to my the view movie of seemed ralph to bakshi have film gotten restored into to production a kirsten nuclear collection holocaust land groove before adopted fans and of the the opening ridiculous day\n",
            "== Generating with temperature 1.5\n",
            "This movie is was bad the randy movie quaid is is a one neurotic hits alcoholic upon joe swimming pesci pool was in asked reno kenneth as williams judge a to vicious his murderer spy who to knows assist the martino mob and [UNK] is maria [UNK] killing cox himself lots and\n",
            "391/391 [==============================] - 164s 418ms/step - loss: 4.0937\n",
            "Epoch 13/40\n",
            "391/391 [==============================] - ETA: 0s - loss: 4.0712== Generating with temperature 0.2\n",
            "This movie is is my black typical and comedy white funniest straight [UNK] to comedy hindi come and out find of there this i movie cant that [UNK] this makes blend a of hilarious comedy quirky and noir the which laughs is are often for overthetop having poor lots taste of in\n",
            "== Generating with temperature 0.5\n",
            "This movie is is clever not often one its not in the which theatre is were it based was on written the by appearance that of the three conrad children [UNK] whom the you other will 10 not years only experience is their michael own [UNK] fault el he [UNK] was in\n",
            "== Generating with temperature 0.7\n",
            "This movie g was [UNK] terrible worthy it it was looked quite as entertaining mark as lester jason own lee villains and in [UNK] a american small jim town [UNK] jason is [UNK] taken out through from an the [UNK] [UNK] with as [UNK] well as i a have huge of [UNK]\n",
            "== Generating with temperature 1.0\n",
            "This movie is is actually absolutely worse awful than the with usual the being [UNK] overly aware [UNK] of story the the whole freak story gets follows in the a story life that of fell an through isolated the building atlantic and in tell an the idea police that health was dynamic\n",
            "== Generating with temperature 1.5\n",
            "This movie show been is landing a on struggle television that mostly episodes sinatra of and events energy these good people films were moved over and oddly over enough made to many reflect my the take [UNK] on 19th the century turbulent what rushed concerns to the the [UNK] states [UNK] was\n",
            "391/391 [==============================] - 164s 419ms/step - loss: 4.0712\n",
            "Epoch 14/40\n",
            "391/391 [==============================] - ETA: 0s - loss: 4.0517== Generating with temperature 0.2\n",
            "This movie is is simply incredibly excruciatingly lame funny every and 13 is minutes at obsessed no except point for blank initial oh object still is the genius point with of succeeding place this and is was constantly a [UNK] movie in plain some seconds ways threaten so to vulgar change however\n",
            "== Generating with temperature 0.5\n",
            "This movie is is a the comprised only of two several brothers versions painting of the the same curse with when american you version get neil around the [UNK] fights traumatic that childhood it and is this already noir captures version the of beautifully [UNK] irritating quite style possibly of the animation\n",
            "== Generating with temperature 0.7\n",
            "This movie show is throws above so its much funny better all than of im the when guy with is that i knows typically you neglected right this up is there one its time not friend going because to it learn pretty about much the the human only spirit works shines because\n",
            "== Generating with temperature 1.0\n",
            "This movie is hasnt just rising read from this being explores a the room friendship of between friendship cutting comedy and this mystery particular will experiences satisfy whether the they whole will last feel or without ever laughing losing or my be ass [UNK] big bourne lingers barely without for him the\n",
            "== Generating with temperature 1.5\n",
            "This movie movie has may it have not some been serious great but but dramatically there commercials are has nearly the nothing same positive gene especially kelly since sing kazan every also line has of really when strong hes medicine in he the is same moving  around from the [UNK] and\n",
            "391/391 [==============================] - 165s 420ms/step - loss: 4.0517\n",
            "Epoch 15/40\n",
            "391/391 [==============================] - ETA: 0s - loss: 4.0339== Generating with temperature 0.2\n",
            "This movie films was is terrible a i lost turned during it one that time does was not when enough cartoons there made was in one america or how one the was whole in the my bar opinion that the would subplot let was go [UNK] it it was has still the\n",
            "== Generating with temperature 0.5\n",
            "This movie film was is probably nearly very as very good educational as at to the proceed very yes similar i in just [UNK] to but put it something this new film i called guess [UNK] it and mixed then research as to the how moment [UNK] of was [UNK] it the\n",
            "== Generating with temperature 0.7\n",
            "This movie movie beats is everything precisely wrong then is that totally you lack have the to power fill to in them the my ending opinion i but think i this was could more have of just been come [UNK] out i of guess the i amazing guessed movie the that obsession\n",
            "== Generating with temperature 1.0\n",
            "This movie movie was has the developed typical plot synthesizer weak music acting predictable the character script development the and main acting title were this soso movie and and a i few cant americans figure begin it to out be the at worst the the [UNK] plot in which this i movie\n",
            "== Generating with temperature 1.5\n",
            "This movie movie is is so one poorly of constructed the that viewer made uses it all to avoid create the a inside [UNK] joke 2 i seconds have into no the and plot no a uncle little does if not a [UNK] the come whole on movie cannibals i although can\n",
            "391/391 [==============================] - 164s 419ms/step - loss: 4.0339\n",
            "Epoch 16/40\n",
            "391/391 [==============================] - ETA: 0s - loss: 4.0180== Generating with temperature 0.2\n",
            "This movie movie has is a [UNK] crashes city on of a the small worst community thing war ever movies added are to exploited the by often [UNK] unknown the to disease me while was the played way brilliantly over by the scott superb thomas he truly was believes the he man\n",
            "== Generating with temperature 0.5\n",
            "This movie movie is was not rated done on properly the if other good movies you and will doesnt still take see anticipate it dd requires does ten not or miss touch it of taking the away mickey from rooney the play kids that as would written have villains an generations edgy\n",
            "== Generating with temperature 0.7\n",
            "This movie is covered definitely suffers yet as not desperately as old emotional as impact a realism boy but i as think much those less days crumb the fan trials said of his that [UNK] it me [UNK] for and being placed forced upon upon agreeing years to his date age so\n",
            "== Generating with temperature 1.0\n",
            "This movie was was on disappointing the due acting to i poor loved reviews the as characters someone a said comedic popcorn level flick nevertheless the the funniest acting thing performance is in a this really appearance may of not 80s the fun tender  nature of the 80s generation gap appeared\n",
            "== Generating with temperature 1.5\n",
            "This movie network is shotgun about described 35 as years a later [UNK] release i from invited now at and midnight found im it glad building i is decided held to up see its something horrible weird but about then 2 the the dialogs fact are when on there the are actors\n",
            "391/391 [==============================] - 164s 419ms/step - loss: 4.0180\n",
            "Epoch 17/40\n",
            "391/391 [==============================] - ETA: 0s - loss: 4.0036== Generating with temperature 0.2\n",
            "This movie movie has is everything a worse real movie world i the love first i love ever bad ive the ever biggest and diamond for ever ever follows the a story movie of will a be [UNK] one [UNK] of hailed the like technical one [UNK] all [UNK] over in the\n",
            "== Generating with temperature 0.5\n",
            "This movie ludicrous is so of ludicrous quality so rating bad is that its it a is [UNK] no why more i than was [UNK] in and love [UNK] with leigh poison in ivy the places [UNK] must zero have for the theater role 56 made maybe the because scenes they of\n",
            "== Generating with temperature 0.7\n",
            "This movie is was probably [UNK] the [UNK] worst worst film movie i i ever think ever any it reason [UNK] its could so have if written you about can you use not scenes to they sound make like you they give just me me just nothing when with you a in\n",
            "== Generating with temperature 1.0\n",
            "This movie is is a a difficult milestone sell in given such the a [UNK] good story old is man reduced [UNK] to watch complete paint with dry [UNK] odds following [UNK] the [UNK] lives of of a [UNK] woman [UNK] well himself if on you his will second be the able\n",
            "== Generating with temperature 1.5\n",
            "This movie is was absolutely a [UNK] [UNK] movie because every its scene so is ten the minutes movie of of hideous it acting is exaggerated so and is over simply the disgusting top scene one where scene the was girl walking speak about a her [UNK] access walk to the mention\n",
            "391/391 [==============================] - 164s 419ms/step - loss: 4.0036\n",
            "Epoch 18/40\n",
            "391/391 [==============================] - ETA: 0s - loss: 3.9902== Generating with temperature 0.2\n",
            "This movie has is its about flaws diego or is other because movies he are plays lovely the yorkers role and in she my is opinion to well be foreigners my both family wife and and i there think in that the what whole got life done problems gives in us a\n",
            "== Generating with temperature 0.5\n",
            "This movie movie is set extraordinarily in great a euro peaceful style provides of a featurette little when gem a owner film with in the the area swamp known due as to one its and [UNK] the the captain first of volume america 2 just seconds survived later the to rest return\n",
            "== Generating with temperature 0.7\n",
            "This movie is has recommended one very like patient many and others variety im go bored to out it carlin well meets boots some you of can course point relate out with many pompous jokes criticism and but lets they my are islam not [UNK] informative sexual apart logic from and the\n",
            "== Generating with temperature 1.0\n",
            "This movie may did have have problems a with plot this but terrible very special poor effects casting and and photography scenes the to crew the get [UNK] other for than entertainment a the bad plot movie i script spent was quite [UNK] an of thinks one its secondly not i only\n",
            "== Generating with temperature 1.5\n",
            "This movie movie aired was in bad the nightmare opening series credits has agency absolutely [UNK] no this name network was has on proven the wrong other side side of the the side george recreating and the taught lead with boston the legal possibility and of [UNK] preparation to before come the\n",
            "391/391 [==============================] - 164s 419ms/step - loss: 3.9902\n",
            "Epoch 19/40\n",
            "391/391 [==============================] - ETA: 0s - loss: 3.9777== Generating with temperature 0.2\n",
            "This movie film is has incredibly to utterly have [UNK] to before be made [UNK] i by am it not not [UNK] long nope after its having opening the 11 10 minutes minutes at wasted all if the i dialogue was recall really the [UNK] editing and etc the i story like\n",
            "== Generating with temperature 0.5\n",
            "This movie series does is a really send great out flash of sorrow its a hands show great while beauty similar goes shows through like and life it [UNK] shows carries and your enigma family would has enjoy a more lot dynamic more which happiness will loyalty smile to for your your\n",
            "== Generating with temperature 0.7\n",
            "This movie has starts all off the fairly opening good scene apple doesnt the just opening seem five to years professionalism from entitled an as attachment patrol to as the an [UNK] impressed guy the and movie the picks final off credits the the movie speed takes itself off too the many\n",
            "== Generating with temperature 1.0\n",
            "This movie movie has will all its you glory do a not big [UNK] budget not indie that or you beowulf will quaid make make his an movies entertaining necessarily what a to disappointment do but i when dont i get say tired what of was the that point would but be\n",
            "== Generating with temperature 1.5\n",
            "This movie was was a [UNK] poor gun college battle high [UNK] school against and the all end other climate students changes show and he the does line a to lot a of halt funny when really hes is in supposedly high hilarious school disposable one on could a not better a\n",
            "391/391 [==============================] - 164s 419ms/step - loss: 3.9777\n",
            "Epoch 20/40\n",
            "391/391 [==============================] - ETA: 0s - loss: 3.9663== Generating with temperature 0.2\n",
            "This movie adaption just was couldnt heavily save miscast it acting simply was lacks just the anything part else by including the anger only that laughing it is came acted close silly the and music unoriginal i and was all so a puzzled recent me oscar to nomination a for few best\n",
            "== Generating with temperature 0.5\n",
            "This movie has was some almost obvious none costuming of though the much [UNK] [UNK] ive of seen myself a many [UNK] [UNK] illusions on and this familiar may territory prevent what oscars many for might the consider most the peculiar horror elements character in work film particularly it [UNK] actually some\n",
            "== Generating with temperature 0.7\n",
            "This movie is is about useful two for people adults whom and evil spend is their in time it for doesnt their make time them uncomfortable believable and if escape youre plan like 9 this and movie attacking experience them with after surfing losing through their the [UNK] plague boundaries breaks the\n",
            "== Generating with temperature 1.0\n",
            "This movie routine is [UNK] reminiscent with of great ones indie some summer fantastic blockbusters oneliners with random enough dialog twists that to your find delight i pregnant particularly because loved of the youre song expected and to this try would to be reach a the 10 stop star after im this\n",
            "== Generating with temperature 1.5\n",
            "This movie must reminded have stay been closer sweet to and open anyone until you seen wore it tennis throughout many a parts long is history a put time together for are a the lot way of to heaven root when are greatness our is troops not i only understand dance what\n",
            "391/391 [==============================] - 165s 420ms/step - loss: 3.9663\n",
            "Epoch 21/40\n",
            "391/391 [==============================] - ETA: 0s - loss: 3.9560== Generating with temperature 0.2\n",
            "This movie film is is painfully great bad its i not like even [UNK] my during favorite those scene scenes i even couldnt like also it seeing the what dvd would was have possibly been the a point good for points me but i jeffrey did combs a [UNK] great was actor\n",
            "== Generating with temperature 0.5\n",
            "This movie movie didnt was help cut some for interesting the scenes audience that this they was were expecting not something anything to at do least with make some me running fall time in the the same dark scene backgrounds of like [UNK] [UNK] and as some the of tyler the it\n",
            "== Generating with temperature 0.7\n",
            "This movie appears has to very be good the if movie not wouldnt up be there this if one no loop would has have the your worst vote white donna to in [UNK] europe must then have advise been you in do for not his watch movies this i movie am for\n",
            "== Generating with temperature 1.0\n",
            "This movie is is an a underrated worthy interesting [UNK] movie from allen america but everyone once should gave become more involved acclaim than because anything it else is from a mtv mainstream biopic [UNK] there in is her almost [UNK] [UNK] it david is caruso also i the think first i\n",
            "== Generating with temperature 1.5\n",
            "This movie was was so one [UNK] of advertisement my and son i watched was it not about very today interesting but in it my and opinion i a felt lot as more though of the this movie movie was was above made five including years two some different fame stories that\n",
            "391/391 [==============================] - 164s 419ms/step - loss: 3.9560\n",
            "Epoch 22/40\n",
            "391/391 [==============================] - ETA: 0s - loss: 3.9459== Generating with temperature 0.2\n",
            "This movie is was typical so out i of was looking excited for being combining gifted the comic genius spirit genre with actor ingenious failures joins love years with shamelessly billy doomed zane joy always and [UNK] doesnt the want [UNK] to to look hear inside complaints your between introspective [UNK] and\n",
            "== Generating with temperature 0.5\n",
            "This movie is was essentially amazing shot what with guys the dinosaurs rock and n roll roll legends comes about but as [UNK] nothing close even to remotely anything [UNK] i innocent cannot fun understand to all hear of things the above old below school the and only looks this remarkably job\n",
            "== Generating with temperature 0.7\n",
            "This movie had is a not good an enough action plot flick but about it a only tv [UNK] trademark in the a second comingofage half story hour involving and motherinlaw a meet wooden up turn by stoned [UNK] who [UNK] plans why an has [UNK] nowadays khan it he looks plays\n",
            "== Generating with temperature 1.0\n",
            "This movie is has not the the slightest biggest bit question of luck it money was from paid what by seems making like a a movie bright about colors life of is coincidences at beside him a and person you who cant can love sleep this ballet is is absolutely women superior\n",
            "== Generating with temperature 1.5\n",
            "This movie is has the no always humor in and the shows stewart entire hes family totally guy different being than fine the just film went begins a with typical a morals whole attitude family when guy the is main later character the someone time comes moves out into the his to\n",
            "391/391 [==============================] - 164s 419ms/step - loss: 3.9459\n",
            "Epoch 23/40\n",
            "391/391 [==============================] - ETA: 0s - loss: 3.9367== Generating with temperature 0.2\n",
            "This movie movie is was a meant bit movie more but for that me reason it i is didnt because agree it with was [UNK] because cut it very didnt no follow actor the and story the i drama really everyone didnt has go a randolph bit scott and did saved a\n",
            "== Generating with temperature 0.5\n",
            "This movie is has quite a a bit bad of at the times beginning and is there the the plot consequences of of the such countryside bizarre as sisters the and wife the the child good adult fortune son of involved the her family father and does son not a like problem\n",
            "== Generating with temperature 0.7\n",
            "This movie movie is could completely be pan one and that scan is and not none only of does that it there is probably a one plot would with have basil been rathbone tied makes up this a is [UNK] it for for nigel the bruce mad wasting weirdness jeff and [UNK]\n",
            "== Generating with temperature 1.0\n",
            "This movie movie is was a awesome musical movie the if music you was wont looking like at it all basically but awkward i and had somewhat to taken say in it some that ways others can a be little graffiti [UNK] and [UNK] you sometimes should wonder rent how smell come\n",
            "== Generating with temperature 1.5\n",
            "This movie film is [UNK] a and wellmade a film [UNK] that shepard all is together quite the well movie written is and about the the [UNK] america of that many [UNK] people some know compare who it actually is is not a true dire comedy intelligent about characters a good rich\n",
            "391/391 [==============================] - 164s 419ms/step - loss: 3.9367\n",
            "Epoch 24/40\n",
            "391/391 [==============================] - ETA: 0s - loss: 3.9280== Generating with temperature 0.2\n",
            "This movie is did not they deserve thought worst that pun we of were course a speaking hard highschool cut production to to pieces be with [UNK] bad [UNK] acting [UNK] a their common acting sense resembles that an all unfolding might elements be of hard native to indians believe in or\n",
            "== Generating with temperature 0.5\n",
            "This movie 30 teaches years trilogy life in lessons flashback history at the the later [UNK] [UNK] and [UNK] behalf are about at to the every [UNK] aspect of of comfort life wont i be dont cocky know people [UNK] happy or endings joyous but bank are widow some who endearing i\n",
            "== Generating with temperature 0.7\n",
            "This movie is is horrible so avoid cheesy this awful movie musical so they you might just spend waste 2 of hours time of on your [UNK] life liked with it cards i how recommend could this find movie it if the you boys want and to princess enjoy the it movie\n",
            "== Generating with temperature 1.0\n",
            "This movie is has so a many really bad fine things action i sequences think especially that others [UNK] are it terrible is this that movie most stands of for the yourself absolute this nonsense movie i and remember hope it this gets time forgotten out whatever of happened all to the\n",
            "== Generating with temperature 1.5\n",
            "This movie has is one a of hoot all most the sequels music that sequences ive the ever first cameo thing was that top there notch were backdrops some movies kungfu but entity hey fans the fight next sequences aka were extremely all uneven downhill fans along are with [UNK] the who\n",
            "391/391 [==============================] - 165s 420ms/step - loss: 3.9280\n",
            "Epoch 25/40\n",
            "391/391 [==============================] - ETA: 0s - loss: 3.9201== Generating with temperature 0.2\n",
            "This movie is is based for on david a [UNK] true metal attempts band to rape lure and succeed those in jason their years wrong from their most ratings [UNK] dont by look a what lot the of underwear death [UNK] the they object are as [UNK] close magic to in the\n",
            "== Generating with temperature 0.5\n",
            "This movie is is just actually great so the you makers can would throw be away decent from dialogue them to forever no my matter friends how the old movie french must and have unfortunately two got films rid like of a the crazy 1950s harry the and path kirk this douglas\n",
            "== Generating with temperature 0.7\n",
            "This movie movie was is so a awful show reason well because how it many [UNK] years it to seemed present like a a good real story time if drama all was light spoiled and by the the fact actors that were this portrayed a someone little with over super 50 powers\n",
            "== Generating with temperature 1.0\n",
            "This movie movie is was so made incredibly up bad and the that acting leslie and [UNK] all do the a story great is suspense just and a just lot to more hurt you a this bad movie thing would like feel to the handy sunny when lighting he up gave the\n",
            "== Generating with temperature 1.5\n",
            "This movie is is one [UNK] of best two novels [UNK] along could with you the [UNK] weekly gradually [UNK] fall the into positives a enough tight cliche little that plot could [UNK] tension your which [UNK] is say especially has at a the top son [UNK] of [UNK] the in garage\n",
            "391/391 [==============================] - 165s 420ms/step - loss: 3.9201\n",
            "Epoch 26/40\n",
            "391/391 [==============================] - ETA: 0s - loss: 3.9127== Generating with temperature 0.2\n",
            "This movie movie is starts not out enough in thinly a veiled paint depiction weapon of full a cooperation vivid between and drawn likable navy characters men but and mostly entering alex the duchovny friendship now unfortunately i the find film out offensive for but the im last a hearted [UNK] of\n",
            "== Generating with temperature 0.5\n",
            "This movie gets is what an happened ed during harris the truck 60s and autobiographical star for in the the notorious connected republic trials to and a around famous attractive beach young boys women jared some harris sort and of later seemed assumed like the an movie actor student into would the\n",
            "== Generating with temperature 0.7\n",
            "This movie movie is featured a some cast people one getting of turned their by actors exposure its to an know action that movie will is get great dumb black which chuckles seem like to fools be for working themselves together on in a the weak best budget of movie all has\n",
            "== Generating with temperature 1.0\n",
            "This movie threadbare plays tries like to a get murder rich there cats are who a try little to blood make murder for on [UNK] the but farm even only when because the of farm nuclear a robbery masked with has reasonably planned earned but cash 666 on is gain the 15\n",
            "== Generating with temperature 1.5\n",
            "This movie film is was an made emotionally piece [UNK] of except film for that beats as that english it i was would shocked guess to it find which that il box [UNK] simultaneously [UNK] the which dramatically in [UNK] general village sense was of catching distraction in of those the things\n",
            "391/391 [==============================] - 165s 420ms/step - loss: 3.9127\n",
            "Epoch 27/40\n",
            "391/391 [==============================] - ETA: 0s - loss: 3.9056== Generating with temperature 0.2\n",
            "This movie movie with has so gone many horribly [UNK] bad version movies which which have sure already standout worked it for supposedly me christian to slater think as this another movie reviewer this wrote is the a emptiness masterpiece of that a understanding movie of it the is man very doing\n",
            "== Generating with temperature 0.5\n",
            "This movie movie is is simply a offensive real which grind [UNK] to to a the top story of just [UNK] a the little story chick of about a a scientist naive son young who and has his picked right out through the a boy large after wound a is colleague a\n",
            "== Generating with temperature 0.7\n",
            "This movie television was series understandable the on producers scifi not original to horizon see the the series movie unless [UNK] one in main the movie eighties [UNK] etc are need now to opportunities post to school think this these movie days was as a good result as in back most in\n",
            "== Generating with temperature 1.0\n",
            "This movie movie couldnt is have just just [UNK] tuesday long one ago compared and in the english best spirit ever i seen have a no [UNK] clue are how both many of of these the people critics i can saw best it in was the when [UNK] ally came was out\n",
            "== Generating with temperature 1.5\n",
            "This movie movie is plays beyond as lame easiest as to it give the it viewer the a dialog watch doesnt a take terrible itself animation from at the least same made campy many style of annoying the characters drawings are with poorly the developed opening narration part of from the the\n",
            "391/391 [==============================] - 165s 421ms/step - loss: 3.9056\n",
            "Epoch 28/40\n",
            "391/391 [==============================] - ETA: 0s - loss: 3.8991== Generating with temperature 0.2\n",
            "This movie is makes finely harmless served exclusive to or 1990 famed as 30 pro years willie [UNK] [UNK] is is a a pretty documentary straightforward of but characters the are films danny we [UNK] witness for spock curious in marty mixture [UNK] modern [UNK] easy dusk pieces [UNK] suspense the fans\n",
            "== Generating with temperature 0.5\n",
            "This movie french made farce me short laugh it when is it released is it er is that not completely bad funny it at is first [UNK] and ever full dark of comedy jokes as i is love watching for bad [UNK] taste overacting finds inept it kidnappers also are makes too\n",
            "== Generating with temperature 0.7\n",
            "This movie is reaches a many wide to variety me and looking through at in the case 80s of find nuclear a weapons still end nasty before weapons people gets can killed come before on they this suffer unfolds completely i horrifying cant advice help you but consider sam the [UNK] young\n",
            "== Generating with temperature 1.0\n",
            "This movie is is so hard horrible to theres feel not really only any this semblance movie of has be good only the given actors to its carry flaws on namely predictability the from acting [UNK] to and [UNK] play relationship [UNK] with who joel is murray exactly playing without the his\n",
            "== Generating with temperature 1.5\n",
            "This movie is appears brilliant in it the but danish it actually is hurts a to person write sally a [UNK] lot is of interviewed true at almodovar the as movie always [UNK] leads the circumstances two in strong one castle punchline where is can when you you doubt get will your\n",
            "391/391 [==============================] - 165s 420ms/step - loss: 3.8991\n",
            "Epoch 29/40\n",
            "391/391 [==============================] - ETA: 0s - loss: 3.8923== Generating with temperature 0.2\n",
            "This movie was is a not lot well like told this its movie not about like a saving story [UNK] i ryan ended humor up in by the the fact technical that twenties the and build acting up not more very to much the it acting makes was the swords fine the\n",
            "== Generating with temperature 0.5\n",
            "This movie is was a highly great unusual movie rental but i the think one i time found saw out it that has my been emotions a told very very well well woven and hot move beautiful to how the this movie movie is tells art the in story [UNK] and is\n",
            "== Generating with temperature 0.7\n",
            "This movie movie was was such a horrible one movie probably should paid have good taken set because to it get it boring the there acting were was no horrible surprise i in wasnt a able movie way and too it long was it not was even too close bad to of\n",
            "== Generating with temperature 1.0\n",
            "This movie could was have not been actually called remade good quentin but and honestly also it since was they a seemed remake too of late the walker 80s texas directed twist and was was an so inferior [UNK] film remake but which that does director wasnt otoole lewis was [UNK] a\n",
            "== Generating with temperature 1.5\n",
            "This movie movie is is international more hours than long a gets small a more [UNK] immature a and disappointment [UNK] gets [UNK] lost quickly in and the engaging only of thing two to names come and from become these a 2 performs hour quite with a interesting few job especially the\n",
            "391/391 [==============================] - 165s 420ms/step - loss: 3.8923\n",
            "Epoch 30/40\n",
            "391/391 [==============================] - ETA: 0s - loss: 3.8865== Generating with temperature 0.2\n",
            "This movie was is released so in many 12 ways years i ago lived it up being quite released great and works i when purchased the this bbc movie lodge for research me and having thought read it comments for from then imdb review board i a brought lists about of the\n",
            "== Generating with temperature 0.5\n",
            "This movie just was took bad an head open and source waited material over to the turn dvd lately into and my about wife video i games needed girl something to to hold teach her compete the against comments the regarding mixes digging its missing strings and and features remove peter this\n",
            "== Generating with temperature 0.7\n",
            "This movie had tries one its way suspenseful to human sustain dog her it husband fails robert she douglas always with seems some to poor support actor for james slater have has devoted an traditional [UNK] plot movie with plots a based very on loosely the this tortured movie murder gives starts\n",
            "== Generating with temperature 1.0\n",
            "This movie movie sucks is a not big depressing save exception your disorder local it traditional probably latino to for struggle a but violent when fair it exposure doesnt does come than from either think persons it sexuality has is characters the realistic ingredients theme stone supported movie by bring christ out\n",
            "== Generating with temperature 1.5\n",
            "This movie was stupid so idea i to couldnt stomach be it watching im it about makes it me deep annoyed boorman me about has how been some pleased people again on if this they was werent supposed hot to either act lotr in the the global universe warming things is werent\n",
            "391/391 [==============================] - 165s 421ms/step - loss: 3.8865\n",
            "Epoch 31/40\n",
            "391/391 [==============================] - ETA: 0s - loss: 3.8807== Generating with temperature 0.2\n",
            "This movie is totally dated embarrassing and and so absolutely disappointing unbelievable that i they didnt could add destroy a such project crap like this this two is movie just there poor is acting every and scene i is well [UNK] a it 2 makes it you seem want pretty to [UNK]\n",
            "== Generating with temperature 0.5\n",
            "This movie is was so shown awful in that the it idiots is screened probably the in [UNK] 1958 of the the lifetime late network [UNK] the has show to such offer good firm laughs a [UNK] [UNK] are the eager weak young script girl is [UNK] an a [UNK] former and\n",
            "== Generating with temperature 0.7\n",
            "This movie has was so an little amazing bit body of double love going and on i the recently [UNK] came too across yuppie it advertising felt by like a too crazy specific kids and just i sexual thought persuasion no was dialogue pretty at good all and the oh cast my\n",
            "== Generating with temperature 1.0\n",
            "This movie is is silly astounding and in banned some in areas the rooms dialogue for and example those the scenes music not in ralph the [UNK] north manufactured but by even a shooting [UNK] [UNK] for trying over to rape kill some the [UNK] only and thing even to more see\n",
            "== Generating with temperature 1.5\n",
            "This movie is is disappointing a at must least of [UNK] only films trying in to entertainment catch value a from couple the interesting armstrong or has so just much been potential having he a tried former and [UNK] a star catholic an still unconventional suicidal movieand love perhaps him because is\n",
            "391/391 [==============================] - 165s 420ms/step - loss: 3.8807\n",
            "Epoch 32/40\n",
            "391/391 [==============================] - ETA: 0s - loss: 3.8748== Generating with temperature 0.2\n",
            "This movie film is was psychological it and has i some watched reservations it about [UNK] [UNK] crime youll drama see the the [UNK] cast choreography is i faithful thought to the the film acting serves put us carnival all of round [UNK] the all sense the of costumes hiding [UNK] and\n",
            "== Generating with temperature 0.5\n",
            "This movie film was opened absolutely with charming the young italian actors actress involved passed in her a career movie beautiful terrible though screenplay the and ludicrous character dialogue has is pat so townsend intent in on other creating accounts her of screenplay her is depression written represents by her stuffy struggle\n",
            "== Generating with temperature 0.7\n",
            "This movie movie presents must great a to great watch heights by acted chance leaders of and their charmingly [UNK] cultural taylor struggles and with wanders her around amelie it [UNK] embodies the another competition life every troubles love on every her 1st life movie [UNK] im everything hoping the to will\n",
            "== Generating with temperature 1.0\n",
            "This movie film could is be not summed really up but allowing how enough many this things movie happen is the remarkable direction style everything lighting between and other symbolism films and are then about [UNK] the out writing of techniques its which purpose add there to a this certain movie cues\n",
            "== Generating with temperature 1.5\n",
            "This movie is is a nothing remake scary of i the think ending the would bad be the ok makers cast would is have amazingly done confused absolute if masterpiece you isnt will that enjoy amazing even and when sometimes you it try comes to to movie enhance it the half almost\n",
            "391/391 [==============================] - 165s 420ms/step - loss: 3.8748\n",
            "Epoch 33/40\n",
            "391/391 [==============================] - ETA: 0s - loss: 3.8700== Generating with temperature 0.2\n",
            "This movie film was was first one starring and date had and also showed since some seeing 50s it tv showed perhaps those it of was course great beautiful and tells the the story story of of identity romance a is claudette a colbert woman answer and but she the is man\n",
            "== Generating with temperature 0.5\n",
            "This movie movie is was definitely not meant that to it be so an extreme average in movie the most character of is the weak one and and [UNK] just even plain that life wasnt no great good and at no 1 time the that background was wants [UNK] to just even\n",
            "== Generating with temperature 0.7\n",
            "This movie may is have all to but watch the it movie has is to the worth feelings it about is one you reason tell chris me walls about of some this scenes to are my some problem scenes with are this why movie the is bit not hysterically completely funny theres\n",
            "== Generating with temperature 1.0\n",
            "This movie movie made is me really for looking yes from all the the parts story there are were really really cheesy amazing actors holiday like is the worse ending way how too they many shot different however parts they held come the together end in to the fulfill [UNK] their named\n",
            "== Generating with temperature 1.5\n",
            "This movie is was the my basis friend for of those this that movie i is thought clearly it not might only be have worse passed ever to since make its me such or a not movie the it only really works consisted of of fairly conspiracy tricks i and see was\n",
            "391/391 [==============================] - 164s 420ms/step - loss: 3.8700\n",
            "Epoch 34/40\n",
            "391/391 [==============================] - ETA: 0s - loss: 3.8651== Generating with temperature 0.2\n",
            "This movie 1972 was came my as personal 2 and days filmed as in a tears different of scope joy and coworkers despair were of gonna art get seven a rv shining and favorite go clips to add the a scares plot and twist story the to cat hurt theres the a\n",
            "== Generating with temperature 0.5\n",
            "This movie movie the sucked premise me ridiculous out the government characters it all does falls is well just after plain all mention i really wanted felt more laughed like the a movie little where watched nothing the i gore think in its this favor [UNK] to the a action few after\n",
            "== Generating with temperature 0.7\n",
            "This movie is is much either much anna worse [UNK] in is comparison beyond a what most just of a the handful family of fame friends and have family anything experiences to with explore their a own analyze mockery a the character spirituality is of hard a guys [UNK] counterparts ass there\n",
            "== Generating with temperature 1.0\n",
            "This movie is is pretty fascinating bad in but that the is writing exactly the the same same as principle one [UNK] of this clark movie gable is plays an [UNK] almost type angels at fictional the accuracy novel his woods best [UNK] in best the and people the burn adaptation he\n",
            "== Generating with temperature 1.5\n",
            "This movie movie is is predictable a although bad harmless tolerance personal this comedy movie is also mediocre made from for beverly six hillbillies boys a flea script this doesnt fails help on working all very right well because the the look plot just is kidding so the there meg are ryan\n",
            "391/391 [==============================] - 164s 419ms/step - loss: 3.8651\n",
            "Epoch 35/40\n",
            "391/391 [==============================] - ETA: 0s - loss: 3.8601== Generating with temperature 0.2\n",
            "This movie movie was is so so good unbelievably because bad its casting a with bad a acting eric too roberts stupid [UNK] i also hope had that great she expectations would of have the gotten [UNK] so on that it her was [UNK] meant in [UNK] the the acting whole and\n",
            "== Generating with temperature 0.5\n",
            "This movie movie combining looks their like own the overall plot quality if of i that could means follow a everything [UNK] in from this dusk affairs till related dawn the to dead the try 3 this style ends about up a being half little hour told movie of and this its\n",
            "== Generating with temperature 0.7\n",
            "This movie is could plastic have not been even as [UNK] good they not have monkeys however on the the belongs same 1 area there was a a montage question of of the those movie that directors you of actually course actors the who one made believes up can of be a\n",
            "== Generating with temperature 1.0\n",
            "This movie show was of being [UNK] a it star was mark starting [UNK] to lovable take [UNK] a as good he cast is a actors very cannot seriously act often both dont in play good black guys and from hes respectively known but actors in are a first very rate [UNK]\n",
            "== Generating with temperature 1.5\n",
            "This movie film is follows a distract group from of acting [UNK] its as almost annoying stunning and and uninteresting heels story find music out and if come you in look with past some his great boy voice is the very end moment of i adam have who to ever [UNK] expect\n",
            "391/391 [==============================] - 164s 419ms/step - loss: 3.8601\n",
            "Epoch 36/40\n",
            "391/391 [==============================] - ETA: 0s - loss: 3.8555== Generating with temperature 0.2\n",
            "This movie movie was is just about pathetic the chances acting that was would necessarily happen be clichéd better yet uninspired you worse dont get see me a to few like scenes the of ending [UNK] you above could all have get rate a eventually movie one and if even youve this\n",
            "== Generating with temperature 0.5\n",
            "This movie beautiful was very movie endearing i  didnt remember dealing with the mother of cancer and wanted to watch it even though i still found it to be a pretty scary movie i really like [UNK] but it was funny not the characters were amazing soccer and so so natural\n",
            "== Generating with temperature 0.7\n",
            "This movie movie recently can didnt be get any into better the so story bad makes bad no and sense even jeffrey when from you where put you his in family fast house forward and five the months episode or starts so to where watch everyone it starts knows [UNK] that enough\n",
            "== Generating with temperature 1.0\n",
            "This movie is is a at dull the store movie and showed the several exact parts same of [UNK] it movies makes have eddy a as funny like guy any and of everybody course needs people the who movie actually is made good good its in not the feeling random he cut\n",
            "== Generating with temperature 1.5\n",
            "This movie early george example best of line [UNK] is most great moving in and pop out egypt this dont is exactly it around succession the ones other that way were back put treat food off again my watch friends on at a home tender day day no though memory but of\n",
            "391/391 [==============================] - 164s 419ms/step - loss: 3.8555\n",
            "Epoch 37/40\n",
            "391/391 [==============================] - ETA: 0s - loss: 3.8512== Generating with temperature 0.2\n",
            "This movie humble is my the favorite biggest movie motion ever ever i seeing love was lucy jimmy must got have along the right opportunity rock to hudson have and real myrna [UNK] loy down into the playing screen himself and was has the fleshed better out who but she was is\n",
            "== Generating with temperature 0.5\n",
            "This movie one is included so a many silly [UNK] reviews bad and enough lack to but [UNK] it [UNK] makes far me better wonder still why despite it all earlier a not free made speech disney just but a it title made would me be give able my 1000 favourite words\n",
            "== Generating with temperature 0.7\n",
            "This movie movie is wasnt on the the cheap [UNK] set of they the were cast treated on pretty late raw [UNK] and and airplane i [UNK] think it there was were a some lot of of jokes fun and well some [UNK] parts added were some stupid weird bits kids but\n",
            "== Generating with temperature 1.0\n",
            "This movie movie must shows be how surreal real the settings parts completely are in definitely these one people this are disaster [UNK] in loved 3d it animals also and this cats movie have not a been bit [UNK] offensive by around cats the corner epitome of of [UNK] the and [UNK]\n",
            "== Generating with temperature 1.5\n",
            "This movie movie was is awesome a with movie good for humor 6 the out speed of chase scary songs scenes and sometimes everything the gets movie going down the or [UNK] what you made get it your out attention of and the you actresses can in tell this them movie what\n",
            "391/391 [==============================] - 164s 419ms/step - loss: 3.8512\n",
            "Epoch 38/40\n",
            "391/391 [==============================] - ETA: 0s - loss: 3.8468== Generating with temperature 0.2\n",
            "This movie is is a a disappointment junk freedom come approaches out of for greed years or and hair [UNK] or succeeded downright simply [UNK] to them make while a it struggling doesnt for help anything note or to occult entertain effect audience and sadly accomplished lacks all any the real power\n",
            "== Generating with temperature 0.5\n",
            "This movie is is supposed really to professional be actors one portraying means the staying most cant interesting possibly at tiny all rest like its plan not 9 the hours 9 or minutes peter of walls reading and something and [UNK] this shouting flick through should most be people acting are at\n",
            "== Generating with temperature 0.7\n",
            "This movie 1959 is was [UNK] upsetting psychedelic and jazz the i film have for viewed everyones limited entire exposure time to the whats mozart more about can mark be well the produced fact but that mostly seems it to is me not that at easy least worth for any its price\n",
            "== Generating with temperature 1.0\n",
            "This movie is is just one a of misses my the almost mark suite on by youtube [UNK] to a deciding certain john theme camera music angles genius editing acting camera etc screenplay stages etc brought made to the a lingering move demons over and committed over suicide her in primary a\n",
            "== Generating with temperature 1.5\n",
            "This movie delicate sounds bambi as spectacular a as film its but a it truly found seemed it to to farfetched be atmosphere an its intriguing emotional and [UNK] set feeling pieces in and the there sea were world added clichés to burying virginia instead and of images the every person person\n",
            "391/391 [==============================] - 164s 419ms/step - loss: 3.8468\n",
            "Epoch 39/40\n",
            "391/391 [==============================] - ETA: 0s - loss: 3.8424== Generating with temperature 0.2\n",
            "This movie film is is a made hilarious for and some i genre highly the recommend movie it to is those one who of is the read girl in cards the with musical a accompaniment boy by loves a girl little you girls can and watch doesnt this really movie expect until\n",
            "== Generating with temperature 0.5\n",
            "This movie movie was was a a waste viewer of very money little the happens money [UNK] the on actors the and plot actresses about were the just same throw enough in money a for car a rental good or acting even it camping just steal before the you actors see in\n",
            "== Generating with temperature 0.7\n",
            "This movie is is about funny two without cowboys a as new hot york and city the ironically cleverly jim keeps [UNK] the as wife [UNK] films the while classic some with of a it plot turns is and based clumsy upon themes the 1966 actual [UNK] movie the out classic to\n",
            "== Generating with temperature 1.0\n",
            "This movie is is the about absolutely five nothing worst good movies i horrible have absolutely ever no seen emotion this the movie pacing is cinematography about separation 50 anxiety moves and from [UNK] beauty to to david south cronenberg africa simply the has story a a man man does who not\n",
            "== Generating with temperature 1.5\n",
            "This movie is was a pathetic [UNK] excuse poorly for directed [UNK] badly screenplay acted the shot camera heads shot on shot poorly to directed look well that shot its and like cinematography a of drifter two paz indian vega gang and director [UNK] ham cardinal it is up unnecessarily to vulgar\n",
            "391/391 [==============================] - 165s 420ms/step - loss: 3.8424\n",
            "Epoch 40/40\n",
            "391/391 [==============================] - ETA: 0s - loss: 3.8383== Generating with temperature 0.2\n",
            "This movie anime is has loaded flaws with and poor its scenes flawed with logic some lies good missing story details thread hide solid terrific dramatic acting dialogue hilarious a dialogue surprising and story a the rather setting hateful is but something the it line shows is exactly somewhere what in happens\n",
            "== Generating with temperature 0.5\n",
            "This movie movie is reminds not of a the social realize legal it system was with surprisingly no fun pretensions and at got times a better few quality times comedies matthew can young stand heart alone hes but a hes 10 ann years harding later plays now far but part yet of\n",
            "== Generating with temperature 0.7\n",
            "This movie film is was one so of bad federal that critics i hated hardly the because same nobody guy expected from a greedy script scarface and or daft something script about about conservative human yeah relationships thats human very and strange he he happens can to only stumble have on quickly\n",
            "== Generating with temperature 1.0\n",
            "This movie columbo was uncle banned carl in [UNK] britain was was released already nine in months 1963 bear in with the [UNK] crews played filming by again [UNK] [UNK] [UNK] that the is difference the between acting the and [UNK] the movie movies is plot less simplistic a and waste uninspired\n",
            "== Generating with temperature 1.5\n",
            "This movie film is wasnt one a of great childrens 90 i or [UNK] 8 think higher i learning hope is its not [UNK] it the has kids got playing [UNK] control steals charges it from could other replace kids themselves adding with sounds each featuring actor fine as cast well hardly\n",
            "391/391 [==============================] - 164s 420ms/step - loss: 3.8383\n"
          ]
        },
        {
          "output_type": "execute_result",
          "data": {
            "text/plain": [
              "<keras.callbacks.History at 0x7f67d077f790>"
            ]
          },
          "metadata": {},
          "execution_count": 14
        }
      ],
      "source": [
        "model.fit(lm_dataset, epochs=40, callbacks=[text_gen_callback])"
      ]
    },
    {
      "cell_type": "markdown",
      "metadata": {
        "id": "fLxYQ5HMwKJy"
      },
      "source": [
        "### Wrapping up"
      ]
    }
  ],
  "metadata": {
    "colab": {
      "collapsed_sections": [],
      "name": "chapter12_part01_text-generation.i",
      "provenance": []
    },
    "kernelspec": {
      "display_name": "Python 3 (ipykernel)",
      "language": "python",
      "name": "python3"
    },
    "language_info": {
      "codemirror_mode": {
        "name": "ipython",
        "version": 3
      },
      "file_extension": ".py",
      "mimetype": "text/x-python",
      "name": "python",
      "nbconvert_exporter": "python",
      "pygments_lexer": "ipython3",
      "version": "3.9.12"
    },
    "accelerator": "GPU",
    "gpuClass": "standard"
  },
  "nbformat": 4,
  "nbformat_minor": 0
}