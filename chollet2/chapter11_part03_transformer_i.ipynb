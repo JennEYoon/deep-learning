{
  "cells": [
    {
      "cell_type": "markdown",
      "metadata": {
        "id": "hj8mwPWRMoAE"
      },
      "source": [
        "### Chollet 2nd ed, chp 11 part 3 transformers.  \n",
        "run 1 GPU, on datasciY acct, Colab.  \n",
        "\n"
      ]
    },
    {
      "cell_type": "markdown",
      "metadata": {
        "id": "ANXejiuWMoAJ"
      },
      "source": [
        "## The Transformer architecture"
      ]
    },
    {
      "cell_type": "markdown",
      "metadata": {
        "id": "s7dhFDp-MoAJ"
      },
      "source": [
        "### Understanding self-attention"
      ]
    },
    {
      "cell_type": "markdown",
      "metadata": {
        "id": "vVubEB9eMoAK"
      },
      "source": [
        "#### Generalized self-attention: the query-key-value model"
      ]
    },
    {
      "cell_type": "markdown",
      "metadata": {
        "id": "JWLYXSusMoAK"
      },
      "source": [
        "### Multi-head attention"
      ]
    },
    {
      "cell_type": "markdown",
      "metadata": {
        "id": "3gUn48TyMoAL"
      },
      "source": [
        "### The Transformer encoder"
      ]
    },
    {
      "cell_type": "markdown",
      "metadata": {
        "id": "vweuXBxUMoAL"
      },
      "source": [
        "**Getting the data**"
      ]
    },
    {
      "cell_type": "code",
      "execution_count": 1,
      "metadata": {
        "colab": {
          "base_uri": "https://localhost:8080/"
        },
        "id": "XhBAIFabMoAM",
        "outputId": "84dce213-e997-4569-df1b-62410c18fbb2"
      },
      "outputs": [
        {
          "output_type": "stream",
          "name": "stdout",
          "text": [
            "  % Total    % Received % Xferd  Average Speed   Time    Time     Time  Current\n",
            "                                 Dload  Upload   Total   Spent    Left  Speed\n",
            "100 80.2M  100 80.2M    0     0  29.0M      0  0:00:02  0:00:02 --:--:-- 29.0M\n"
          ]
        }
      ],
      "source": [
        "!curl -O https://ai.stanford.edu/~amaas/data/sentiment/aclImdb_v1.tar.gz\n",
        "!tar -xf aclImdb_v1.tar.gz\n",
        "!rm -r aclImdb/train/unsup"
      ]
    },
    {
      "cell_type": "markdown",
      "metadata": {
        "id": "HQQQuUhKMoAN"
      },
      "source": [
        "**Preparing the data**"
      ]
    },
    {
      "cell_type": "code",
      "execution_count": 2,
      "metadata": {
        "colab": {
          "base_uri": "https://localhost:8080/"
        },
        "id": "9N065WjkMoAO",
        "outputId": "a3152be7-680e-4907-a0b6-44077723432b"
      },
      "outputs": [
        {
          "output_type": "stream",
          "name": "stdout",
          "text": [
            "Found 20000 files belonging to 2 classes.\n",
            "Found 5000 files belonging to 2 classes.\n",
            "Found 25000 files belonging to 2 classes.\n"
          ]
        }
      ],
      "source": [
        "import os, pathlib, shutil, random\n",
        "from tensorflow import keras\n",
        "batch_size = 32\n",
        "base_dir = pathlib.Path(\"aclImdb\")\n",
        "val_dir = base_dir / \"val\"\n",
        "train_dir = base_dir / \"train\"\n",
        "for category in (\"neg\", \"pos\"):\n",
        "    os.makedirs(val_dir / category)\n",
        "    files = os.listdir(train_dir / category)\n",
        "    random.Random(1337).shuffle(files)\n",
        "    num_val_samples = int(0.2 * len(files))\n",
        "    val_files = files[-num_val_samples:]\n",
        "    for fname in val_files:\n",
        "        shutil.move(train_dir / category / fname,\n",
        "                    val_dir / category / fname)\n",
        "\n",
        "train_ds = keras.utils.text_dataset_from_directory(\n",
        "    \"aclImdb/train\", batch_size=batch_size\n",
        ")\n",
        "val_ds = keras.utils.text_dataset_from_directory(\n",
        "    \"aclImdb/val\", batch_size=batch_size\n",
        ")\n",
        "test_ds = keras.utils.text_dataset_from_directory(\n",
        "    \"aclImdb/test\", batch_size=batch_size\n",
        ")\n",
        "text_only_train_ds = train_ds.map(lambda x, y: x)"
      ]
    },
    {
      "cell_type": "markdown",
      "metadata": {
        "id": "F-XyfqcTMoAP"
      },
      "source": [
        "**Vectorizing the data**"
      ]
    },
    {
      "cell_type": "code",
      "execution_count": 3,
      "metadata": {
        "id": "W_zTskSLMoAP"
      },
      "outputs": [],
      "source": [
        "from tensorflow.keras import layers\n",
        "\n",
        "max_length = 600\n",
        "max_tokens = 20000\n",
        "text_vectorization = layers.TextVectorization(\n",
        "    max_tokens=max_tokens,\n",
        "    output_mode=\"int\",\n",
        "    output_sequence_length=max_length,\n",
        ")\n",
        "text_vectorization.adapt(text_only_train_ds)\n",
        "\n",
        "int_train_ds = train_ds.map(\n",
        "    lambda x, y: (text_vectorization(x), y),\n",
        "    num_parallel_calls=4)\n",
        "int_val_ds = val_ds.map(\n",
        "    lambda x, y: (text_vectorization(x), y),\n",
        "    num_parallel_calls=4)\n",
        "int_test_ds = test_ds.map(\n",
        "    lambda x, y: (text_vectorization(x), y),\n",
        "    num_parallel_calls=4)"
      ]
    },
    {
      "cell_type": "markdown",
      "metadata": {
        "id": "OEILZneOMoAQ"
      },
      "source": [
        "**Transformer encoder implemented as a subclassed `Layer`**"
      ]
    },
    {
      "cell_type": "code",
      "execution_count": 4,
      "metadata": {
        "id": "6GxoBEu0MoAQ"
      },
      "outputs": [],
      "source": [
        "import tensorflow as tf\n",
        "from tensorflow import keras\n",
        "from tensorflow.keras import layers\n",
        "\n",
        "class TransformerEncoder(layers.Layer):\n",
        "    def __init__(self, embed_dim, dense_dim, num_heads, **kwargs):\n",
        "        super().__init__(**kwargs)\n",
        "        self.embed_dim = embed_dim\n",
        "        self.dense_dim = dense_dim\n",
        "        self.num_heads = num_heads\n",
        "        self.attention = layers.MultiHeadAttention(\n",
        "            num_heads=num_heads, key_dim=embed_dim)\n",
        "        self.dense_proj = keras.Sequential(\n",
        "            [layers.Dense(dense_dim, activation=\"relu\"),\n",
        "             layers.Dense(embed_dim),]\n",
        "        )\n",
        "        self.layernorm_1 = layers.LayerNormalization()\n",
        "        self.layernorm_2 = layers.LayerNormalization()\n",
        "\n",
        "    def call(self, inputs, mask=None):\n",
        "        if mask is not None:\n",
        "            mask = mask[:, tf.newaxis, :]\n",
        "        attention_output = self.attention(\n",
        "            inputs, inputs, attention_mask=mask)\n",
        "        proj_input = self.layernorm_1(inputs + attention_output)\n",
        "        proj_output = self.dense_proj(proj_input)\n",
        "        return self.layernorm_2(proj_input + proj_output)\n",
        "\n",
        "    def get_config(self):\n",
        "        config = super().get_config()\n",
        "        config.update({\n",
        "            \"embed_dim\": self.embed_dim,\n",
        "            \"num_heads\": self.num_heads,\n",
        "            \"dense_dim\": self.dense_dim,\n",
        "        })\n",
        "        return config"
      ]
    },
    {
      "cell_type": "markdown",
      "metadata": {
        "id": "eZkrOotiMoAR"
      },
      "source": [
        "**Using the Transformer encoder for text classification**"
      ]
    },
    {
      "cell_type": "code",
      "execution_count": 5,
      "metadata": {
        "colab": {
          "base_uri": "https://localhost:8080/"
        },
        "id": "YPqYEX1BMoAR",
        "outputId": "1fc1d629-91b5-48d2-f0ed-ad45143b2b1e"
      },
      "outputs": [
        {
          "output_type": "stream",
          "name": "stdout",
          "text": [
            "Model: \"model\"\n",
            "_________________________________________________________________\n",
            " Layer (type)                Output Shape              Param #   \n",
            "=================================================================\n",
            " input_1 (InputLayer)        [(None, None)]            0         \n",
            "                                                                 \n",
            " embedding (Embedding)       (None, None, 256)         5120000   \n",
            "                                                                 \n",
            " transformer_encoder (Transf  (None, None, 256)        543776    \n",
            " ormerEncoder)                                                   \n",
            "                                                                 \n",
            " global_max_pooling1d (Globa  (None, 256)              0         \n",
            " lMaxPooling1D)                                                  \n",
            "                                                                 \n",
            " dropout (Dropout)           (None, 256)               0         \n",
            "                                                                 \n",
            " dense_2 (Dense)             (None, 1)                 257       \n",
            "                                                                 \n",
            "=================================================================\n",
            "Total params: 5,664,033\n",
            "Trainable params: 5,664,033\n",
            "Non-trainable params: 0\n",
            "_________________________________________________________________\n"
          ]
        }
      ],
      "source": [
        "vocab_size = 20000\n",
        "embed_dim = 256\n",
        "num_heads = 2\n",
        "dense_dim = 32\n",
        "\n",
        "inputs = keras.Input(shape=(None,), dtype=\"int64\")\n",
        "x = layers.Embedding(vocab_size, embed_dim)(inputs)\n",
        "x = TransformerEncoder(embed_dim, dense_dim, num_heads)(x)\n",
        "x = layers.GlobalMaxPooling1D()(x)\n",
        "x = layers.Dropout(0.5)(x)\n",
        "outputs = layers.Dense(1, activation=\"sigmoid\")(x)\n",
        "model = keras.Model(inputs, outputs)\n",
        "model.compile(optimizer=\"rmsprop\",\n",
        "              loss=\"binary_crossentropy\",\n",
        "              metrics=[\"accuracy\"])\n",
        "model.summary()"
      ]
    },
    {
      "cell_type": "markdown",
      "metadata": {
        "id": "UEv0AGfIMoAS"
      },
      "source": [
        "**Training and evaluating the Transformer encoder based model**"
      ]
    },
    {
      "cell_type": "code",
      "execution_count": 6,
      "metadata": {
        "colab": {
          "base_uri": "https://localhost:8080/"
        },
        "id": "sJIcisscMoAS",
        "outputId": "638ad333-0ee7-475b-9a79-456348f32306"
      },
      "outputs": [
        {
          "output_type": "stream",
          "name": "stdout",
          "text": [
            "Epoch 1/20\n",
            "625/625 [==============================] - 105s 157ms/step - loss: 0.4820 - accuracy: 0.7755 - val_loss: 0.3148 - val_accuracy: 0.8612\n",
            "Epoch 2/20\n",
            "625/625 [==============================] - 99s 158ms/step - loss: 0.3227 - accuracy: 0.8620 - val_loss: 0.2647 - val_accuracy: 0.8888\n",
            "Epoch 3/20\n",
            "625/625 [==============================] - 99s 158ms/step - loss: 0.2460 - accuracy: 0.9010 - val_loss: 0.2636 - val_accuracy: 0.8928\n",
            "Epoch 4/20\n",
            "625/625 [==============================] - 99s 158ms/step - loss: 0.1939 - accuracy: 0.9263 - val_loss: 0.2720 - val_accuracy: 0.8932\n",
            "Epoch 5/20\n",
            "625/625 [==============================] - 100s 160ms/step - loss: 0.1574 - accuracy: 0.9395 - val_loss: 0.2850 - val_accuracy: 0.8944\n",
            "Epoch 6/20\n",
            "625/625 [==============================] - 100s 160ms/step - loss: 0.1318 - accuracy: 0.9497 - val_loss: 0.3795 - val_accuracy: 0.8916\n",
            "Epoch 7/20\n",
            "625/625 [==============================] - 100s 160ms/step - loss: 0.1117 - accuracy: 0.9592 - val_loss: 0.4469 - val_accuracy: 0.8880\n",
            "Epoch 8/20\n",
            "625/625 [==============================] - 100s 160ms/step - loss: 0.0996 - accuracy: 0.9631 - val_loss: 0.3950 - val_accuracy: 0.8772\n",
            "Epoch 9/20\n",
            "625/625 [==============================] - 100s 160ms/step - loss: 0.0880 - accuracy: 0.9682 - val_loss: 0.6976 - val_accuracy: 0.8480\n",
            "Epoch 10/20\n",
            "625/625 [==============================] - 100s 160ms/step - loss: 0.0802 - accuracy: 0.9708 - val_loss: 0.4535 - val_accuracy: 0.8818\n",
            "Epoch 11/20\n",
            "625/625 [==============================] - 100s 161ms/step - loss: 0.0694 - accuracy: 0.9743 - val_loss: 0.5422 - val_accuracy: 0.8780\n",
            "Epoch 12/20\n",
            "625/625 [==============================] - 101s 161ms/step - loss: 0.0603 - accuracy: 0.9787 - val_loss: 0.4952 - val_accuracy: 0.8746\n",
            "Epoch 13/20\n",
            "625/625 [==============================] - 100s 160ms/step - loss: 0.0510 - accuracy: 0.9824 - val_loss: 0.5882 - val_accuracy: 0.8760\n",
            "Epoch 14/20\n",
            "625/625 [==============================] - 100s 160ms/step - loss: 0.0424 - accuracy: 0.9851 - val_loss: 0.8598 - val_accuracy: 0.8506\n",
            "Epoch 15/20\n",
            "625/625 [==============================] - 100s 160ms/step - loss: 0.0359 - accuracy: 0.9878 - val_loss: 0.6154 - val_accuracy: 0.8770\n",
            "Epoch 16/20\n",
            "625/625 [==============================] - 100s 160ms/step - loss: 0.0314 - accuracy: 0.9890 - val_loss: 0.7363 - val_accuracy: 0.8758\n",
            "Epoch 17/20\n",
            "625/625 [==============================] - 102s 164ms/step - loss: 0.0270 - accuracy: 0.9915 - val_loss: 0.7669 - val_accuracy: 0.8716\n",
            "Epoch 18/20\n",
            "625/625 [==============================] - 100s 160ms/step - loss: 0.0226 - accuracy: 0.9938 - val_loss: 0.7136 - val_accuracy: 0.8766\n",
            "Epoch 19/20\n",
            "625/625 [==============================] - 100s 160ms/step - loss: 0.0174 - accuracy: 0.9946 - val_loss: 0.9864 - val_accuracy: 0.8610\n",
            "Epoch 20/20\n",
            "625/625 [==============================] - 100s 160ms/step - loss: 0.0163 - accuracy: 0.9951 - val_loss: 0.9460 - val_accuracy: 0.8710\n",
            "782/782 [==============================] - 45s 56ms/step - loss: 0.2961 - accuracy: 0.8835\n",
            "Test acc: 0.884\n"
          ]
        }
      ],
      "source": [
        "callbacks = [\n",
        "    keras.callbacks.ModelCheckpoint(\"transformer_encoder.keras\",\n",
        "                                    save_best_only=True)\n",
        "]\n",
        "model.fit(int_train_ds, validation_data=int_val_ds, epochs=20, callbacks=callbacks)\n",
        "model = keras.models.load_model(\n",
        "    \"transformer_encoder.keras\",\n",
        "    custom_objects={\"TransformerEncoder\": TransformerEncoder})\n",
        "print(f\"Test acc: {model.evaluate(int_test_ds)[1]:.3f}\")"
      ]
    },
    {
      "cell_type": "markdown",
      "metadata": {
        "id": "B0YZKep2MoAT"
      },
      "source": [
        "#### Using positional encoding to re-inject order information"
      ]
    },
    {
      "cell_type": "markdown",
      "metadata": {
        "id": "hn9wz0IQMoAT"
      },
      "source": [
        "**Implementing positional embedding as a subclassed layer**"
      ]
    },
    {
      "cell_type": "code",
      "execution_count": 7,
      "metadata": {
        "id": "eR7z8O-xMoAT"
      },
      "outputs": [],
      "source": [
        "class PositionalEmbedding(layers.Layer):\n",
        "    def __init__(self, sequence_length, input_dim, output_dim, **kwargs):\n",
        "        super().__init__(**kwargs)\n",
        "        self.token_embeddings = layers.Embedding(\n",
        "            input_dim=input_dim, output_dim=output_dim)\n",
        "        self.position_embeddings = layers.Embedding(\n",
        "            input_dim=sequence_length, output_dim=output_dim)\n",
        "        self.sequence_length = sequence_length\n",
        "        self.input_dim = input_dim\n",
        "        self.output_dim = output_dim\n",
        "\n",
        "    def call(self, inputs):\n",
        "        length = tf.shape(inputs)[-1]\n",
        "        positions = tf.range(start=0, limit=length, delta=1)\n",
        "        embedded_tokens = self.token_embeddings(inputs)\n",
        "        embedded_positions = self.position_embeddings(positions)\n",
        "        return embedded_tokens + embedded_positions\n",
        "\n",
        "    def compute_mask(self, inputs, mask=None):\n",
        "        return tf.math.not_equal(inputs, 0)\n",
        "\n",
        "    def get_config(self):\n",
        "        config = super().get_config()\n",
        "        config.update({\n",
        "            \"output_dim\": self.output_dim,\n",
        "            \"sequence_length\": self.sequence_length,\n",
        "            \"input_dim\": self.input_dim,\n",
        "        })\n",
        "        return config"
      ]
    },
    {
      "cell_type": "markdown",
      "metadata": {
        "id": "3mk3d3BbMoAU"
      },
      "source": [
        "#### Putting it all together: A text-classification Transformer"
      ]
    },
    {
      "cell_type": "markdown",
      "metadata": {
        "id": "bliUxupqMoAU"
      },
      "source": [
        "**Combining the Transformer encoder with positional embedding**"
      ]
    },
    {
      "cell_type": "code",
      "execution_count": 8,
      "metadata": {
        "colab": {
          "base_uri": "https://localhost:8080/"
        },
        "id": "GBcZJC0UMoAU",
        "outputId": "025508d0-2b3c-4677-a027-3f8363e68038"
      },
      "outputs": [
        {
          "output_type": "stream",
          "name": "stdout",
          "text": [
            "Model: \"model_1\"\n",
            "_________________________________________________________________\n",
            " Layer (type)                Output Shape              Param #   \n",
            "=================================================================\n",
            " input_2 (InputLayer)        [(None, None)]            0         \n",
            "                                                                 \n",
            " positional_embedding (Posit  (None, None, 256)        5273600   \n",
            " ionalEmbedding)                                                 \n",
            "                                                                 \n",
            " transformer_encoder_1 (Tran  (None, None, 256)        543776    \n",
            " sformerEncoder)                                                 \n",
            "                                                                 \n",
            " global_max_pooling1d_1 (Glo  (None, 256)              0         \n",
            " balMaxPooling1D)                                                \n",
            "                                                                 \n",
            " dropout_1 (Dropout)         (None, 256)               0         \n",
            "                                                                 \n",
            " dense_7 (Dense)             (None, 1)                 257       \n",
            "                                                                 \n",
            "=================================================================\n",
            "Total params: 5,817,633\n",
            "Trainable params: 5,817,633\n",
            "Non-trainable params: 0\n",
            "_________________________________________________________________\n",
            "Epoch 1/20\n",
            "625/625 [==============================] - 105s 165ms/step - loss: 0.4845 - accuracy: 0.7857 - val_loss: 0.2939 - val_accuracy: 0.8720\n",
            "Epoch 2/20\n",
            "625/625 [==============================] - 104s 165ms/step - loss: 0.2357 - accuracy: 0.9072 - val_loss: 0.2405 - val_accuracy: 0.9040\n",
            "Epoch 3/20\n",
            "625/625 [==============================] - 103s 165ms/step - loss: 0.1796 - accuracy: 0.9337 - val_loss: 0.2555 - val_accuracy: 0.8988\n",
            "Epoch 4/20\n",
            "625/625 [==============================] - 103s 164ms/step - loss: 0.1468 - accuracy: 0.9478 - val_loss: 0.2810 - val_accuracy: 0.8894\n",
            "Epoch 5/20\n",
            "625/625 [==============================] - 103s 165ms/step - loss: 0.1243 - accuracy: 0.9568 - val_loss: 0.3515 - val_accuracy: 0.8906\n",
            "Epoch 6/20\n",
            "625/625 [==============================] - 103s 165ms/step - loss: 0.1098 - accuracy: 0.9620 - val_loss: 0.3601 - val_accuracy: 0.8928\n",
            "Epoch 7/20\n",
            "625/625 [==============================] - 104s 165ms/step - loss: 0.1000 - accuracy: 0.9667 - val_loss: 0.4077 - val_accuracy: 0.8916\n",
            "Epoch 8/20\n",
            "625/625 [==============================] - 104s 166ms/step - loss: 0.0899 - accuracy: 0.9704 - val_loss: 0.3960 - val_accuracy: 0.8914\n",
            "Epoch 9/20\n",
            "625/625 [==============================] - 103s 165ms/step - loss: 0.0852 - accuracy: 0.9712 - val_loss: 0.4600 - val_accuracy: 0.8872\n",
            "Epoch 10/20\n",
            "625/625 [==============================] - 103s 165ms/step - loss: 0.0774 - accuracy: 0.9751 - val_loss: 0.4537 - val_accuracy: 0.8870\n",
            "Epoch 11/20\n",
            "625/625 [==============================] - 103s 165ms/step - loss: 0.0719 - accuracy: 0.9757 - val_loss: 0.3977 - val_accuracy: 0.8854\n",
            "Epoch 12/20\n",
            "625/625 [==============================] - 104s 166ms/step - loss: 0.0668 - accuracy: 0.9789 - val_loss: 0.3564 - val_accuracy: 0.8782\n",
            "Epoch 13/20\n",
            "625/625 [==============================] - 105s 167ms/step - loss: 0.0619 - accuracy: 0.9801 - val_loss: 0.5298 - val_accuracy: 0.8834\n",
            "Epoch 14/20\n",
            "625/625 [==============================] - 103s 165ms/step - loss: 0.0606 - accuracy: 0.9809 - val_loss: 0.5153 - val_accuracy: 0.8852\n",
            "Epoch 15/20\n",
            "625/625 [==============================] - 104s 165ms/step - loss: 0.0547 - accuracy: 0.9837 - val_loss: 0.9194 - val_accuracy: 0.8440\n",
            "Epoch 16/20\n",
            "625/625 [==============================] - 103s 165ms/step - loss: 0.0494 - accuracy: 0.9854 - val_loss: 0.6098 - val_accuracy: 0.8802\n",
            "Epoch 17/20\n",
            "625/625 [==============================] - 103s 165ms/step - loss: 0.0440 - accuracy: 0.9861 - val_loss: 0.4263 - val_accuracy: 0.8796\n",
            "Epoch 18/20\n",
            "625/625 [==============================] - 103s 165ms/step - loss: 0.0421 - accuracy: 0.9876 - val_loss: 0.5313 - val_accuracy: 0.8772\n",
            "Epoch 19/20\n",
            "625/625 [==============================] - 104s 165ms/step - loss: 0.0376 - accuracy: 0.9890 - val_loss: 0.6903 - val_accuracy: 0.8600\n",
            "Epoch 20/20\n",
            "625/625 [==============================] - 104s 165ms/step - loss: 0.0369 - accuracy: 0.9888 - val_loss: 0.6895 - val_accuracy: 0.8732\n",
            "782/782 [==============================] - 48s 61ms/step - loss: 0.2948 - accuracy: 0.8806\n",
            "Test acc: 0.881\n"
          ]
        }
      ],
      "source": [
        "vocab_size = 20000\n",
        "sequence_length = 600\n",
        "embed_dim = 256\n",
        "num_heads = 2\n",
        "dense_dim = 32\n",
        "\n",
        "inputs = keras.Input(shape=(None,), dtype=\"int64\")\n",
        "x = PositionalEmbedding(sequence_length, vocab_size, embed_dim)(inputs)\n",
        "x = TransformerEncoder(embed_dim, dense_dim, num_heads)(x)\n",
        "x = layers.GlobalMaxPooling1D()(x)\n",
        "x = layers.Dropout(0.5)(x)\n",
        "outputs = layers.Dense(1, activation=\"sigmoid\")(x)\n",
        "model = keras.Model(inputs, outputs)\n",
        "model.compile(optimizer=\"rmsprop\",\n",
        "              loss=\"binary_crossentropy\",\n",
        "              metrics=[\"accuracy\"])\n",
        "model.summary()\n",
        "\n",
        "callbacks = [\n",
        "    keras.callbacks.ModelCheckpoint(\"full_transformer_encoder.keras\",\n",
        "                                    save_best_only=True)\n",
        "]\n",
        "model.fit(int_train_ds, validation_data=int_val_ds, epochs=20, callbacks=callbacks)\n",
        "model = keras.models.load_model(\n",
        "    \"full_transformer_encoder.keras\",\n",
        "    custom_objects={\"TransformerEncoder\": TransformerEncoder,\n",
        "                    \"PositionalEmbedding\": PositionalEmbedding})\n",
        "print(f\"Test acc: {model.evaluate(int_test_ds)[1]:.3f}\")"
      ]
    },
    {
      "cell_type": "markdown",
      "metadata": {
        "id": "fMMyfVhnMoAU"
      },
      "source": [
        "### When to use sequence models over bag-of-words models?"
      ]
    }
  ],
  "metadata": {
    "colab": {
      "collapsed_sections": [],
      "name": "chapter11_part03_transformer.i",
      "provenance": []
    },
    "kernelspec": {
      "display_name": "Python 3",
      "language": "python",
      "name": "python3"
    },
    "language_info": {
      "codemirror_mode": {
        "name": "ipython",
        "version": 3
      },
      "file_extension": ".py",
      "mimetype": "text/x-python",
      "name": "python",
      "nbconvert_exporter": "python",
      "pygments_lexer": "ipython3",
      "version": "3.7.0"
    },
    "accelerator": "GPU"
  },
  "nbformat": 4,
  "nbformat_minor": 0
}