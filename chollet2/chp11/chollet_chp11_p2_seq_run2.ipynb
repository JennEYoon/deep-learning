{
  "cells": [
    {
      "cell_type": "markdown",
      "metadata": {
        "id": "sj3o8TNu-2on"
      },
      "source": [
        "### Jennifer Yoon, 3/23/2022 run 2  \n",
        "Colab GPU engine, new user acct jenneyoon@.  \n",
        "Chollet chp 11, part 2, sequence models\n",
        "\n",
        "run 1: TPU, datasciy.info@ acct. \n",
        "Stopped after 30 m, est 4hr? for 1 epoch in sequence training step!\n",
        "10 epochs to go. \n",
        "\n",
        "This notebook was generated for TensorFlow 2.6."
      ]
    },
    {
      "cell_type": "markdown",
      "metadata": {
        "id": "soTsJy0s-2os"
      },
      "source": [
        "### Processing words as a sequence: The sequence model approach"
      ]
    },
    {
      "cell_type": "markdown",
      "metadata": {
        "id": "ftcb2huN-2os"
      },
      "source": [
        "#### A first practical example"
      ]
    },
    {
      "cell_type": "markdown",
      "metadata": {
        "id": "J8Eey4mG-2ot"
      },
      "source": [
        "**Downloading the data**"
      ]
    },
    {
      "cell_type": "code",
      "execution_count": 1,
      "metadata": {
        "id": "lV0sKR40-2ot",
        "outputId": "48385403-8e1c-49e9-d159-d40e99ffc4e7",
        "colab": {
          "base_uri": "https://localhost:8080/"
        }
      },
      "outputs": [
        {
          "output_type": "stream",
          "name": "stdout",
          "text": [
            "  % Total    % Received % Xferd  Average Speed   Time    Time     Time  Current\n",
            "                                 Dload  Upload   Total   Spent    Left  Speed\n",
            "100 80.2M  100 80.2M    0     0  28.9M      0  0:00:02  0:00:02 --:--:-- 28.9M\n"
          ]
        }
      ],
      "source": [
        "!curl -O https://ai.stanford.edu/~amaas/data/sentiment/aclImdb_v1.tar.gz\n",
        "!tar -xf aclImdb_v1.tar.gz\n",
        "!rm -r aclImdb/train/unsup"
      ]
    },
    {
      "cell_type": "markdown",
      "metadata": {
        "id": "hhIbNMMz-2ov"
      },
      "source": [
        "**Preparing the data**"
      ]
    },
    {
      "cell_type": "code",
      "execution_count": 2,
      "metadata": {
        "id": "o2lLND-v-2ov",
        "outputId": "9d8d3a40-edcf-49d7-c186-e488acf33d09",
        "colab": {
          "base_uri": "https://localhost:8080/"
        }
      },
      "outputs": [
        {
          "output_type": "stream",
          "name": "stdout",
          "text": [
            "Found 20000 files belonging to 2 classes.\n",
            "Found 5000 files belonging to 2 classes.\n",
            "Found 25000 files belonging to 2 classes.\n"
          ]
        }
      ],
      "source": [
        "import os, pathlib, shutil, random\n",
        "from tensorflow import keras\n",
        "batch_size = 32\n",
        "base_dir = pathlib.Path(\"aclImdb\")\n",
        "val_dir = base_dir / \"val\"\n",
        "train_dir = base_dir / \"train\"\n",
        "for category in (\"neg\", \"pos\"):\n",
        "    os.makedirs(val_dir / category)\n",
        "    files = os.listdir(train_dir / category)\n",
        "    random.Random(1337).shuffle(files)\n",
        "    num_val_samples = int(0.2 * len(files))\n",
        "    val_files = files[-num_val_samples:]\n",
        "    for fname in val_files:\n",
        "        shutil.move(train_dir / category / fname,\n",
        "                    val_dir / category / fname)\n",
        "\n",
        "train_ds = keras.utils.text_dataset_from_directory(\n",
        "    \"aclImdb/train\", batch_size=batch_size\n",
        ")\n",
        "val_ds = keras.utils.text_dataset_from_directory(\n",
        "    \"aclImdb/val\", batch_size=batch_size\n",
        ")\n",
        "test_ds = keras.utils.text_dataset_from_directory(\n",
        "    \"aclImdb/test\", batch_size=batch_size\n",
        ")\n",
        "text_only_train_ds = train_ds.map(lambda x, y: x)"
      ]
    },
    {
      "cell_type": "markdown",
      "metadata": {
        "id": "R2pFnbBZ-2ow"
      },
      "source": [
        "**Preparing integer sequence datasets**"
      ]
    },
    {
      "cell_type": "code",
      "execution_count": 3,
      "metadata": {
        "id": "fTlIvkkb-2ox"
      },
      "outputs": [],
      "source": [
        "from tensorflow.keras import layers\n",
        "\n",
        "max_length = 600\n",
        "max_tokens = 20000\n",
        "text_vectorization = layers.TextVectorization(\n",
        "    max_tokens=max_tokens,\n",
        "    output_mode=\"int\",\n",
        "    output_sequence_length=max_length,\n",
        ")\n",
        "text_vectorization.adapt(text_only_train_ds)\n",
        "\n",
        "int_train_ds = train_ds.map(\n",
        "    lambda x, y: (text_vectorization(x), y), \n",
        "    # removed extra ) fixed error.\n",
        "    num_parallel_calls=4)\n",
        "\n",
        "int_val_ds = val_ds.map(\n",
        "    lambda x, y: (text_vectorization(x), y),\n",
        "    num_parallel_calls=4)\n",
        "\n",
        "int_test_ds = test_ds.map(\n",
        "    lambda x, y: (text_vectorization(x), y),\n",
        "    num_parallel_calls=4)"
      ]
    },
    {
      "cell_type": "markdown",
      "metadata": {
        "id": "nfy658K6-2oy"
      },
      "source": [
        "**A sequence model built on one-hot encoded vector sequences**"
      ]
    },
    {
      "cell_type": "code",
      "execution_count": 4,
      "metadata": {
        "id": "DGhYZwBR-2oy",
        "outputId": "bc7cccec-4821-4774-fe4e-c09e89dc7530",
        "colab": {
          "base_uri": "https://localhost:8080/"
        }
      },
      "outputs": [
        {
          "output_type": "stream",
          "name": "stdout",
          "text": [
            "Model: \"model\"\n",
            "_________________________________________________________________\n",
            " Layer (type)                Output Shape              Param #   \n",
            "=================================================================\n",
            " input_1 (InputLayer)        [(None, None)]            0         \n",
            "                                                                 \n",
            " tf.one_hot (TFOpLambda)     (None, None, 20000)       0         \n",
            "                                                                 \n",
            " bidirectional (Bidirectiona  (None, 64)               5128448   \n",
            " l)                                                              \n",
            "                                                                 \n",
            " dropout (Dropout)           (None, 64)                0         \n",
            "                                                                 \n",
            " dense (Dense)               (None, 1)                 65        \n",
            "                                                                 \n",
            "=================================================================\n",
            "Total params: 5,128,513\n",
            "Trainable params: 5,128,513\n",
            "Non-trainable params: 0\n",
            "_________________________________________________________________\n"
          ]
        }
      ],
      "source": [
        "import tensorflow as tf\n",
        "inputs = keras.Input(shape=(None,), dtype=\"int64\")\n",
        "embedded = tf.one_hot(inputs, depth=max_tokens)\n",
        "x = layers.Bidirectional(layers.LSTM(32))(embedded)\n",
        "x = layers.Dropout(0.5)(x)\n",
        "outputs = layers.Dense(1, activation=\"sigmoid\")(x)\n",
        "model = keras.Model(inputs, outputs)\n",
        "model.compile(optimizer=\"rmsprop\",\n",
        "              loss=\"binary_crossentropy\",\n",
        "              metrics=[\"accuracy\"])\n",
        "model.summary()"
      ]
    },
    {
      "cell_type": "markdown",
      "metadata": {
        "id": "BuUSWsks-2oz"
      },
      "source": [
        "**Training a first basic sequence model**"
      ]
    },
    {
      "cell_type": "code",
      "execution_count": 5,
      "metadata": {
        "id": "JmcrohdW-2oz",
        "outputId": "d6c83bbd-7c6d-4b2c-e319-551e4fa73aae",
        "colab": {
          "base_uri": "https://localhost:8080/"
        }
      },
      "outputs": [
        {
          "output_type": "stream",
          "name": "stdout",
          "text": [
            "Epoch 1/10\n",
            "625/625 [==============================] - 479s 753ms/step - loss: 0.5361 - accuracy: 0.7459 - val_loss: 0.4501 - val_accuracy: 0.7928\n",
            "Epoch 2/10\n",
            "625/625 [==============================] - 473s 757ms/step - loss: 0.3788 - accuracy: 0.8632 - val_loss: 0.4318 - val_accuracy: 0.8496\n",
            "Epoch 3/10\n",
            "625/625 [==============================] - 474s 758ms/step - loss: 0.2859 - accuracy: 0.9010 - val_loss: 0.2638 - val_accuracy: 0.9004\n",
            "Epoch 4/10\n",
            "625/625 [==============================] - 474s 759ms/step - loss: 0.2408 - accuracy: 0.9169 - val_loss: 0.2598 - val_accuracy: 0.9034\n",
            "Epoch 5/10\n",
            "625/625 [==============================] - 474s 758ms/step - loss: 0.2115 - accuracy: 0.9274 - val_loss: 0.3076 - val_accuracy: 0.8950\n",
            "Epoch 6/10\n",
            "625/625 [==============================] - 475s 759ms/step - loss: 0.1877 - accuracy: 0.9392 - val_loss: 0.2808 - val_accuracy: 0.8876\n",
            "Epoch 7/10\n",
            "625/625 [==============================] - 474s 759ms/step - loss: 0.1656 - accuracy: 0.9464 - val_loss: 0.3281 - val_accuracy: 0.8964\n",
            "Epoch 8/10\n",
            "625/625 [==============================] - 474s 758ms/step - loss: 0.1425 - accuracy: 0.9552 - val_loss: 0.3162 - val_accuracy: 0.8826\n",
            "Epoch 9/10\n",
            "625/625 [==============================] - 474s 758ms/step - loss: 0.1235 - accuracy: 0.9609 - val_loss: 0.3531 - val_accuracy: 0.8926\n",
            "Epoch 10/10\n",
            "625/625 [==============================] - 474s 759ms/step - loss: 0.1049 - accuracy: 0.9674 - val_loss: 0.5756 - val_accuracy: 0.8694\n",
            "782/782 [==============================] - 333s 424ms/step - loss: 0.3038 - accuracy: 0.8826\n",
            "Test acc: 0.883\n"
          ]
        }
      ],
      "source": [
        "callbacks = [\n",
        "    keras.callbacks.ModelCheckpoint(\"one_hot_bidir_lstm.keras\",\n",
        "                                    save_best_only=True)\n",
        "]\n",
        "model.fit(int_train_ds, validation_data=int_val_ds, epochs=10, callbacks=callbacks)\n",
        "model = keras.models.load_model(\"one_hot_bidir_lstm.keras\")\n",
        "print(f\"Test acc: {model.evaluate(int_test_ds)[1]:.3f}\")"
      ]
    },
    {
      "cell_type": "markdown",
      "metadata": {
        "id": "YwtVP8OG-2o0"
      },
      "source": [
        "#### Understanding word embeddings"
      ]
    },
    {
      "cell_type": "markdown",
      "metadata": {
        "id": "GUBcgvsW-2o0"
      },
      "source": [
        "#### Learning word embeddings with the Embedding layer"
      ]
    },
    {
      "cell_type": "markdown",
      "metadata": {
        "id": "Kwt4OYg7-2o0"
      },
      "source": [
        "**Instantiating an `Embedding` layer**"
      ]
    },
    {
      "cell_type": "code",
      "execution_count": 6,
      "metadata": {
        "id": "NRKvWky9-2o1"
      },
      "outputs": [],
      "source": [
        "embedding_layer = layers.Embedding(input_dim=max_tokens, output_dim=256)"
      ]
    },
    {
      "cell_type": "markdown",
      "metadata": {
        "id": "81S9Oivw-2o1"
      },
      "source": [
        "**Model that uses an `Embedding` layer trained from scratch**"
      ]
    },
    {
      "cell_type": "code",
      "execution_count": 7,
      "metadata": {
        "id": "Xga3go4S-2o1",
        "colab": {
          "base_uri": "https://localhost:8080/"
        },
        "outputId": "300daadb-2cd8-4fc4-e356-67d89a36c1e0"
      },
      "outputs": [
        {
          "output_type": "stream",
          "name": "stdout",
          "text": [
            "Model: \"model_1\"\n",
            "_________________________________________________________________\n",
            " Layer (type)                Output Shape              Param #   \n",
            "=================================================================\n",
            " input_2 (InputLayer)        [(None, None)]            0         \n",
            "                                                                 \n",
            " embedding_1 (Embedding)     (None, None, 256)         5120000   \n",
            "                                                                 \n",
            " bidirectional_1 (Bidirectio  (None, 64)               73984     \n",
            " nal)                                                            \n",
            "                                                                 \n",
            " dropout_1 (Dropout)         (None, 64)                0         \n",
            "                                                                 \n",
            " dense_1 (Dense)             (None, 1)                 65        \n",
            "                                                                 \n",
            "=================================================================\n",
            "Total params: 5,194,049\n",
            "Trainable params: 5,194,049\n",
            "Non-trainable params: 0\n",
            "_________________________________________________________________\n",
            "Epoch 1/10\n",
            "625/625 [==============================] - 134s 208ms/step - loss: 0.4732 - accuracy: 0.7843 - val_loss: 0.3647 - val_accuracy: 0.8650\n",
            "Epoch 2/10\n",
            "625/625 [==============================] - 129s 206ms/step - loss: 0.3060 - accuracy: 0.8874 - val_loss: 0.2926 - val_accuracy: 0.8888\n",
            "Epoch 3/10\n",
            "625/625 [==============================] - 128s 205ms/step - loss: 0.2337 - accuracy: 0.9176 - val_loss: 0.3098 - val_accuracy: 0.8798\n",
            "Epoch 4/10\n",
            "625/625 [==============================] - 128s 204ms/step - loss: 0.1983 - accuracy: 0.9312 - val_loss: 0.2898 - val_accuracy: 0.8922\n",
            "Epoch 5/10\n",
            "625/625 [==============================] - 128s 204ms/step - loss: 0.1660 - accuracy: 0.9442 - val_loss: 0.3556 - val_accuracy: 0.8946\n",
            "Epoch 6/10\n",
            "625/625 [==============================] - 128s 205ms/step - loss: 0.1366 - accuracy: 0.9557 - val_loss: 0.3485 - val_accuracy: 0.8888\n",
            "Epoch 7/10\n",
            "625/625 [==============================] - 129s 206ms/step - loss: 0.1177 - accuracy: 0.9625 - val_loss: 0.3535 - val_accuracy: 0.8912\n",
            "Epoch 8/10\n",
            "625/625 [==============================] - 128s 205ms/step - loss: 0.0985 - accuracy: 0.9690 - val_loss: 0.3775 - val_accuracy: 0.8980\n",
            "Epoch 9/10\n",
            "625/625 [==============================] - 127s 204ms/step - loss: 0.0785 - accuracy: 0.9765 - val_loss: 0.4859 - val_accuracy: 0.8772\n",
            "Epoch 10/10\n",
            "625/625 [==============================] - 127s 204ms/step - loss: 0.0657 - accuracy: 0.9795 - val_loss: 0.4839 - val_accuracy: 0.8752\n",
            "782/782 [==============================] - 57s 72ms/step - loss: 0.3563 - accuracy: 0.8653\n",
            "Test acc: 0.865\n"
          ]
        }
      ],
      "source": [
        "inputs = keras.Input(shape=(None,), dtype=\"int64\")\n",
        "embedded = layers.Embedding(input_dim=max_tokens, output_dim=256)(inputs)\n",
        "x = layers.Bidirectional(layers.LSTM(32))(embedded)\n",
        "x = layers.Dropout(0.5)(x)\n",
        "outputs = layers.Dense(1, activation=\"sigmoid\")(x)\n",
        "model = keras.Model(inputs, outputs)\n",
        "model.compile(optimizer=\"rmsprop\",\n",
        "              loss=\"binary_crossentropy\",\n",
        "              metrics=[\"accuracy\"])\n",
        "model.summary()\n",
        "\n",
        "callbacks = [\n",
        "    keras.callbacks.ModelCheckpoint(\"embeddings_bidir_gru.keras\",\n",
        "                                    save_best_only=True)\n",
        "]\n",
        "model.fit(int_train_ds, validation_data=int_val_ds, epochs=10, callbacks=callbacks)\n",
        "model = keras.models.load_model(\"embeddings_bidir_gru.keras\")\n",
        "print(f\"Test acc: {model.evaluate(int_test_ds)[1]:.3f}\")"
      ]
    },
    {
      "cell_type": "markdown",
      "metadata": {
        "id": "cCHldoL1-2o2"
      },
      "source": [
        "#### Understanding padding and masking"
      ]
    },
    {
      "cell_type": "markdown",
      "metadata": {
        "id": "3VuiOpCp-2o3"
      },
      "source": [
        "**Using an `Embedding` layer with masking enabled**"
      ]
    },
    {
      "cell_type": "code",
      "execution_count": 8,
      "metadata": {
        "id": "ZNAsu9hI-2o3",
        "colab": {
          "base_uri": "https://localhost:8080/"
        },
        "outputId": "ee78f36a-c949-4c62-a4b8-e0992fcc226c"
      },
      "outputs": [
        {
          "output_type": "stream",
          "name": "stdout",
          "text": [
            "Model: \"model_2\"\n",
            "_________________________________________________________________\n",
            " Layer (type)                Output Shape              Param #   \n",
            "=================================================================\n",
            " input_3 (InputLayer)        [(None, None)]            0         \n",
            "                                                                 \n",
            " embedding_2 (Embedding)     (None, None, 256)         5120000   \n",
            "                                                                 \n",
            " bidirectional_2 (Bidirectio  (None, 64)               73984     \n",
            " nal)                                                            \n",
            "                                                                 \n",
            " dropout_2 (Dropout)         (None, 64)                0         \n",
            "                                                                 \n",
            " dense_2 (Dense)             (None, 1)                 65        \n",
            "                                                                 \n",
            "=================================================================\n",
            "Total params: 5,194,049\n",
            "Trainable params: 5,194,049\n",
            "Non-trainable params: 0\n",
            "_________________________________________________________________\n",
            "Epoch 1/10\n",
            "625/625 [==============================] - 150s 224ms/step - loss: 0.4044 - accuracy: 0.8130 - val_loss: 0.2902 - val_accuracy: 0.8792\n",
            "Epoch 2/10\n",
            "625/625 [==============================] - 136s 218ms/step - loss: 0.2376 - accuracy: 0.9096 - val_loss: 0.2432 - val_accuracy: 0.9048\n",
            "Epoch 3/10\n",
            "625/625 [==============================] - 137s 218ms/step - loss: 0.1704 - accuracy: 0.9358 - val_loss: 0.2555 - val_accuracy: 0.9030\n",
            "Epoch 4/10\n",
            "625/625 [==============================] - 137s 218ms/step - loss: 0.1258 - accuracy: 0.9560 - val_loss: 0.2754 - val_accuracy: 0.8986\n",
            "Epoch 5/10\n",
            "625/625 [==============================] - 137s 220ms/step - loss: 0.0920 - accuracy: 0.9694 - val_loss: 0.3371 - val_accuracy: 0.8898\n",
            "Epoch 6/10\n",
            "625/625 [==============================] - 137s 220ms/step - loss: 0.0684 - accuracy: 0.9774 - val_loss: 0.3537 - val_accuracy: 0.8966\n",
            "Epoch 7/10\n",
            "625/625 [==============================] - 137s 219ms/step - loss: 0.0472 - accuracy: 0.9851 - val_loss: 0.4207 - val_accuracy: 0.8896\n",
            "Epoch 8/10\n",
            "625/625 [==============================] - 137s 219ms/step - loss: 0.0336 - accuracy: 0.9890 - val_loss: 0.4697 - val_accuracy: 0.8914\n",
            "Epoch 9/10\n",
            "625/625 [==============================] - 137s 219ms/step - loss: 0.0230 - accuracy: 0.9924 - val_loss: 0.5004 - val_accuracy: 0.8808\n",
            "Epoch 10/10\n",
            "625/625 [==============================] - 137s 219ms/step - loss: 0.0152 - accuracy: 0.9955 - val_loss: 0.7400 - val_accuracy: 0.8800\n",
            "782/782 [==============================] - 66s 81ms/step - loss: 0.2884 - accuracy: 0.8828\n",
            "Test acc: 0.883\n"
          ]
        }
      ],
      "source": [
        "inputs = keras.Input(shape=(None,), dtype=\"int64\")\n",
        "embedded = layers.Embedding(\n",
        "    input_dim=max_tokens, output_dim=256, mask_zero=True)(inputs)\n",
        "x = layers.Bidirectional(layers.LSTM(32))(embedded)\n",
        "x = layers.Dropout(0.5)(x)\n",
        "outputs = layers.Dense(1, activation=\"sigmoid\")(x)\n",
        "model = keras.Model(inputs, outputs)\n",
        "model.compile(optimizer=\"rmsprop\",\n",
        "              loss=\"binary_crossentropy\",\n",
        "              metrics=[\"accuracy\"])\n",
        "model.summary()\n",
        "\n",
        "callbacks = [\n",
        "    keras.callbacks.ModelCheckpoint(\"embeddings_bidir_gru_with_masking.keras\",\n",
        "                                    save_best_only=True)\n",
        "]\n",
        "model.fit(int_train_ds, validation_data=int_val_ds, epochs=10, callbacks=callbacks)\n",
        "model = keras.models.load_model(\"embeddings_bidir_gru_with_masking.keras\")\n",
        "print(f\"Test acc: {model.evaluate(int_test_ds)[1]:.3f}\")"
      ]
    },
    {
      "cell_type": "markdown",
      "metadata": {
        "id": "vLihkNXv-2o3"
      },
      "source": [
        "#### Using pretrained word embeddings"
      ]
    },
    {
      "cell_type": "code",
      "execution_count": 9,
      "metadata": {
        "id": "6beSblmB-2o4",
        "colab": {
          "base_uri": "https://localhost:8080/"
        },
        "outputId": "d8baf006-b0f8-4faf-83fc-c3235b97b264"
      },
      "outputs": [
        {
          "output_type": "stream",
          "name": "stdout",
          "text": [
            "--2022-03-28 22:37:52--  http://nlp.stanford.edu/data/glove.6B.zip\n",
            "Resolving nlp.stanford.edu (nlp.stanford.edu)... 171.64.67.140\n",
            "Connecting to nlp.stanford.edu (nlp.stanford.edu)|171.64.67.140|:80... connected.\n",
            "HTTP request sent, awaiting response... 302 Found\n",
            "Location: https://nlp.stanford.edu/data/glove.6B.zip [following]\n",
            "--2022-03-28 22:37:52--  https://nlp.stanford.edu/data/glove.6B.zip\n",
            "Connecting to nlp.stanford.edu (nlp.stanford.edu)|171.64.67.140|:443... connected.\n",
            "HTTP request sent, awaiting response... 301 Moved Permanently\n",
            "Location: http://downloads.cs.stanford.edu/nlp/data/glove.6B.zip [following]\n",
            "--2022-03-28 22:37:53--  http://downloads.cs.stanford.edu/nlp/data/glove.6B.zip\n",
            "Resolving downloads.cs.stanford.edu (downloads.cs.stanford.edu)... 171.64.64.22\n",
            "Connecting to downloads.cs.stanford.edu (downloads.cs.stanford.edu)|171.64.64.22|:80... connected.\n",
            "HTTP request sent, awaiting response... 200 OK\n",
            "Length: 862182613 (822M) [application/zip]\n",
            "Saving to: ‘glove.6B.zip’\n",
            "\n",
            "glove.6B.zip        100%[===================>] 822.24M  5.08MB/s    in 2m 40s  \n",
            "\n",
            "2022-03-28 22:40:33 (5.14 MB/s) - ‘glove.6B.zip’ saved [862182613/862182613]\n",
            "\n"
          ]
        }
      ],
      "source": [
        "!wget http://nlp.stanford.edu/data/glove.6B.zip\n",
        "!unzip -q glove.6B.zip"
      ]
    },
    {
      "cell_type": "markdown",
      "metadata": {
        "id": "GDM9Quwd-2o4"
      },
      "source": [
        "**Parsing the GloVe word-embeddings file**"
      ]
    },
    {
      "cell_type": "code",
      "execution_count": 10,
      "metadata": {
        "id": "LdSehe87-2o4",
        "colab": {
          "base_uri": "https://localhost:8080/"
        },
        "outputId": "a1206e2d-2e29-4757-af61-cf65a2609d78"
      },
      "outputs": [
        {
          "output_type": "stream",
          "name": "stdout",
          "text": [
            "Found 400000 word vectors.\n"
          ]
        }
      ],
      "source": [
        "import numpy as np\n",
        "path_to_glove_file = \"glove.6B.100d.txt\"\n",
        "\n",
        "embeddings_index = {}\n",
        "with open(path_to_glove_file) as f:\n",
        "    for line in f:\n",
        "        word, coefs = line.split(maxsplit=1)\n",
        "        coefs = np.fromstring(coefs, \"f\", sep=\" \")\n",
        "        embeddings_index[word] = coefs\n",
        "\n",
        "print(f\"Found {len(embeddings_index)} word vectors.\")"
      ]
    },
    {
      "cell_type": "markdown",
      "metadata": {
        "id": "uWky10ft-2o5"
      },
      "source": [
        "**Preparing the GloVe word-embeddings matrix**"
      ]
    },
    {
      "cell_type": "code",
      "execution_count": 11,
      "metadata": {
        "id": "ywdcit9A-2o5"
      },
      "outputs": [],
      "source": [
        "embedding_dim = 100\n",
        "\n",
        "vocabulary = text_vectorization.get_vocabulary()\n",
        "word_index = dict(zip(vocabulary, range(len(vocabulary))))\n",
        "\n",
        "embedding_matrix = np.zeros((max_tokens, embedding_dim))\n",
        "for word, i in word_index.items():\n",
        "    if i < max_tokens:\n",
        "        embedding_vector = embeddings_index.get(word)\n",
        "    if embedding_vector is not None:\n",
        "        embedding_matrix[i] = embedding_vector"
      ]
    },
    {
      "cell_type": "code",
      "execution_count": 12,
      "metadata": {
        "id": "cvUznEkB-2o5"
      },
      "outputs": [],
      "source": [
        "embedding_layer = layers.Embedding(\n",
        "    max_tokens,\n",
        "    embedding_dim,\n",
        "    embeddings_initializer=keras.initializers.Constant(embedding_matrix),\n",
        "    trainable=False,\n",
        "    mask_zero=True,\n",
        ")"
      ]
    },
    {
      "cell_type": "markdown",
      "metadata": {
        "id": "rUMPuvTn-2o6"
      },
      "source": [
        "**Model that uses a pretrained Embedding layer**"
      ]
    },
    {
      "cell_type": "code",
      "execution_count": 13,
      "metadata": {
        "id": "hBKh32Te-2o6",
        "colab": {
          "base_uri": "https://localhost:8080/"
        },
        "outputId": "6bfdb280-ed7a-4551-ffad-18ad9031b827"
      },
      "outputs": [
        {
          "output_type": "stream",
          "name": "stdout",
          "text": [
            "Model: \"model_3\"\n",
            "_________________________________________________________________\n",
            " Layer (type)                Output Shape              Param #   \n",
            "=================================================================\n",
            " input_4 (InputLayer)        [(None, None)]            0         \n",
            "                                                                 \n",
            " embedding_3 (Embedding)     (None, None, 100)         2000000   \n",
            "                                                                 \n",
            " bidirectional_3 (Bidirectio  (None, 64)               34048     \n",
            " nal)                                                            \n",
            "                                                                 \n",
            " dropout_3 (Dropout)         (None, 64)                0         \n",
            "                                                                 \n",
            " dense_3 (Dense)             (None, 1)                 65        \n",
            "                                                                 \n",
            "=================================================================\n",
            "Total params: 2,034,113\n",
            "Trainable params: 34,113\n",
            "Non-trainable params: 2,000,000\n",
            "_________________________________________________________________\n",
            "Epoch 1/10\n",
            "625/625 [==============================] - 145s 218ms/step - loss: 0.5799 - accuracy: 0.6916 - val_loss: 0.4645 - val_accuracy: 0.7890\n",
            "Epoch 2/10\n",
            "625/625 [==============================] - 133s 212ms/step - loss: 0.4569 - accuracy: 0.7928 - val_loss: 0.4560 - val_accuracy: 0.7830\n",
            "Epoch 3/10\n",
            "625/625 [==============================] - 133s 213ms/step - loss: 0.4052 - accuracy: 0.8196 - val_loss: 0.4478 - val_accuracy: 0.7968\n",
            "Epoch 4/10\n",
            "625/625 [==============================] - 133s 213ms/step - loss: 0.3762 - accuracy: 0.8381 - val_loss: 0.3356 - val_accuracy: 0.8516\n",
            "Epoch 5/10\n",
            "625/625 [==============================] - 133s 213ms/step - loss: 0.3498 - accuracy: 0.8515 - val_loss: 0.3121 - val_accuracy: 0.8670\n",
            "Epoch 6/10\n",
            "625/625 [==============================] - 131s 210ms/step - loss: 0.3307 - accuracy: 0.8605 - val_loss: 0.3123 - val_accuracy: 0.8676\n",
            "Epoch 7/10\n",
            "625/625 [==============================] - 133s 213ms/step - loss: 0.3117 - accuracy: 0.8703 - val_loss: 0.2873 - val_accuracy: 0.8782\n",
            "Epoch 8/10\n",
            "625/625 [==============================] - 133s 213ms/step - loss: 0.2977 - accuracy: 0.8789 - val_loss: 0.2838 - val_accuracy: 0.8832\n",
            "Epoch 9/10\n",
            "625/625 [==============================] - 133s 213ms/step - loss: 0.2813 - accuracy: 0.8864 - val_loss: 0.2812 - val_accuracy: 0.8844\n",
            "Epoch 10/10\n",
            "625/625 [==============================] - 133s 213ms/step - loss: 0.2686 - accuracy: 0.8911 - val_loss: 0.2734 - val_accuracy: 0.8902\n",
            "782/782 [==============================] - 68s 83ms/step - loss: 0.2897 - accuracy: 0.8786\n",
            "Test acc: 0.879\n"
          ]
        }
      ],
      "source": [
        "inputs = keras.Input(shape=(None,), dtype=\"int64\")\n",
        "embedded = embedding_layer(inputs)\n",
        "x = layers.Bidirectional(layers.LSTM(32))(embedded)\n",
        "x = layers.Dropout(0.5)(x)\n",
        "outputs = layers.Dense(1, activation=\"sigmoid\")(x)\n",
        "model = keras.Model(inputs, outputs)\n",
        "model.compile(optimizer=\"rmsprop\",\n",
        "              loss=\"binary_crossentropy\",\n",
        "              metrics=[\"accuracy\"])\n",
        "model.summary()\n",
        "\n",
        "callbacks = [\n",
        "    keras.callbacks.ModelCheckpoint(\"glove_embeddings_sequence_model.keras\",\n",
        "                                    save_best_only=True)\n",
        "]\n",
        "model.fit(int_train_ds, validation_data=int_val_ds, epochs=10, callbacks=callbacks)\n",
        "model = keras.models.load_model(\"glove_embeddings_sequence_model.keras\")\n",
        "print(f\"Test acc: {model.evaluate(int_test_ds)[1]:.3f}\")"
      ]
    }
  ],
  "metadata": {
    "colab": {
      "collapsed_sections": [],
      "name": "chollet_chp11_p2_seq_run2.ipynb",
      "provenance": []
    },
    "kernelspec": {
      "display_name": "Python 3",
      "language": "python",
      "name": "python3"
    },
    "language_info": {
      "codemirror_mode": {
        "name": "ipython",
        "version": 3
      },
      "file_extension": ".py",
      "mimetype": "text/x-python",
      "name": "python",
      "nbconvert_exporter": "python",
      "pygments_lexer": "ipython3",
      "version": "3.7.0"
    },
    "accelerator": "GPU"
  },
  "nbformat": 4,
  "nbformat_minor": 0
}