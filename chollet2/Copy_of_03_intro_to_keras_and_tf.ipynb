{
  "nbformat": 4,
  "nbformat_minor": 0,
  "metadata": {
    "colab": {
      "name": "Copy of 03_intro-to-keras-and-tf.ipynb",
      "provenance": [],
      "collapsed_sections": [],
      "toc_visible": true,
      "include_colab_link": true
    },
    "kernelspec": {
      "display_name": "Python 3",
      "language": "python",
      "name": "python3"
    },
    "language_info": {
      "codemirror_mode": {
        "name": "ipython",
        "version": 3
      },
      "file_extension": ".py",
      "mimetype": "text/x-python",
      "name": "python",
      "nbconvert_exporter": "python",
      "pygments_lexer": "ipython3",
      "version": "3.7.0"
    },
    "accelerator": "GPU"
  },
  "cells": [
    {
      "cell_type": "markdown",
      "metadata": {
        "id": "view-in-github",
        "colab_type": "text"
      },
      "source": [
        "<a href=\"https://colab.research.google.com/github/JennEYoon/deep-learning/blob/main/dlwp2/Copy_of_03_intro_to_keras_and_tf.ipynb\" target=\"_parent\"><img src=\"https://colab.research.google.com/assets/colab-badge.svg\" alt=\"Open In Colab\"/></a>"
      ]
    },
    {
      "cell_type": "markdown",
      "metadata": {
        "id": "aqDcAxGr6-0o"
      },
      "source": [
        "#### Chollet, Deep Learning with Python, 2nd ed, Chp 3.  \n",
        "This notebook was generated for TensorFlow 2.6.  \n",
        "Copy -- working notebook by Jennifer E Yoon  \n",
        "Date:  Dec 6, 2021.  "
      ]
    },
    {
      "cell_type": "markdown",
      "metadata": {
        "id": "0zKZLsp-7mqD"
      },
      "source": [
        "#### JY Note:  \n",
        "All code runs, outputs and plots.  GPU engine on Colab.  Saved back to Github with badge \"Open-in Colab\".  "
      ]
    },
    {
      "cell_type": "markdown",
      "metadata": {
        "id": "fIKGA-r46-0u"
      },
      "source": [
        "# Introduction to Keras and TensorFlow"
      ]
    },
    {
      "cell_type": "markdown",
      "metadata": {
        "id": "MQhX-W1m6-0v"
      },
      "source": [
        "## What's TensorFlow?"
      ]
    },
    {
      "cell_type": "markdown",
      "metadata": {
        "id": "rrXUZC_V6-0v"
      },
      "source": [
        "## What's Keras?"
      ]
    },
    {
      "cell_type": "markdown",
      "metadata": {
        "id": "pO7wp2Ay6-0w"
      },
      "source": [
        "## Keras and TensorFlow: A brief history"
      ]
    },
    {
      "cell_type": "markdown",
      "metadata": {
        "id": "XBo2_Q7g6-0w"
      },
      "source": [
        "## Setting up a deep-learning workspace"
      ]
    },
    {
      "cell_type": "markdown",
      "metadata": {
        "id": "OMGhJR0A6-0w"
      },
      "source": [
        "### Jupyter notebooks: The preferred way to run deep-learning experiments"
      ]
    },
    {
      "cell_type": "markdown",
      "metadata": {
        "id": "vhmHxLK66-0x"
      },
      "source": [
        "### Using Colaboratory"
      ]
    },
    {
      "cell_type": "markdown",
      "metadata": {
        "id": "Ag-EXW2m6-0y"
      },
      "source": [
        "#### First steps with Colaboratory"
      ]
    },
    {
      "cell_type": "markdown",
      "metadata": {
        "id": "yixfGSuh6-0y"
      },
      "source": [
        "#### Installing packages with pip"
      ]
    },
    {
      "cell_type": "markdown",
      "metadata": {
        "id": "5LkjR0hM6-0z"
      },
      "source": [
        "#### Using the GPU runtime"
      ]
    },
    {
      "cell_type": "markdown",
      "metadata": {
        "id": "vq-574gd6-0z"
      },
      "source": [
        "## First steps with TensorFlow"
      ]
    },
    {
      "cell_type": "markdown",
      "metadata": {
        "id": "psyaKrnS6-0z"
      },
      "source": [
        "#### Constant tensors and variables"
      ]
    },
    {
      "cell_type": "markdown",
      "metadata": {
        "id": "ZtKtJBd06-00"
      },
      "source": [
        "**All-ones or all-zeros tensors**"
      ]
    },
    {
      "cell_type": "code",
      "metadata": {
        "id": "5o0EsqxQ6-00",
        "colab": {
          "base_uri": "https://localhost:8080/"
        },
        "outputId": "3f645f45-9d80-4e86-c8f8-fb70a6bbeed5"
      },
      "source": [
        "import tensorflow as tf\n",
        "x = tf.ones(shape=(2, 1))\n",
        "print(x)"
      ],
      "execution_count": 1,
      "outputs": [
        {
          "output_type": "stream",
          "name": "stdout",
          "text": [
            "tf.Tensor(\n",
            "[[1.]\n",
            " [1.]], shape=(2, 1), dtype=float32)\n"
          ]
        }
      ]
    },
    {
      "cell_type": "code",
      "metadata": {
        "id": "P-BQXeuv6-01",
        "colab": {
          "base_uri": "https://localhost:8080/"
        },
        "outputId": "31f08415-30ab-49e2-eba9-d77f46b5fc71"
      },
      "source": [
        "x = tf.zeros(shape=(2, 1))\n",
        "print(x)"
      ],
      "execution_count": 2,
      "outputs": [
        {
          "output_type": "stream",
          "name": "stdout",
          "text": [
            "tf.Tensor(\n",
            "[[0.]\n",
            " [0.]], shape=(2, 1), dtype=float32)\n"
          ]
        }
      ]
    },
    {
      "cell_type": "markdown",
      "metadata": {
        "id": "f480mUH16-01"
      },
      "source": [
        "**Random tensors**"
      ]
    },
    {
      "cell_type": "code",
      "metadata": {
        "id": "kp4JC9tG6-02",
        "colab": {
          "base_uri": "https://localhost:8080/"
        },
        "outputId": "33cc516a-b5a2-498d-c31c-b17eccc83b17"
      },
      "source": [
        "x = tf.random.normal(shape=(3, 1), mean=0., stddev=1.)\n",
        "print(x)"
      ],
      "execution_count": 3,
      "outputs": [
        {
          "output_type": "stream",
          "name": "stdout",
          "text": [
            "tf.Tensor(\n",
            "[[-0.3673149 ]\n",
            " [-1.364663  ]\n",
            " [ 0.28478748]], shape=(3, 1), dtype=float32)\n"
          ]
        }
      ]
    },
    {
      "cell_type": "code",
      "metadata": {
        "id": "kdIP9sz56-02",
        "colab": {
          "base_uri": "https://localhost:8080/"
        },
        "outputId": "72ac93c9-45a6-4e98-8010-e85af509f2fa"
      },
      "source": [
        "x = tf.random.uniform(shape=(3, 1), minval=0., maxval=1.)\n",
        "print(x)"
      ],
      "execution_count": 4,
      "outputs": [
        {
          "output_type": "stream",
          "name": "stdout",
          "text": [
            "tf.Tensor(\n",
            "[[0.29209876]\n",
            " [0.07578301]\n",
            " [0.20144081]], shape=(3, 1), dtype=float32)\n"
          ]
        }
      ]
    },
    {
      "cell_type": "markdown",
      "metadata": {
        "id": "vmIk67je6-02"
      },
      "source": [
        "**NumPy arrays are assignable**"
      ]
    },
    {
      "cell_type": "code",
      "metadata": {
        "id": "mhdVz9eE6-02"
      },
      "source": [
        "import numpy as np\n",
        "x = np.ones(shape=(2, 2))\n",
        "x[0, 0] = 0."
      ],
      "execution_count": 5,
      "outputs": []
    },
    {
      "cell_type": "markdown",
      "metadata": {
        "id": "b2XdO8Pc6-03"
      },
      "source": [
        "**Creating a TensorFlow variable**"
      ]
    },
    {
      "cell_type": "code",
      "metadata": {
        "id": "co0HQVEY6-03",
        "colab": {
          "base_uri": "https://localhost:8080/"
        },
        "outputId": "12d9ad12-d670-4540-f58f-0efc57a713b1"
      },
      "source": [
        "v = tf.Variable(initial_value=tf.random.normal(shape=(3, 1)))\n",
        "print(v)"
      ],
      "execution_count": 6,
      "outputs": [
        {
          "output_type": "stream",
          "name": "stdout",
          "text": [
            "<tf.Variable 'Variable:0' shape=(3, 1) dtype=float32, numpy=\n",
            "array([[-0.16659507],\n",
            "       [ 0.30581665],\n",
            "       [ 0.6239568 ]], dtype=float32)>\n"
          ]
        }
      ]
    },
    {
      "cell_type": "markdown",
      "metadata": {
        "id": "OFhwGEzH6-03"
      },
      "source": [
        "**Assigning a value to a TensorFlow variable**"
      ]
    },
    {
      "cell_type": "code",
      "metadata": {
        "id": "3ruAahXv6-03",
        "colab": {
          "base_uri": "https://localhost:8080/"
        },
        "outputId": "e30427b4-bd08-4b26-c697-3b512eee6153"
      },
      "source": [
        "v.assign(tf.ones((3, 1)))"
      ],
      "execution_count": 7,
      "outputs": [
        {
          "output_type": "execute_result",
          "data": {
            "text/plain": [
              "<tf.Variable 'UnreadVariable' shape=(3, 1) dtype=float32, numpy=\n",
              "array([[1.],\n",
              "       [1.],\n",
              "       [1.]], dtype=float32)>"
            ]
          },
          "metadata": {},
          "execution_count": 7
        }
      ]
    },
    {
      "cell_type": "markdown",
      "metadata": {
        "id": "kJ1lQDhM6-04"
      },
      "source": [
        "**Assigning a value to a subset of a TensorFlow variable**"
      ]
    },
    {
      "cell_type": "code",
      "metadata": {
        "id": "6ZFKCWDg6-04",
        "colab": {
          "base_uri": "https://localhost:8080/"
        },
        "outputId": "1efa802c-4794-49ac-873e-9666f60444dd"
      },
      "source": [
        "v[0, 0].assign(3.)"
      ],
      "execution_count": 8,
      "outputs": [
        {
          "output_type": "execute_result",
          "data": {
            "text/plain": [
              "<tf.Variable 'UnreadVariable' shape=(3, 1) dtype=float32, numpy=\n",
              "array([[3.],\n",
              "       [1.],\n",
              "       [1.]], dtype=float32)>"
            ]
          },
          "metadata": {},
          "execution_count": 8
        }
      ]
    },
    {
      "cell_type": "markdown",
      "metadata": {
        "id": "g3lPfy9f6-04"
      },
      "source": [
        "**Using `assign_add`**"
      ]
    },
    {
      "cell_type": "code",
      "metadata": {
        "id": "_qNl0LPg6-04",
        "colab": {
          "base_uri": "https://localhost:8080/"
        },
        "outputId": "05464184-2d70-4c4f-b0b0-90acba1db945"
      },
      "source": [
        "v.assign_add(tf.ones((3, 1)))"
      ],
      "execution_count": 9,
      "outputs": [
        {
          "output_type": "execute_result",
          "data": {
            "text/plain": [
              "<tf.Variable 'UnreadVariable' shape=(3, 1) dtype=float32, numpy=\n",
              "array([[4.],\n",
              "       [2.],\n",
              "       [2.]], dtype=float32)>"
            ]
          },
          "metadata": {},
          "execution_count": 9
        }
      ]
    },
    {
      "cell_type": "markdown",
      "metadata": {
        "id": "9EWdQSi36-04"
      },
      "source": [
        "#### Tensor operations: Doing math in TensorFlow"
      ]
    },
    {
      "cell_type": "markdown",
      "metadata": {
        "id": "DAk6AYl76-04"
      },
      "source": [
        "**A few basic math operations**"
      ]
    },
    {
      "cell_type": "code",
      "metadata": {
        "id": "SunnqrRg6-04"
      },
      "source": [
        "a = tf.ones((2, 2))\n",
        "b = tf.square(a)\n",
        "c = tf.sqrt(a)\n",
        "d = b + c\n",
        "e = tf.matmul(a, b)\n",
        "e *= d"
      ],
      "execution_count": 10,
      "outputs": []
    },
    {
      "cell_type": "markdown",
      "metadata": {
        "id": "ovk1or4p6-05"
      },
      "source": [
        "#### A second look at the GradientTape API"
      ]
    },
    {
      "cell_type": "markdown",
      "metadata": {
        "id": "VUK9cJ-k6-05"
      },
      "source": [
        "**Using the `GradientTape`**"
      ]
    },
    {
      "cell_type": "code",
      "metadata": {
        "id": "bQU_0n6g6-05"
      },
      "source": [
        "input_var = tf.Variable(initial_value=3.)\n",
        "with tf.GradientTape() as tape:\n",
        "   result = tf.square(input_var)\n",
        "gradient = tape.gradient(result, input_var)"
      ],
      "execution_count": 11,
      "outputs": []
    },
    {
      "cell_type": "markdown",
      "metadata": {
        "id": "0m2a15yi6-05"
      },
      "source": [
        "**Using `GradientTape` with constant tensor inputs**"
      ]
    },
    {
      "cell_type": "code",
      "metadata": {
        "id": "ITSKqUvL6-05"
      },
      "source": [
        "input_const = tf.constant(3.)\n",
        "with tf.GradientTape() as tape:\n",
        "   tape.watch(input_const)\n",
        "   result = tf.square(input_const)\n",
        "gradient = tape.gradient(result, input_const)"
      ],
      "execution_count": 12,
      "outputs": []
    },
    {
      "cell_type": "markdown",
      "metadata": {
        "id": "QQk6YRCg6-06"
      },
      "source": [
        "**Using nested gradient tapes to compute second-order gradients**"
      ]
    },
    {
      "cell_type": "code",
      "metadata": {
        "id": "p_e3k8I36-06"
      },
      "source": [
        "time = tf.Variable(0.)\n",
        "with tf.GradientTape() as outer_tape:\n",
        "    with tf.GradientTape() as inner_tape:\n",
        "        position =  4.9 * time ** 2\n",
        "    speed = inner_tape.gradient(position, time)\n",
        "acceleration = outer_tape.gradient(speed, time)"
      ],
      "execution_count": 13,
      "outputs": []
    },
    {
      "cell_type": "markdown",
      "metadata": {
        "id": "mu08OMVZ6-07"
      },
      "source": [
        "#### An end-to-end example: A linear classifier in pure TensorFlow"
      ]
    },
    {
      "cell_type": "markdown",
      "metadata": {
        "id": "nFQCz1sQ6-07"
      },
      "source": [
        "**Generating two classes of random points in a 2D plane**"
      ]
    },
    {
      "cell_type": "code",
      "metadata": {
        "id": "0LX_ijSt6-07"
      },
      "source": [
        "num_samples_per_class = 1000\n",
        "negative_samples = np.random.multivariate_normal(\n",
        "    mean=[0, 3],\n",
        "    cov=[[1, 0.5],[0.5, 1]],\n",
        "    size=num_samples_per_class)\n",
        "positive_samples = np.random.multivariate_normal(\n",
        "    mean=[3, 0],\n",
        "    cov=[[1, 0.5],[0.5, 1]],\n",
        "    size=num_samples_per_class)"
      ],
      "execution_count": 14,
      "outputs": []
    },
    {
      "cell_type": "markdown",
      "metadata": {
        "id": "pzcGQCE46-08"
      },
      "source": [
        "**Stacking the two classes into an array with shape (2000, 2)**"
      ]
    },
    {
      "cell_type": "code",
      "metadata": {
        "id": "s4XIMtzl6-08"
      },
      "source": [
        "inputs = np.vstack((negative_samples, positive_samples)).astype(np.float32)"
      ],
      "execution_count": 15,
      "outputs": []
    },
    {
      "cell_type": "markdown",
      "metadata": {
        "id": "ieRJxkJb6-08"
      },
      "source": [
        "**Generating the corresponding targets (0 and 1)**"
      ]
    },
    {
      "cell_type": "code",
      "metadata": {
        "id": "mIzAMas96-08"
      },
      "source": [
        "targets = np.vstack((np.zeros((num_samples_per_class, 1), dtype=\"float32\"),\n",
        "                     np.ones((num_samples_per_class, 1), dtype=\"float32\")))"
      ],
      "execution_count": 16,
      "outputs": []
    },
    {
      "cell_type": "markdown",
      "metadata": {
        "id": "Lmc_n6Kz6-08"
      },
      "source": [
        "**Plotting the two point classes**"
      ]
    },
    {
      "cell_type": "code",
      "metadata": {
        "id": "q6RzyE7F6-08",
        "colab": {
          "base_uri": "https://localhost:8080/",
          "height": 265
        },
        "outputId": "ff49ef94-b69f-41ef-d748-e17081469bec"
      },
      "source": [
        "import matplotlib.pyplot as plt\n",
        "plt.scatter(inputs[:, 0], inputs[:, 1], c=targets[:, 0])\n",
        "plt.show()"
      ],
      "execution_count": 17,
      "outputs": [
        {
          "output_type": "display_data",
          "data": {
            "image/png": "[encoded data removed]",
            "text/plain": [
              "<Figure size 432x288 with 1 Axes>"
            ]
          },
          "metadata": {
            "needs_background": "light"
          }
        }
      ]
    },
    {
      "cell_type": "markdown",
      "metadata": {
        "id": "J9WjbeOX6-09"
      },
      "source": [
        "**Creating the linear classifier variables**"
      ]
    },
    {
      "cell_type": "code",
      "metadata": {
        "id": "tfUd7BrH6-09"
      },
      "source": [
        "input_dim = 2\n",
        "output_dim = 1\n",
        "W = tf.Variable(initial_value=tf.random.uniform(shape=(input_dim, output_dim)))\n",
        "b = tf.Variable(initial_value=tf.zeros(shape=(output_dim,)))"
      ],
      "execution_count": 18,
      "outputs": []
    },
    {
      "cell_type": "markdown",
      "metadata": {
        "id": "jhZ284nC6-09"
      },
      "source": [
        "**The forward pass function**"
      ]
    },
    {
      "cell_type": "code",
      "metadata": {
        "id": "i79VnP_D6-09"
      },
      "source": [
        "def model(inputs):\n",
        "    return tf.matmul(inputs, W) + b"
      ],
      "execution_count": 19,
      "outputs": []
    },
    {
      "cell_type": "markdown",
      "metadata": {
        "id": "xYHL8qrK6-09"
      },
      "source": [
        "**The mean squared error loss function**"
      ]
    },
    {
      "cell_type": "code",
      "metadata": {
        "id": "F_GR2thj6-09"
      },
      "source": [
        "def square_loss(targets, predictions):\n",
        "    per_sample_losses = tf.square(targets - predictions)\n",
        "    return tf.reduce_mean(per_sample_losses)"
      ],
      "execution_count": 20,
      "outputs": []
    },
    {
      "cell_type": "markdown",
      "metadata": {
        "id": "YjV3ggjL6-09"
      },
      "source": [
        "**The training step function**"
      ]
    },
    {
      "cell_type": "code",
      "metadata": {
        "id": "Mxj60Nad6-0-"
      },
      "source": [
        "learning_rate = 0.1\n",
        "\n",
        "def training_step(inputs, targets):\n",
        "    with tf.GradientTape() as tape:\n",
        "        predictions = model(inputs)\n",
        "        loss = square_loss(predictions, targets)\n",
        "    grad_loss_wrt_W, grad_loss_wrt_b = tape.gradient(loss, [W, b])\n",
        "    W.assign_sub(grad_loss_wrt_W * learning_rate)\n",
        "    b.assign_sub(grad_loss_wrt_b * learning_rate)\n",
        "    return loss"
      ],
      "execution_count": 21,
      "outputs": []
    },
    {
      "cell_type": "markdown",
      "metadata": {
        "id": "aDXeeBfm6-0-"
      },
      "source": [
        "**The batch training loop**"
      ]
    },
    {
      "cell_type": "code",
      "metadata": {
        "id": "5B2Jm2-A6-0-",
        "colab": {
          "base_uri": "https://localhost:8080/"
        },
        "outputId": "55dc4fff-0d2a-4a84-a161-62b1a5813619"
      },
      "source": [
        "for step in range(40):\n",
        "    loss = training_step(inputs, targets)\n",
        "    print(f\"Loss at step {step}: {loss:.4f}\")"
      ],
      "execution_count": 22,
      "outputs": [
        {
          "output_type": "stream",
          "name": "stdout",
          "text": [
            "Loss at step 0: 4.1424\n",
            "Loss at step 1: 0.6981\n",
            "Loss at step 2: 0.2196\n",
            "Loss at step 3: 0.1457\n",
            "Loss at step 4: 0.1279\n",
            "Loss at step 5: 0.1184\n",
            "Loss at step 6: 0.1107\n",
            "Loss at step 7: 0.1037\n",
            "Loss at step 8: 0.0974\n",
            "Loss at step 9: 0.0915\n",
            "Loss at step 10: 0.0862\n",
            "Loss at step 11: 0.0812\n",
            "Loss at step 12: 0.0767\n",
            "Loss at step 13: 0.0726\n",
            "Loss at step 14: 0.0688\n",
            "Loss at step 15: 0.0653\n",
            "Loss at step 16: 0.0621\n",
            "Loss at step 17: 0.0592\n",
            "Loss at step 18: 0.0565\n",
            "Loss at step 19: 0.0540\n",
            "Loss at step 20: 0.0517\n",
            "Loss at step 21: 0.0497\n",
            "Loss at step 22: 0.0477\n",
            "Loss at step 23: 0.0460\n",
            "Loss at step 24: 0.0444\n",
            "Loss at step 25: 0.0429\n",
            "Loss at step 26: 0.0416\n",
            "Loss at step 27: 0.0403\n",
            "Loss at step 28: 0.0392\n",
            "Loss at step 29: 0.0382\n",
            "Loss at step 30: 0.0372\n",
            "Loss at step 31: 0.0363\n",
            "Loss at step 32: 0.0355\n",
            "Loss at step 33: 0.0348\n",
            "Loss at step 34: 0.0341\n",
            "Loss at step 35: 0.0335\n",
            "Loss at step 36: 0.0329\n",
            "Loss at step 37: 0.0324\n",
            "Loss at step 38: 0.0319\n",
            "Loss at step 39: 0.0315\n"
          ]
        }
      ]
    },
    {
      "cell_type": "code",
      "metadata": {
        "id": "prEAl9ar6-0-",
        "colab": {
          "base_uri": "https://localhost:8080/",
          "height": 265
        },
        "outputId": "941a61da-506d-44f2-dca9-9820292e2b34"
      },
      "source": [
        "predictions = model(inputs)\n",
        "plt.scatter(inputs[:, 0], inputs[:, 1], c=predictions[:, 0] > 0.5)\n",
        "plt.show()"
      ],
      "execution_count": 23,
      "outputs": [
        {
          "output_type": "display_data",
          "data": {
            "image/png": "[encoded data removed]",
            "text/plain": [
              "<Figure size 432x288 with 1 Axes>"
            ]
          },
          "metadata": {
            "needs_background": "light"
          }
        }
      ]
    },
    {
      "cell_type": "code",
      "metadata": {
        "id": "glzVcZ9h6-0-",
        "colab": {
          "base_uri": "https://localhost:8080/",
          "height": 283
        },
        "outputId": "06656d0a-8d4c-4d2b-f5fb-86e803d21f74"
      },
      "source": [
        "x = np.linspace(-1, 4, 100)\n",
        "y = - W[0] /  W[1] * x + (0.5 - b) / W[1]\n",
        "plt.plot(x, y, \"-r\")\n",
        "plt.scatter(inputs[:, 0], inputs[:, 1], c=predictions[:, 0] > 0.5)"
      ],
      "execution_count": 24,
      "outputs": [
        {
          "output_type": "execute_result",
          "data": {
            "text/plain": [
              "<matplotlib.collections.PathCollection at 0x7fb47005c290>"
            ]
          },
          "metadata": {},
          "execution_count": 24
        },
        {
          "output_type": "display_data",
          "data": {
            "image/png": "[encoded data removed]",
            "text/plain": [
              "<Figure size 432x288 with 1 Axes>"
            ]
          },
          "metadata": {
            "needs_background": "light"
          }
        }
      ]
    },
    {
      "cell_type": "markdown",
      "metadata": {
        "id": "bXueQrKi6-0-"
      },
      "source": [
        "## Anatomy of a neural network: Understanding core Keras APIs"
      ]
    },
    {
      "cell_type": "markdown",
      "metadata": {
        "id": "KT66tXPe6-0_"
      },
      "source": [
        "### Layers: The building blocks of deep learning"
      ]
    },
    {
      "cell_type": "markdown",
      "metadata": {
        "id": "bSJQ0U806-0_"
      },
      "source": [
        "#### The base Layer class in Keras"
      ]
    },
    {
      "cell_type": "markdown",
      "metadata": {
        "id": "R9fYtnIs6-0_"
      },
      "source": [
        "**A `Dense` layer implemented as a `Layer` subclass**"
      ]
    },
    {
      "cell_type": "code",
      "metadata": {
        "id": "yDuf9IDg6-0_"
      },
      "source": [
        "from tensorflow import keras\n",
        "\n",
        "class SimpleDense(keras.layers.Layer):\n",
        "\n",
        "    def __init__(self, units, activation=None):\n",
        "        super().__init__()\n",
        "        self.units = units\n",
        "        self.activation = activation\n",
        "\n",
        "    def build(self, input_shape):\n",
        "        input_dim = input_shape[-1]\n",
        "        self.W = self.add_weight(shape=(input_dim, self.units),\n",
        "                                 initializer=\"random_normal\")\n",
        "        self.b = self.add_weight(shape=(self.units,),\n",
        "                                 initializer=\"zeros\")\n",
        "\n",
        "    def call(self, inputs):\n",
        "        y = tf.matmul(inputs, self.W) + self.b\n",
        "        if self.activation is not None:\n",
        "            y = self.activation(y)\n",
        "        return y"
      ],
      "execution_count": 25,
      "outputs": []
    },
    {
      "cell_type": "code",
      "metadata": {
        "id": "EJK0GAs16-0_",
        "colab": {
          "base_uri": "https://localhost:8080/"
        },
        "outputId": "44cafbe7-0a18-4d12-b7f5-a1c94b94f4a8"
      },
      "source": [
        "my_dense = SimpleDense(units=32, activation=tf.nn.relu)\n",
        "input_tensor = tf.ones(shape=(2, 784))\n",
        "output_tensor = my_dense(input_tensor)\n",
        "print(output_tensor.shape)"
      ],
      "execution_count": 26,
      "outputs": [
        {
          "output_type": "stream",
          "name": "stdout",
          "text": [
            "(2, 32)\n"
          ]
        }
      ]
    },
    {
      "cell_type": "markdown",
      "metadata": {
        "id": "wICDWiue6-0_"
      },
      "source": [
        "#### Automatic shape inference: Building layers on the fly"
      ]
    },
    {
      "cell_type": "code",
      "metadata": {
        "id": "icQNFNoM6-0_"
      },
      "source": [
        "from tensorflow.keras import layers\n",
        "layer = layers.Dense(32, activation=\"relu\")"
      ],
      "execution_count": 27,
      "outputs": []
    },
    {
      "cell_type": "code",
      "metadata": {
        "id": "r7q9Y0Il6-1A"
      },
      "source": [
        "from tensorflow.keras import models\n",
        "from tensorflow.keras import layers\n",
        "model = models.Sequential([\n",
        "    layers.Dense(32, activation=\"relu\"),\n",
        "    layers.Dense(32)\n",
        "])"
      ],
      "execution_count": 28,
      "outputs": []
    },
    {
      "cell_type": "code",
      "metadata": {
        "id": "0vjwgQ6I6-1A"
      },
      "source": [
        "model = keras.Sequential([\n",
        "    SimpleDense(32, activation=\"relu\"),\n",
        "    SimpleDense(64, activation=\"relu\"),\n",
        "    SimpleDense(32, activation=\"relu\"),\n",
        "    SimpleDense(10, activation=\"softmax\")\n",
        "])"
      ],
      "execution_count": 29,
      "outputs": []
    },
    {
      "cell_type": "markdown",
      "metadata": {
        "id": "2ZZVhrMD6-1A"
      },
      "source": [
        "### From layers to models"
      ]
    },
    {
      "cell_type": "markdown",
      "metadata": {
        "id": "peosVcHs6-1A"
      },
      "source": [
        "### The \"compile\" step: Configuring the learning process"
      ]
    },
    {
      "cell_type": "code",
      "metadata": {
        "id": "8k7g14Nq6-1A"
      },
      "source": [
        "model = keras.Sequential([keras.layers.Dense(1)])\n",
        "model.compile(optimizer=\"rmsprop\",\n",
        "              loss=\"mean_squared_error\",\n",
        "              metrics=[\"accuracy\"])"
      ],
      "execution_count": 30,
      "outputs": []
    },
    {
      "cell_type": "code",
      "metadata": {
        "id": "EGQDmZvF6-1A"
      },
      "source": [
        "model.compile(optimizer=keras.optimizers.RMSprop(),\n",
        "              loss=keras.losses.MeanSquaredError(),\n",
        "              metrics=[keras.metrics.BinaryAccuracy()])"
      ],
      "execution_count": 31,
      "outputs": []
    },
    {
      "cell_type": "markdown",
      "metadata": {
        "id": "Yaiwju7Y6-1A"
      },
      "source": [
        "### Picking a loss function"
      ]
    },
    {
      "cell_type": "markdown",
      "metadata": {
        "id": "1LBcA7qc6-1B"
      },
      "source": [
        "### Understanding the fit() method"
      ]
    },
    {
      "cell_type": "markdown",
      "metadata": {
        "id": "ulFJLlih6-1B"
      },
      "source": [
        "**Calling `fit()` with NumPy data**"
      ]
    },
    {
      "cell_type": "code",
      "metadata": {
        "id": "yd78NRM86-1B",
        "colab": {
          "base_uri": "https://localhost:8080/"
        },
        "outputId": "54e2a210-204e-461f-f903-85c8d8e0d24f"
      },
      "source": [
        "history = model.fit(\n",
        "    inputs,\n",
        "    targets,\n",
        "    epochs=5,\n",
        "    batch_size=128\n",
        ")"
      ],
      "execution_count": 32,
      "outputs": [
        {
          "output_type": "stream",
          "name": "stdout",
          "text": [
            "Epoch 1/5\n",
            "16/16 [==============================] - 1s 4ms/step - loss: 1.7638 - binary_accuracy: 0.5575\n",
            "Epoch 2/5\n",
            "16/16 [==============================] - 0s 4ms/step - loss: 1.5697 - binary_accuracy: 0.5675\n",
            "Epoch 3/5\n",
            "16/16 [==============================] - 0s 5ms/step - loss: 1.4130 - binary_accuracy: 0.5730\n",
            "Epoch 4/5\n",
            "16/16 [==============================] - 0s 4ms/step - loss: 1.2717 - binary_accuracy: 0.5800\n",
            "Epoch 5/5\n",
            "16/16 [==============================] - 0s 3ms/step - loss: 1.1385 - binary_accuracy: 0.5895\n"
          ]
        }
      ]
    },
    {
      "cell_type": "code",
      "metadata": {
        "id": "5EkwalxG6-1B",
        "colab": {
          "base_uri": "https://localhost:8080/"
        },
        "outputId": "c2a7ecee-0cdb-436b-9981-f35362e1193b"
      },
      "source": [
        "history.history"
      ],
      "execution_count": 33,
      "outputs": [
        {
          "output_type": "execute_result",
          "data": {
            "text/plain": [
              "{'binary_accuracy': [0.5575000047683716,\n",
              "  0.5674999952316284,\n",
              "  0.5730000138282776,\n",
              "  0.5799999833106995,\n",
              "  0.5895000100135803],\n",
              " 'loss': [1.7637722492218018,\n",
              "  1.5696735382080078,\n",
              "  1.4129778146743774,\n",
              "  1.2716537714004517,\n",
              "  1.1385418176651]}"
            ]
          },
          "metadata": {},
          "execution_count": 33
        }
      ]
    },
    {
      "cell_type": "markdown",
      "metadata": {
        "id": "0SEwoZkO6-1B"
      },
      "source": [
        "### Monitoring loss and metrics on validation data"
      ]
    },
    {
      "cell_type": "markdown",
      "metadata": {
        "id": "7msH1jw56-1B"
      },
      "source": [
        "**Using the `validation_data` argument**"
      ]
    },
    {
      "cell_type": "code",
      "metadata": {
        "id": "sHwIP2TJ6-1B",
        "colab": {
          "base_uri": "https://localhost:8080/"
        },
        "outputId": "ec534637-0f8a-4f84-b71b-0b0e70b333fa"
      },
      "source": [
        "model = keras.Sequential([keras.layers.Dense(1)])\n",
        "model.compile(optimizer=keras.optimizers.RMSprop(learning_rate=0.1),\n",
        "              loss=keras.losses.MeanSquaredError(),\n",
        "              metrics=[keras.metrics.BinaryAccuracy()])\n",
        "\n",
        "indices_permutation = np.random.permutation(len(inputs))\n",
        "shuffled_inputs = inputs[indices_permutation]\n",
        "shuffled_targets = targets[indices_permutation]\n",
        "\n",
        "num_validation_samples = int(0.3 * len(inputs))\n",
        "val_inputs = shuffled_inputs[:num_validation_samples]\n",
        "val_targets = shuffled_targets[:num_validation_samples]\n",
        "training_inputs = shuffled_inputs[num_validation_samples:]\n",
        "training_targets = shuffled_targets[num_validation_samples:]\n",
        "model.fit(\n",
        "    training_inputs,\n",
        "    training_targets,\n",
        "    epochs=5,\n",
        "    batch_size=16,\n",
        "    validation_data=(val_inputs, val_targets)\n",
        ")"
      ],
      "execution_count": 34,
      "outputs": [
        {
          "output_type": "stream",
          "name": "stdout",
          "text": [
            "Epoch 1/5\n",
            "88/88 [==============================] - 1s 7ms/step - loss: 0.4030 - binary_accuracy: 0.8707 - val_loss: 0.1308 - val_binary_accuracy: 0.8617\n",
            "Epoch 2/5\n",
            "88/88 [==============================] - 0s 5ms/step - loss: 0.0809 - binary_accuracy: 0.9536 - val_loss: 0.0573 - val_binary_accuracy: 0.9767\n",
            "Epoch 3/5\n",
            "88/88 [==============================] - 0s 6ms/step - loss: 0.0680 - binary_accuracy: 0.9614 - val_loss: 0.1246 - val_binary_accuracy: 0.9050\n",
            "Epoch 4/5\n",
            "88/88 [==============================] - 0s 5ms/step - loss: 0.0743 - binary_accuracy: 0.9600 - val_loss: 0.0347 - val_binary_accuracy: 0.9950\n",
            "Epoch 5/5\n",
            "88/88 [==============================] - 0s 5ms/step - loss: 0.0824 - binary_accuracy: 0.9407 - val_loss: 0.0295 - val_binary_accuracy: 1.0000\n"
          ]
        },
        {
          "output_type": "execute_result",
          "data": {
            "text/plain": [
              "<keras.callbacks.History at 0x7fb4029bcc50>"
            ]
          },
          "metadata": {},
          "execution_count": 34
        }
      ]
    },
    {
      "cell_type": "markdown",
      "metadata": {
        "id": "c2J2qT5v6-1B"
      },
      "source": [
        "### Inference: Using a model after training"
      ]
    },
    {
      "cell_type": "code",
      "metadata": {
        "id": "284Quanm6-1C",
        "colab": {
          "base_uri": "https://localhost:8080/"
        },
        "outputId": "60f6df7a-8cd6-4dc9-d583-42d358f04d61"
      },
      "source": [
        "predictions = model.predict(val_inputs, batch_size=128)\n",
        "print(predictions[:10])"
      ],
      "execution_count": 35,
      "outputs": [
        {
          "output_type": "stream",
          "name": "stdout",
          "text": [
            "[[0.18506521]\n",
            " [0.25049546]\n",
            " [0.02149954]\n",
            " [1.0153799 ]\n",
            " [0.09580338]\n",
            " [0.9807625 ]\n",
            " [0.76129115]\n",
            " [1.1212869 ]\n",
            " [0.30529538]\n",
            " [0.9164678 ]]\n"
          ]
        }
      ]
    },
    {
      "cell_type": "markdown",
      "metadata": {
        "id": "lXPl8ef76-1C"
      },
      "source": [
        "## Summary"
      ]
    },
    {
      "cell_type": "markdown",
      "metadata": {
        "id": "cHCTrMId8ov-"
      },
      "source": [
        "#### JY Notes:      \n",
        "Evaluation of model run  "
      ]
    },
    {
      "cell_type": "markdown",
      "metadata": {
        "id": "92OhqOyL8o0G"
      },
      "source": [
        "#### JY Notes:  \n",
        "\n",
        "TensorFlow code to remember  "
      ]
    },
    {
      "cell_type": "markdown",
      "metadata": {
        "id": "9rVwHUS18o3i"
      },
      "source": [
        "#### JY Notes:  \n",
        "Links and Refs saved   "
      ]
    },
    {
      "cell_type": "markdown",
      "metadata": {
        "id": "P8ncRi2m8o-X"
      },
      "source": [
        "#### JY Notes:   \n",
        "Summary Concepts ---   "
      ]
    },
    {
      "cell_type": "markdown",
      "metadata": {
        "id": "1qAHekEO8pHO"
      },
      "source": [
        ""
      ]
    }
  ]
}