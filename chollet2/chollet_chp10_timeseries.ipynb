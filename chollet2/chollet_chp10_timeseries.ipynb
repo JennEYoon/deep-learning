{
  "cells": [
    {
      "cell_type": "markdown",
      "metadata": {
        "id": "view-in-github",
        "colab_type": "text"
      },
      "source": [
        "<a href=\"https://colab.research.google.com/github/JennEYoon/deep-learning/blob/main/chollet2/chollet_chp10_timeseries.ipynb\" target=\"_parent\"><img src=\"https://colab.research.google.com/assets/colab-badge.svg\" alt=\"Open In Colab\"/></a>"
      ]
    },
    {
      "cell_type": "markdown",
      "metadata": {
        "id": "Vng4VCmNcy6J"
      },
      "source": [
        "This notebook was generated for TensorFlow 2.6."
      ]
    },
    {
      "cell_type": "markdown",
      "source": [
        "Jennifer Yoon, run on Colab and local wsl2.  \n",
        "Feb 2022"
      ],
      "metadata": {
        "id": "SC0mEL5eFwMC"
      }
    },
    {
      "cell_type": "markdown",
      "metadata": {
        "id": "KCBWWFQJcy6P"
      },
      "source": [
        "# Deep learning for timeseries"
      ]
    },
    {
      "cell_type": "markdown",
      "metadata": {
        "id": "C7k9jVt8cy6Q"
      },
      "source": [
        "## Different kinds of timeseries tasks"
      ]
    },
    {
      "cell_type": "markdown",
      "metadata": {
        "id": "oRUgmXfscy6Q"
      },
      "source": [
        "## A temperature-forecasting example"
      ]
    },
    {
      "cell_type": "code",
      "execution_count": 1,
      "metadata": {
        "id": "Gl9h38IQcy6R",
        "outputId": "261ed4e3-65a0-4ebc-e84e-944ea089e1ce",
        "colab": {
          "base_uri": "https://localhost:8080/"
        }
      },
      "outputs": [
        {
          "output_type": "stream",
          "name": "stdout",
          "text": [
            "--2022-02-13 22:00:06--  https://s3.amazonaws.com/keras-datasets/jena_climate_2009_2016.csv.zip\n",
            "Resolving s3.amazonaws.com (s3.amazonaws.com)... 52.217.65.38\n",
            "Connecting to s3.amazonaws.com (s3.amazonaws.com)|52.217.65.38|:443... connected.\n",
            "HTTP request sent, awaiting response... 200 OK\n",
            "Length: 13565642 (13M) [application/zip]\n",
            "Saving to: ‘jena_climate_2009_2016.csv.zip’\n",
            "\n",
            "jena_climate_2009_2 100%[===================>]  12.94M  36.5MB/s    in 0.4s    \n",
            "\n",
            "2022-02-13 22:00:07 (36.5 MB/s) - ‘jena_climate_2009_2016.csv.zip’ saved [13565642/13565642]\n",
            "\n",
            "Archive:  jena_climate_2009_2016.csv.zip\n",
            "  inflating: jena_climate_2009_2016.csv  \n",
            "  inflating: __MACOSX/._jena_climate_2009_2016.csv  \n"
          ]
        }
      ],
      "source": [
        "!wget https://s3.amazonaws.com/keras-datasets/jena_climate_2009_2016.csv.zip\n",
        "!unzip jena_climate_2009_2016.csv.zip"
      ]
    },
    {
      "cell_type": "markdown",
      "metadata": {
        "id": "JkDldmkIcy6T"
      },
      "source": [
        "**Inspecting the data of the Jena weather dataset**"
      ]
    },
    {
      "cell_type": "code",
      "execution_count": 3,
      "metadata": {
        "id": "61erf3LYcy6U",
        "outputId": "6bd3b347-430e-4f02-8ccc-9dbf13f9b1dd",
        "colab": {
          "base_uri": "https://localhost:8080/"
        }
      },
      "outputs": [
        {
          "output_type": "stream",
          "name": "stdout",
          "text": [
            "['\"Date Time\"', '\"p (mbar)\"', '\"T (degC)\"', '\"Tpot (K)\"', '\"Tdew (degC)\"', '\"rh (%)\"', '\"VPmax (mbar)\"', '\"VPact (mbar)\"', '\"VPdef (mbar)\"', '\"sh (g/kg)\"', '\"H2OC (mmol/mol)\"', '\"rho (g/m**3)\"', '\"wv (m/s)\"', '\"max. wv (m/s)\"', '\"wd (deg)\"']\n",
            "420451\n"
          ]
        }
      ],
      "source": [
        "import os\n",
        "fname = os.path.join(\"jena_climate_2009_2016.csv\")\n",
        "\n",
        "with open(fname) as f:\n",
        "    data = f.read()\n",
        "\n",
        "lines = data.split(\"\\n\")\n",
        "header = lines[0].split(\",\")\n",
        "lines = lines[1:]\n",
        "print(header)\n",
        "print(len(lines))\n",
        "# 420,450 data rows, 1 header row \n",
        "# first row 1/1/2009.  \n",
        "# last row 1/1/2017. \n",
        "# date, month, year, time hh:mm:ss format."
      ]
    },
    {
      "cell_type": "code",
      "source": [
        "# data inspection with pandas  \n",
        "import pandas as pd  \n",
        "print(pd.__version__)\n",
        "!python --version"
      ],
      "metadata": {
        "id": "4H4ZxNIBI6jU",
        "outputId": "9291e6c5-5f83-4307-f0c8-db2358188425",
        "colab": {
          "base_uri": "https://localhost:8080/"
        }
      },
      "execution_count": 4,
      "outputs": [
        {
          "output_type": "stream",
          "name": "stdout",
          "text": [
            "1.3.5\n",
            "Python 3.7.12\n"
          ]
        }
      ]
    },
    {
      "cell_type": "code",
      "source": [
        "jena = pd.read_csv(fname)\n",
        "print(jena.head())\n",
        "print(jena.tail())\n",
        "print(len(jena))"
      ],
      "metadata": {
        "id": "FY2KSs_XI6s5",
        "outputId": "7913bb7f-6e8e-4d8b-e239-bbb4af4d32f4",
        "colab": {
          "base_uri": "https://localhost:8080/"
        }
      },
      "execution_count": 7,
      "outputs": [
        {
          "output_type": "stream",
          "name": "stdout",
          "text": [
            "             Date Time  p (mbar)  T (degC)  ...  wv (m/s)  max. wv (m/s)  wd (deg)\n",
            "0  01.01.2009 00:10:00    996.52     -8.02  ...      1.03           1.75     152.3\n",
            "1  01.01.2009 00:20:00    996.57     -8.41  ...      0.72           1.50     136.1\n",
            "2  01.01.2009 00:30:00    996.53     -8.51  ...      0.19           0.63     171.6\n",
            "3  01.01.2009 00:40:00    996.51     -8.31  ...      0.34           0.50     198.0\n",
            "4  01.01.2009 00:50:00    996.51     -8.27  ...      0.32           0.63     214.3\n",
            "\n",
            "[5 rows x 15 columns]\n",
            "                  Date Time  p (mbar)  ...  max. wv (m/s)  wd (deg)\n",
            "420446  31.12.2016 23:20:00   1000.07  ...           1.52     240.0\n",
            "420447  31.12.2016 23:30:00    999.93  ...           1.92     234.3\n",
            "420448  31.12.2016 23:40:00    999.82  ...           2.00     215.2\n",
            "420449  31.12.2016 23:50:00    999.81  ...           2.16     225.8\n",
            "420450  01.01.2017 00:00:00    999.82  ...           1.96     184.9\n",
            "\n",
            "[5 rows x 15 columns]\n",
            "420451\n"
          ]
        }
      ]
    },
    {
      "cell_type": "code",
      "source": [
        "jena.iloc[420450, 0]"
      ],
      "metadata": {
        "id": "_ReoqRLkJNnr",
        "outputId": "c213071f-1e5f-48b5-c0ed-1800266bfa5d",
        "colab": {
          "base_uri": "https://localhost:8080/",
          "height": 35
        }
      },
      "execution_count": 11,
      "outputs": [
        {
          "output_type": "execute_result",
          "data": {
            "application/vnd.google.colaboratory.intrinsic+json": {
              "type": "string"
            },
            "text/plain": [
              "'01.01.2017 00:00:00'"
            ]
          },
          "metadata": {},
          "execution_count": 11
        }
      ]
    },
    {
      "cell_type": "code",
      "source": [
        "jena.iloc[420450, :]"
      ],
      "metadata": {
        "id": "tZmwrTnyJNwJ",
        "outputId": "a295bacf-fb62-4ea8-cf40-5c4873c2bd4f",
        "colab": {
          "base_uri": "https://localhost:8080/"
        }
      },
      "execution_count": 12,
      "outputs": [
        {
          "output_type": "execute_result",
          "data": {
            "text/plain": [
              "Date Time          01.01.2017 00:00:00\n",
              "p (mbar)                        999.82\n",
              "T (degC)                         -4.82\n",
              "Tpot (K)                        268.36\n",
              "Tdew (degC)                      -8.42\n",
              "rh (%)                            75.7\n",
              "VPmax (mbar)                      4.27\n",
              "VPact (mbar)                      3.23\n",
              "VPdef (mbar)                      1.04\n",
              "sh (g/kg)                         2.01\n",
              "H2OC (mmol/mol)                   3.23\n",
              "rho (g/m**3)                   1296.38\n",
              "wv (m/s)                          1.23\n",
              "max. wv (m/s)                     1.96\n",
              "wd (deg)                         184.9\n",
              "Name: 420450, dtype: object"
            ]
          },
          "metadata": {},
          "execution_count": 12
        }
      ]
    },
    {
      "cell_type": "code",
      "source": [
        "jena.describe()"
      ],
      "metadata": {
        "id": "n-iRwUwgI614",
        "outputId": "3bede0b9-af41-4a59-9b1d-1598b7d36e60",
        "colab": {
          "base_uri": "https://localhost:8080/",
          "height": 381
        }
      },
      "execution_count": 13,
      "outputs": [
        {
          "output_type": "execute_result",
          "data": {
            "text/html": [
              "\n",
              "  <div id=\"df-3c2d741d-f39c-48fe-810b-62f48b74b222\">\n",
              "    <div class=\"colab-df-container\">\n",
              "      <div>\n",
              "<style scoped>\n",
              "    .dataframe tbody tr th:only-of-type {\n",
              "        vertical-align: middle;\n",
              "    }\n",
              "\n",
              "    .dataframe tbody tr th {\n",
              "        vertical-align: top;\n",
              "    }\n",
              "\n",
              "    .dataframe thead th {\n",
              "        text-align: right;\n",
              "    }\n",
              "</style>\n",
              "<table border=\"1\" class=\"dataframe\">\n",
              "  <thead>\n",
              "    <tr style=\"text-align: right;\">\n",
              "      <th></th>\n",
              "      <th>p (mbar)</th>\n",
              "      <th>T (degC)</th>\n",
              "      <th>Tpot (K)</th>\n",
              "      <th>Tdew (degC)</th>\n",
              "      <th>rh (%)</th>\n",
              "      <th>VPmax (mbar)</th>\n",
              "      <th>VPact (mbar)</th>\n",
              "      <th>VPdef (mbar)</th>\n",
              "      <th>sh (g/kg)</th>\n",
              "      <th>H2OC (mmol/mol)</th>\n",
              "      <th>rho (g/m**3)</th>\n",
              "      <th>wv (m/s)</th>\n",
              "      <th>max. wv (m/s)</th>\n",
              "      <th>wd (deg)</th>\n",
              "    </tr>\n",
              "  </thead>\n",
              "  <tbody>\n",
              "    <tr>\n",
              "      <th>count</th>\n",
              "      <td>420451.000000</td>\n",
              "      <td>420451.000000</td>\n",
              "      <td>420451.000000</td>\n",
              "      <td>420451.000000</td>\n",
              "      <td>420451.000000</td>\n",
              "      <td>420451.000000</td>\n",
              "      <td>420451.000000</td>\n",
              "      <td>420451.000000</td>\n",
              "      <td>420451.000000</td>\n",
              "      <td>420451.000000</td>\n",
              "      <td>420451.000000</td>\n",
              "      <td>420451.000000</td>\n",
              "      <td>420451.000000</td>\n",
              "      <td>420451.000000</td>\n",
              "    </tr>\n",
              "    <tr>\n",
              "      <th>mean</th>\n",
              "      <td>989.212508</td>\n",
              "      <td>9.448567</td>\n",
              "      <td>283.491182</td>\n",
              "      <td>4.954011</td>\n",
              "      <td>76.007045</td>\n",
              "      <td>13.575089</td>\n",
              "      <td>9.532524</td>\n",
              "      <td>4.042483</td>\n",
              "      <td>6.021630</td>\n",
              "      <td>9.638982</td>\n",
              "      <td>1216.069883</td>\n",
              "      <td>2.130309</td>\n",
              "      <td>3.532381</td>\n",
              "      <td>174.726164</td>\n",
              "    </tr>\n",
              "    <tr>\n",
              "      <th>std</th>\n",
              "      <td>8.359454</td>\n",
              "      <td>8.423685</td>\n",
              "      <td>8.504820</td>\n",
              "      <td>6.730411</td>\n",
              "      <td>16.477126</td>\n",
              "      <td>7.739481</td>\n",
              "      <td>4.183895</td>\n",
              "      <td>4.897270</td>\n",
              "      <td>2.655973</td>\n",
              "      <td>4.235130</td>\n",
              "      <td>39.977065</td>\n",
              "      <td>1.541830</td>\n",
              "      <td>2.340482</td>\n",
              "      <td>86.675965</td>\n",
              "    </tr>\n",
              "    <tr>\n",
              "      <th>min</th>\n",
              "      <td>913.600000</td>\n",
              "      <td>-23.010000</td>\n",
              "      <td>250.600000</td>\n",
              "      <td>-25.010000</td>\n",
              "      <td>12.950000</td>\n",
              "      <td>0.950000</td>\n",
              "      <td>0.790000</td>\n",
              "      <td>0.000000</td>\n",
              "      <td>0.500000</td>\n",
              "      <td>0.800000</td>\n",
              "      <td>1059.450000</td>\n",
              "      <td>0.000000</td>\n",
              "      <td>0.000000</td>\n",
              "      <td>0.000000</td>\n",
              "    </tr>\n",
              "    <tr>\n",
              "      <th>25%</th>\n",
              "      <td>984.200000</td>\n",
              "      <td>3.360000</td>\n",
              "      <td>277.430000</td>\n",
              "      <td>0.240000</td>\n",
              "      <td>65.210000</td>\n",
              "      <td>7.780000</td>\n",
              "      <td>6.210000</td>\n",
              "      <td>0.870000</td>\n",
              "      <td>3.920000</td>\n",
              "      <td>6.290000</td>\n",
              "      <td>1187.490000</td>\n",
              "      <td>0.990000</td>\n",
              "      <td>1.760000</td>\n",
              "      <td>124.800000</td>\n",
              "    </tr>\n",
              "    <tr>\n",
              "      <th>50%</th>\n",
              "      <td>989.570000</td>\n",
              "      <td>9.410000</td>\n",
              "      <td>283.460000</td>\n",
              "      <td>5.210000</td>\n",
              "      <td>79.300000</td>\n",
              "      <td>11.820000</td>\n",
              "      <td>8.860000</td>\n",
              "      <td>2.190000</td>\n",
              "      <td>5.590000</td>\n",
              "      <td>8.960000</td>\n",
              "      <td>1213.800000</td>\n",
              "      <td>1.760000</td>\n",
              "      <td>2.960000</td>\n",
              "      <td>198.100000</td>\n",
              "    </tr>\n",
              "    <tr>\n",
              "      <th>75%</th>\n",
              "      <td>994.720000</td>\n",
              "      <td>15.470000</td>\n",
              "      <td>289.530000</td>\n",
              "      <td>10.070000</td>\n",
              "      <td>89.400000</td>\n",
              "      <td>17.600000</td>\n",
              "      <td>12.350000</td>\n",
              "      <td>5.300000</td>\n",
              "      <td>7.800000</td>\n",
              "      <td>12.480000</td>\n",
              "      <td>1242.770000</td>\n",
              "      <td>2.860000</td>\n",
              "      <td>4.740000</td>\n",
              "      <td>234.100000</td>\n",
              "    </tr>\n",
              "    <tr>\n",
              "      <th>max</th>\n",
              "      <td>1015.350000</td>\n",
              "      <td>37.280000</td>\n",
              "      <td>311.340000</td>\n",
              "      <td>23.110000</td>\n",
              "      <td>100.000000</td>\n",
              "      <td>63.770000</td>\n",
              "      <td>28.320000</td>\n",
              "      <td>46.010000</td>\n",
              "      <td>18.130000</td>\n",
              "      <td>28.820000</td>\n",
              "      <td>1393.540000</td>\n",
              "      <td>14.630000</td>\n",
              "      <td>23.500000</td>\n",
              "      <td>360.000000</td>\n",
              "    </tr>\n",
              "  </tbody>\n",
              "</table>\n",
              "</div>\n",
              "      <button class=\"colab-df-convert\" onclick=\"convertToInteractive('df-3c2d741d-f39c-48fe-810b-62f48b74b222')\"\n",
              "              title=\"Convert this dataframe to an interactive table.\"\n",
              "              style=\"display:none;\">\n",
              "        \n",
              "  <svg xmlns=\"http://www.w3.org/2000/svg\" height=\"24px\"viewBox=\"0 0 24 24\"\n",
              "       width=\"24px\">\n",
              "    <path d=\"M0 0h24v24H0V0z\" fill=\"none\"/>\n",
              "    <path d=\"M18.56 5.44l.94 2.06.94-2.06 2.06-.94-2.06-.94-.94-2.06-.94 2.06-2.06.94zm-11 1L8.5 8.5l.94-2.06 2.06-.94-2.06-.94L8.5 2.5l-.94 2.06-2.06.94zm10 10l.94 2.06.94-2.06 2.06-.94-2.06-.94-.94-2.06-.94 2.06-2.06.94z\"/><path d=\"M17.41 7.96l-1.37-1.37c-.4-.4-.92-.59-1.43-.59-.52 0-1.04.2-1.43.59L10.3 9.45l-7.72 7.72c-.78.78-.78 2.05 0 2.83L4 21.41c.39.39.9.59 1.41.59.51 0 1.02-.2 1.41-.59l7.78-7.78 2.81-2.81c.8-.78.8-2.07 0-2.86zM5.41 20L4 18.59l7.72-7.72 1.47 1.35L5.41 20z\"/>\n",
              "  </svg>\n",
              "      </button>\n",
              "      \n",
              "  <style>\n",
              "    .colab-df-container {\n",
              "      display:flex;\n",
              "      flex-wrap:wrap;\n",
              "      gap: 12px;\n",
              "    }\n",
              "\n",
              "    .colab-df-convert {\n",
              "      background-color: #E8F0FE;\n",
              "      border: none;\n",
              "      border-radius: 50%;\n",
              "      cursor: pointer;\n",
              "      display: none;\n",
              "      fill: #1967D2;\n",
              "      height: 32px;\n",
              "      padding: 0 0 0 0;\n",
              "      width: 32px;\n",
              "    }\n",
              "\n",
              "    .colab-df-convert:hover {\n",
              "      background-color: #E2EBFA;\n",
              "      box-shadow: 0px 1px 2px rgba(60, 64, 67, 0.3), 0px 1px 3px 1px rgba(60, 64, 67, 0.15);\n",
              "      fill: #174EA6;\n",
              "    }\n",
              "\n",
              "    [theme=dark] .colab-df-convert {\n",
              "      background-color: #3B4455;\n",
              "      fill: #D2E3FC;\n",
              "    }\n",
              "\n",
              "    [theme=dark] .colab-df-convert:hover {\n",
              "      background-color: #434B5C;\n",
              "      box-shadow: 0px 1px 3px 1px rgba(0, 0, 0, 0.15);\n",
              "      filter: drop-shadow(0px 1px 2px rgba(0, 0, 0, 0.3));\n",
              "      fill: #FFFFFF;\n",
              "    }\n",
              "  </style>\n",
              "\n",
              "      <script>\n",
              "        const buttonEl =\n",
              "          document.querySelector('#df-3c2d741d-f39c-48fe-810b-62f48b74b222 button.colab-df-convert');\n",
              "        buttonEl.style.display =\n",
              "          google.colab.kernel.accessAllowed ? 'block' : 'none';\n",
              "\n",
              "        async function convertToInteractive(key) {\n",
              "          const element = document.querySelector('#df-3c2d741d-f39c-48fe-810b-62f48b74b222');\n",
              "          const dataTable =\n",
              "            await google.colab.kernel.invokeFunction('convertToInteractive',\n",
              "                                                     [key], {});\n",
              "          if (!dataTable) return;\n",
              "\n",
              "          const docLinkHtml = 'Like what you see? Visit the ' +\n",
              "            '<a target=\"_blank\" href=https://colab.research.google.com/notebooks/data_table.ipynb>data table notebook</a>'\n",
              "            + ' to learn more about interactive tables.';\n",
              "          element.innerHTML = '';\n",
              "          dataTable['output_type'] = 'display_data';\n",
              "          await google.colab.output.renderOutput(dataTable, element);\n",
              "          const docLink = document.createElement('div');\n",
              "          docLink.innerHTML = docLinkHtml;\n",
              "          element.appendChild(docLink);\n",
              "        }\n",
              "      </script>\n",
              "    </div>\n",
              "  </div>\n",
              "  "
            ],
            "text/plain": [
              "            p (mbar)       T (degC)  ...  max. wv (m/s)       wd (deg)\n",
              "count  420451.000000  420451.000000  ...  420451.000000  420451.000000\n",
              "mean      989.212508       9.448567  ...       3.532381     174.726164\n",
              "std         8.359454       8.423685  ...       2.340482      86.675965\n",
              "min       913.600000     -23.010000  ...       0.000000       0.000000\n",
              "25%       984.200000       3.360000  ...       1.760000     124.800000\n",
              "50%       989.570000       9.410000  ...       2.960000     198.100000\n",
              "75%       994.720000      15.470000  ...       4.740000     234.100000\n",
              "max      1015.350000      37.280000  ...      23.500000     360.000000\n",
              "\n",
              "[8 rows x 14 columns]"
            ]
          },
          "metadata": {},
          "execution_count": 13
        }
      ]
    },
    {
      "cell_type": "code",
      "source": [
        "jena.corr()"
      ],
      "metadata": {
        "id": "JzE4eRxMOb0H",
        "outputId": "198cb5a0-9264-4d27-b31c-1946ac05ba0d",
        "colab": {
          "base_uri": "https://localhost:8080/",
          "height": 691
        }
      },
      "execution_count": 15,
      "outputs": [
        {
          "output_type": "execute_result",
          "data": {
            "text/html": [
              "\n",
              "  <div id=\"df-983c2500-3623-4272-8635-96bbbff55cc1\">\n",
              "    <div class=\"colab-df-container\">\n",
              "      <div>\n",
              "<style scoped>\n",
              "    .dataframe tbody tr th:only-of-type {\n",
              "        vertical-align: middle;\n",
              "    }\n",
              "\n",
              "    .dataframe tbody tr th {\n",
              "        vertical-align: top;\n",
              "    }\n",
              "\n",
              "    .dataframe thead th {\n",
              "        text-align: right;\n",
              "    }\n",
              "</style>\n",
              "<table border=\"1\" class=\"dataframe\">\n",
              "  <thead>\n",
              "    <tr style=\"text-align: right;\">\n",
              "      <th></th>\n",
              "      <th>p (mbar)</th>\n",
              "      <th>T (degC)</th>\n",
              "      <th>Tpot (K)</th>\n",
              "      <th>Tdew (degC)</th>\n",
              "      <th>rh (%)</th>\n",
              "      <th>VPmax (mbar)</th>\n",
              "      <th>VPact (mbar)</th>\n",
              "      <th>VPdef (mbar)</th>\n",
              "      <th>sh (g/kg)</th>\n",
              "      <th>H2OC (mmol/mol)</th>\n",
              "      <th>rho (g/m**3)</th>\n",
              "      <th>wv (m/s)</th>\n",
              "      <th>max. wv (m/s)</th>\n",
              "      <th>wd (deg)</th>\n",
              "    </tr>\n",
              "  </thead>\n",
              "  <tbody>\n",
              "    <tr>\n",
              "      <th>p (mbar)</th>\n",
              "      <td>1.000000</td>\n",
              "      <td>-0.045402</td>\n",
              "      <td>-0.124751</td>\n",
              "      <td>-0.066803</td>\n",
              "      <td>-0.018368</td>\n",
              "      <td>-0.031565</td>\n",
              "      <td>-0.054420</td>\n",
              "      <td>-0.003395</td>\n",
              "      <td>-0.069815</td>\n",
              "      <td>-0.069857</td>\n",
              "      <td>0.307686</td>\n",
              "      <td>-0.209693</td>\n",
              "      <td>-0.204802</td>\n",
              "      <td>-0.063296</td>\n",
              "    </tr>\n",
              "    <tr>\n",
              "      <th>T (degC)</th>\n",
              "      <td>-0.045402</td>\n",
              "      <td>1.000000</td>\n",
              "      <td>0.996826</td>\n",
              "      <td>0.895707</td>\n",
              "      <td>-0.572519</td>\n",
              "      <td>0.951109</td>\n",
              "      <td>0.867671</td>\n",
              "      <td>0.761813</td>\n",
              "      <td>0.866752</td>\n",
              "      <td>0.867174</td>\n",
              "      <td>-0.963404</td>\n",
              "      <td>0.088449</td>\n",
              "      <td>0.125173</td>\n",
              "      <td>0.038562</td>\n",
              "    </tr>\n",
              "    <tr>\n",
              "      <th>Tpot (K)</th>\n",
              "      <td>-0.124751</td>\n",
              "      <td>0.996826</td>\n",
              "      <td>1.000000</td>\n",
              "      <td>0.894912</td>\n",
              "      <td>-0.567226</td>\n",
              "      <td>0.947289</td>\n",
              "      <td>0.866205</td>\n",
              "      <td>0.757028</td>\n",
              "      <td>0.866533</td>\n",
              "      <td>0.866955</td>\n",
              "      <td>-0.981342</td>\n",
              "      <td>0.104709</td>\n",
              "      <td>0.140781</td>\n",
              "      <td>0.043434</td>\n",
              "    </tr>\n",
              "    <tr>\n",
              "      <th>Tdew (degC)</th>\n",
              "      <td>-0.066803</td>\n",
              "      <td>0.895707</td>\n",
              "      <td>0.894912</td>\n",
              "      <td>1.000000</td>\n",
              "      <td>-0.156738</td>\n",
              "      <td>0.799273</td>\n",
              "      <td>0.968334</td>\n",
              "      <td>0.435854</td>\n",
              "      <td>0.967589</td>\n",
              "      <td>0.968034</td>\n",
              "      <td>-0.885231</td>\n",
              "      <td>-0.053629</td>\n",
              "      <td>-0.036074</td>\n",
              "      <td>0.049665</td>\n",
              "    </tr>\n",
              "    <tr>\n",
              "      <th>rh (%)</th>\n",
              "      <td>-0.018368</td>\n",
              "      <td>-0.572519</td>\n",
              "      <td>-0.567226</td>\n",
              "      <td>-0.156738</td>\n",
              "      <td>1.000000</td>\n",
              "      <td>-0.615915</td>\n",
              "      <td>-0.151627</td>\n",
              "      <td>-0.843829</td>\n",
              "      <td>-0.150974</td>\n",
              "      <td>-0.151102</td>\n",
              "      <td>0.514373</td>\n",
              "      <td>-0.312276</td>\n",
              "      <td>-0.362902</td>\n",
              "      <td>-0.015919</td>\n",
              "    </tr>\n",
              "    <tr>\n",
              "      <th>VPmax (mbar)</th>\n",
              "      <td>-0.031565</td>\n",
              "      <td>0.951109</td>\n",
              "      <td>0.947289</td>\n",
              "      <td>0.799273</td>\n",
              "      <td>-0.615915</td>\n",
              "      <td>1.000000</td>\n",
              "      <td>0.824881</td>\n",
              "      <td>0.875639</td>\n",
              "      <td>0.824475</td>\n",
              "      <td>0.824508</td>\n",
              "      <td>-0.901526</td>\n",
              "      <td>0.092518</td>\n",
              "      <td>0.126458</td>\n",
              "      <td>-0.009740</td>\n",
              "    </tr>\n",
              "    <tr>\n",
              "      <th>VPact (mbar)</th>\n",
              "      <td>-0.054420</td>\n",
              "      <td>0.867671</td>\n",
              "      <td>0.866205</td>\n",
              "      <td>0.968334</td>\n",
              "      <td>-0.151627</td>\n",
              "      <td>0.824881</td>\n",
              "      <td>1.000000</td>\n",
              "      <td>0.449274</td>\n",
              "      <td>0.999851</td>\n",
              "      <td>0.999856</td>\n",
              "      <td>-0.850238</td>\n",
              "      <td>-0.068845</td>\n",
              "      <td>-0.055761</td>\n",
              "      <td>0.018180</td>\n",
              "    </tr>\n",
              "    <tr>\n",
              "      <th>VPdef (mbar)</th>\n",
              "      <td>-0.003395</td>\n",
              "      <td>0.761813</td>\n",
              "      <td>0.757028</td>\n",
              "      <td>0.435854</td>\n",
              "      <td>-0.843829</td>\n",
              "      <td>0.875639</td>\n",
              "      <td>0.449274</td>\n",
              "      <td>1.000000</td>\n",
              "      <td>0.448759</td>\n",
              "      <td>0.448807</td>\n",
              "      <td>-0.698348</td>\n",
              "      <td>0.205032</td>\n",
              "      <td>0.247491</td>\n",
              "      <td>-0.030922</td>\n",
              "    </tr>\n",
              "    <tr>\n",
              "      <th>sh (g/kg)</th>\n",
              "      <td>-0.069815</td>\n",
              "      <td>0.866752</td>\n",
              "      <td>0.866533</td>\n",
              "      <td>0.967589</td>\n",
              "      <td>-0.150974</td>\n",
              "      <td>0.824475</td>\n",
              "      <td>0.999851</td>\n",
              "      <td>0.448759</td>\n",
              "      <td>1.000000</td>\n",
              "      <td>0.999997</td>\n",
              "      <td>-0.853322</td>\n",
              "      <td>-0.065340</td>\n",
              "      <td>-0.052414</td>\n",
              "      <td>0.019139</td>\n",
              "    </tr>\n",
              "    <tr>\n",
              "      <th>H2OC (mmol/mol)</th>\n",
              "      <td>-0.069857</td>\n",
              "      <td>0.867174</td>\n",
              "      <td>0.866955</td>\n",
              "      <td>0.968034</td>\n",
              "      <td>-0.151102</td>\n",
              "      <td>0.824508</td>\n",
              "      <td>0.999856</td>\n",
              "      <td>0.448807</td>\n",
              "      <td>0.999997</td>\n",
              "      <td>1.000000</td>\n",
              "      <td>-0.853767</td>\n",
              "      <td>-0.065264</td>\n",
              "      <td>-0.052304</td>\n",
              "      <td>0.019370</td>\n",
              "    </tr>\n",
              "    <tr>\n",
              "      <th>rho (g/m**3)</th>\n",
              "      <td>0.307686</td>\n",
              "      <td>-0.963404</td>\n",
              "      <td>-0.981342</td>\n",
              "      <td>-0.885231</td>\n",
              "      <td>0.514373</td>\n",
              "      <td>-0.901526</td>\n",
              "      <td>-0.850238</td>\n",
              "      <td>-0.698348</td>\n",
              "      <td>-0.853322</td>\n",
              "      <td>-0.853767</td>\n",
              "      <td>1.000000</td>\n",
              "      <td>-0.130990</td>\n",
              "      <td>-0.163960</td>\n",
              "      <td>-0.057918</td>\n",
              "    </tr>\n",
              "    <tr>\n",
              "      <th>wv (m/s)</th>\n",
              "      <td>-0.209693</td>\n",
              "      <td>0.088449</td>\n",
              "      <td>0.104709</td>\n",
              "      <td>-0.053629</td>\n",
              "      <td>-0.312276</td>\n",
              "      <td>0.092518</td>\n",
              "      <td>-0.068845</td>\n",
              "      <td>0.205032</td>\n",
              "      <td>-0.065340</td>\n",
              "      <td>-0.065264</td>\n",
              "      <td>-0.130990</td>\n",
              "      <td>1.000000</td>\n",
              "      <td>0.957343</td>\n",
              "      <td>-0.057774</td>\n",
              "    </tr>\n",
              "    <tr>\n",
              "      <th>max. wv (m/s)</th>\n",
              "      <td>-0.204802</td>\n",
              "      <td>0.125173</td>\n",
              "      <td>0.140781</td>\n",
              "      <td>-0.036074</td>\n",
              "      <td>-0.362902</td>\n",
              "      <td>0.126458</td>\n",
              "      <td>-0.055761</td>\n",
              "      <td>0.247491</td>\n",
              "      <td>-0.052414</td>\n",
              "      <td>-0.052304</td>\n",
              "      <td>-0.163960</td>\n",
              "      <td>0.957343</td>\n",
              "      <td>1.000000</td>\n",
              "      <td>-0.003166</td>\n",
              "    </tr>\n",
              "    <tr>\n",
              "      <th>wd (deg)</th>\n",
              "      <td>-0.063296</td>\n",
              "      <td>0.038562</td>\n",
              "      <td>0.043434</td>\n",
              "      <td>0.049665</td>\n",
              "      <td>-0.015919</td>\n",
              "      <td>-0.009740</td>\n",
              "      <td>0.018180</td>\n",
              "      <td>-0.030922</td>\n",
              "      <td>0.019139</td>\n",
              "      <td>0.019370</td>\n",
              "      <td>-0.057918</td>\n",
              "      <td>-0.057774</td>\n",
              "      <td>-0.003166</td>\n",
              "      <td>1.000000</td>\n",
              "    </tr>\n",
              "  </tbody>\n",
              "</table>\n",
              "</div>\n",
              "      <button class=\"colab-df-convert\" onclick=\"convertToInteractive('df-983c2500-3623-4272-8635-96bbbff55cc1')\"\n",
              "              title=\"Convert this dataframe to an interactive table.\"\n",
              "              style=\"display:none;\">\n",
              "        \n",
              "  <svg xmlns=\"http://www.w3.org/2000/svg\" height=\"24px\"viewBox=\"0 0 24 24\"\n",
              "       width=\"24px\">\n",
              "    <path d=\"M0 0h24v24H0V0z\" fill=\"none\"/>\n",
              "    <path d=\"M18.56 5.44l.94 2.06.94-2.06 2.06-.94-2.06-.94-.94-2.06-.94 2.06-2.06.94zm-11 1L8.5 8.5l.94-2.06 2.06-.94-2.06-.94L8.5 2.5l-.94 2.06-2.06.94zm10 10l.94 2.06.94-2.06 2.06-.94-2.06-.94-.94-2.06-.94 2.06-2.06.94z\"/><path d=\"M17.41 7.96l-1.37-1.37c-.4-.4-.92-.59-1.43-.59-.52 0-1.04.2-1.43.59L10.3 9.45l-7.72 7.72c-.78.78-.78 2.05 0 2.83L4 21.41c.39.39.9.59 1.41.59.51 0 1.02-.2 1.41-.59l7.78-7.78 2.81-2.81c.8-.78.8-2.07 0-2.86zM5.41 20L4 18.59l7.72-7.72 1.47 1.35L5.41 20z\"/>\n",
              "  </svg>\n",
              "      </button>\n",
              "      \n",
              "  <style>\n",
              "    .colab-df-container {\n",
              "      display:flex;\n",
              "      flex-wrap:wrap;\n",
              "      gap: 12px;\n",
              "    }\n",
              "\n",
              "    .colab-df-convert {\n",
              "      background-color: #E8F0FE;\n",
              "      border: none;\n",
              "      border-radius: 50%;\n",
              "      cursor: pointer;\n",
              "      display: none;\n",
              "      fill: #1967D2;\n",
              "      height: 32px;\n",
              "      padding: 0 0 0 0;\n",
              "      width: 32px;\n",
              "    }\n",
              "\n",
              "    .colab-df-convert:hover {\n",
              "      background-color: #E2EBFA;\n",
              "      box-shadow: 0px 1px 2px rgba(60, 64, 67, 0.3), 0px 1px 3px 1px rgba(60, 64, 67, 0.15);\n",
              "      fill: #174EA6;\n",
              "    }\n",
              "\n",
              "    [theme=dark] .colab-df-convert {\n",
              "      background-color: #3B4455;\n",
              "      fill: #D2E3FC;\n",
              "    }\n",
              "\n",
              "    [theme=dark] .colab-df-convert:hover {\n",
              "      background-color: #434B5C;\n",
              "      box-shadow: 0px 1px 3px 1px rgba(0, 0, 0, 0.15);\n",
              "      filter: drop-shadow(0px 1px 2px rgba(0, 0, 0, 0.3));\n",
              "      fill: #FFFFFF;\n",
              "    }\n",
              "  </style>\n",
              "\n",
              "      <script>\n",
              "        const buttonEl =\n",
              "          document.querySelector('#df-983c2500-3623-4272-8635-96bbbff55cc1 button.colab-df-convert');\n",
              "        buttonEl.style.display =\n",
              "          google.colab.kernel.accessAllowed ? 'block' : 'none';\n",
              "\n",
              "        async function convertToInteractive(key) {\n",
              "          const element = document.querySelector('#df-983c2500-3623-4272-8635-96bbbff55cc1');\n",
              "          const dataTable =\n",
              "            await google.colab.kernel.invokeFunction('convertToInteractive',\n",
              "                                                     [key], {});\n",
              "          if (!dataTable) return;\n",
              "\n",
              "          const docLinkHtml = 'Like what you see? Visit the ' +\n",
              "            '<a target=\"_blank\" href=https://colab.research.google.com/notebooks/data_table.ipynb>data table notebook</a>'\n",
              "            + ' to learn more about interactive tables.';\n",
              "          element.innerHTML = '';\n",
              "          dataTable['output_type'] = 'display_data';\n",
              "          await google.colab.output.renderOutput(dataTable, element);\n",
              "          const docLink = document.createElement('div');\n",
              "          docLink.innerHTML = docLinkHtml;\n",
              "          element.appendChild(docLink);\n",
              "        }\n",
              "      </script>\n",
              "    </div>\n",
              "  </div>\n",
              "  "
            ],
            "text/plain": [
              "                 p (mbar)  T (degC)  ...  max. wv (m/s)  wd (deg)\n",
              "p (mbar)         1.000000 -0.045402  ...      -0.204802 -0.063296\n",
              "T (degC)        -0.045402  1.000000  ...       0.125173  0.038562\n",
              "Tpot (K)        -0.124751  0.996826  ...       0.140781  0.043434\n",
              "Tdew (degC)     -0.066803  0.895707  ...      -0.036074  0.049665\n",
              "rh (%)          -0.018368 -0.572519  ...      -0.362902 -0.015919\n",
              "VPmax (mbar)    -0.031565  0.951109  ...       0.126458 -0.009740\n",
              "VPact (mbar)    -0.054420  0.867671  ...      -0.055761  0.018180\n",
              "VPdef (mbar)    -0.003395  0.761813  ...       0.247491 -0.030922\n",
              "sh (g/kg)       -0.069815  0.866752  ...      -0.052414  0.019139\n",
              "H2OC (mmol/mol) -0.069857  0.867174  ...      -0.052304  0.019370\n",
              "rho (g/m**3)     0.307686 -0.963404  ...      -0.163960 -0.057918\n",
              "wv (m/s)        -0.209693  0.088449  ...       0.957343 -0.057774\n",
              "max. wv (m/s)   -0.204802  0.125173  ...       1.000000 -0.003166\n",
              "wd (deg)        -0.063296  0.038562  ...      -0.003166  1.000000\n",
              "\n",
              "[14 rows x 14 columns]"
            ]
          },
          "metadata": {},
          "execution_count": 15
        }
      ]
    },
    {
      "cell_type": "code",
      "source": [
        "df = jena.iloc[:, [2, 4, 5, 7]]\n",
        "df.head()"
      ],
      "metadata": {
        "id": "1shivfgJPNTN",
        "outputId": "514f95f1-8fba-4a47-e076-ac504d8ca8d2",
        "colab": {
          "base_uri": "https://localhost:8080/",
          "height": 206
        }
      },
      "execution_count": 18,
      "outputs": [
        {
          "output_type": "execute_result",
          "data": {
            "text/html": [
              "\n",
              "  <div id=\"df-bd1e09e0-a1ea-454f-bed8-744cb56202f2\">\n",
              "    <div class=\"colab-df-container\">\n",
              "      <div>\n",
              "<style scoped>\n",
              "    .dataframe tbody tr th:only-of-type {\n",
              "        vertical-align: middle;\n",
              "    }\n",
              "\n",
              "    .dataframe tbody tr th {\n",
              "        vertical-align: top;\n",
              "    }\n",
              "\n",
              "    .dataframe thead th {\n",
              "        text-align: right;\n",
              "    }\n",
              "</style>\n",
              "<table border=\"1\" class=\"dataframe\">\n",
              "  <thead>\n",
              "    <tr style=\"text-align: right;\">\n",
              "      <th></th>\n",
              "      <th>T (degC)</th>\n",
              "      <th>Tdew (degC)</th>\n",
              "      <th>rh (%)</th>\n",
              "      <th>VPact (mbar)</th>\n",
              "    </tr>\n",
              "  </thead>\n",
              "  <tbody>\n",
              "    <tr>\n",
              "      <th>0</th>\n",
              "      <td>-8.02</td>\n",
              "      <td>-8.90</td>\n",
              "      <td>93.3</td>\n",
              "      <td>3.11</td>\n",
              "    </tr>\n",
              "    <tr>\n",
              "      <th>1</th>\n",
              "      <td>-8.41</td>\n",
              "      <td>-9.28</td>\n",
              "      <td>93.4</td>\n",
              "      <td>3.02</td>\n",
              "    </tr>\n",
              "    <tr>\n",
              "      <th>2</th>\n",
              "      <td>-8.51</td>\n",
              "      <td>-9.31</td>\n",
              "      <td>93.9</td>\n",
              "      <td>3.01</td>\n",
              "    </tr>\n",
              "    <tr>\n",
              "      <th>3</th>\n",
              "      <td>-8.31</td>\n",
              "      <td>-9.07</td>\n",
              "      <td>94.2</td>\n",
              "      <td>3.07</td>\n",
              "    </tr>\n",
              "    <tr>\n",
              "      <th>4</th>\n",
              "      <td>-8.27</td>\n",
              "      <td>-9.04</td>\n",
              "      <td>94.1</td>\n",
              "      <td>3.08</td>\n",
              "    </tr>\n",
              "  </tbody>\n",
              "</table>\n",
              "</div>\n",
              "      <button class=\"colab-df-convert\" onclick=\"convertToInteractive('df-bd1e09e0-a1ea-454f-bed8-744cb56202f2')\"\n",
              "              title=\"Convert this dataframe to an interactive table.\"\n",
              "              style=\"display:none;\">\n",
              "        \n",
              "  <svg xmlns=\"http://www.w3.org/2000/svg\" height=\"24px\"viewBox=\"0 0 24 24\"\n",
              "       width=\"24px\">\n",
              "    <path d=\"M0 0h24v24H0V0z\" fill=\"none\"/>\n",
              "    <path d=\"M18.56 5.44l.94 2.06.94-2.06 2.06-.94-2.06-.94-.94-2.06-.94 2.06-2.06.94zm-11 1L8.5 8.5l.94-2.06 2.06-.94-2.06-.94L8.5 2.5l-.94 2.06-2.06.94zm10 10l.94 2.06.94-2.06 2.06-.94-2.06-.94-.94-2.06-.94 2.06-2.06.94z\"/><path d=\"M17.41 7.96l-1.37-1.37c-.4-.4-.92-.59-1.43-.59-.52 0-1.04.2-1.43.59L10.3 9.45l-7.72 7.72c-.78.78-.78 2.05 0 2.83L4 21.41c.39.39.9.59 1.41.59.51 0 1.02-.2 1.41-.59l7.78-7.78 2.81-2.81c.8-.78.8-2.07 0-2.86zM5.41 20L4 18.59l7.72-7.72 1.47 1.35L5.41 20z\"/>\n",
              "  </svg>\n",
              "      </button>\n",
              "      \n",
              "  <style>\n",
              "    .colab-df-container {\n",
              "      display:flex;\n",
              "      flex-wrap:wrap;\n",
              "      gap: 12px;\n",
              "    }\n",
              "\n",
              "    .colab-df-convert {\n",
              "      background-color: #E8F0FE;\n",
              "      border: none;\n",
              "      border-radius: 50%;\n",
              "      cursor: pointer;\n",
              "      display: none;\n",
              "      fill: #1967D2;\n",
              "      height: 32px;\n",
              "      padding: 0 0 0 0;\n",
              "      width: 32px;\n",
              "    }\n",
              "\n",
              "    .colab-df-convert:hover {\n",
              "      background-color: #E2EBFA;\n",
              "      box-shadow: 0px 1px 2px rgba(60, 64, 67, 0.3), 0px 1px 3px 1px rgba(60, 64, 67, 0.15);\n",
              "      fill: #174EA6;\n",
              "    }\n",
              "\n",
              "    [theme=dark] .colab-df-convert {\n",
              "      background-color: #3B4455;\n",
              "      fill: #D2E3FC;\n",
              "    }\n",
              "\n",
              "    [theme=dark] .colab-df-convert:hover {\n",
              "      background-color: #434B5C;\n",
              "      box-shadow: 0px 1px 3px 1px rgba(0, 0, 0, 0.15);\n",
              "      filter: drop-shadow(0px 1px 2px rgba(0, 0, 0, 0.3));\n",
              "      fill: #FFFFFF;\n",
              "    }\n",
              "  </style>\n",
              "\n",
              "      <script>\n",
              "        const buttonEl =\n",
              "          document.querySelector('#df-bd1e09e0-a1ea-454f-bed8-744cb56202f2 button.colab-df-convert');\n",
              "        buttonEl.style.display =\n",
              "          google.colab.kernel.accessAllowed ? 'block' : 'none';\n",
              "\n",
              "        async function convertToInteractive(key) {\n",
              "          const element = document.querySelector('#df-bd1e09e0-a1ea-454f-bed8-744cb56202f2');\n",
              "          const dataTable =\n",
              "            await google.colab.kernel.invokeFunction('convertToInteractive',\n",
              "                                                     [key], {});\n",
              "          if (!dataTable) return;\n",
              "\n",
              "          const docLinkHtml = 'Like what you see? Visit the ' +\n",
              "            '<a target=\"_blank\" href=https://colab.research.google.com/notebooks/data_table.ipynb>data table notebook</a>'\n",
              "            + ' to learn more about interactive tables.';\n",
              "          element.innerHTML = '';\n",
              "          dataTable['output_type'] = 'display_data';\n",
              "          await google.colab.output.renderOutput(dataTable, element);\n",
              "          const docLink = document.createElement('div');\n",
              "          docLink.innerHTML = docLinkHtml;\n",
              "          element.appendChild(docLink);\n",
              "        }\n",
              "      </script>\n",
              "    </div>\n",
              "  </div>\n",
              "  "
            ],
            "text/plain": [
              "   T (degC)  Tdew (degC)  rh (%)  VPact (mbar)\n",
              "0     -8.02        -8.90    93.3          3.11\n",
              "1     -8.41        -9.28    93.4          3.02\n",
              "2     -8.51        -9.31    93.9          3.01\n",
              "3     -8.31        -9.07    94.2          3.07\n",
              "4     -8.27        -9.04    94.1          3.08"
            ]
          },
          "metadata": {},
          "execution_count": 18
        }
      ]
    },
    {
      "cell_type": "code",
      "source": [
        "df2 = (df-df.mean())/df.std()\n",
        "df2.head()\n",
        "# guassian normalized, mean 0, std 1.  "
      ],
      "metadata": {
        "id": "1wNeeqBwPNXI",
        "outputId": "0c9ea1c4-87bb-454a-9483-f639f57d643a",
        "colab": {
          "base_uri": "https://localhost:8080/",
          "height": 206
        }
      },
      "execution_count": 19,
      "outputs": [
        {
          "output_type": "execute_result",
          "data": {
            "text/html": [
              "\n",
              "  <div id=\"df-0652df33-8a85-485a-b4aa-677c55685731\">\n",
              "    <div class=\"colab-df-container\">\n",
              "      <div>\n",
              "<style scoped>\n",
              "    .dataframe tbody tr th:only-of-type {\n",
              "        vertical-align: middle;\n",
              "    }\n",
              "\n",
              "    .dataframe tbody tr th {\n",
              "        vertical-align: top;\n",
              "    }\n",
              "\n",
              "    .dataframe thead th {\n",
              "        text-align: right;\n",
              "    }\n",
              "</style>\n",
              "<table border=\"1\" class=\"dataframe\">\n",
              "  <thead>\n",
              "    <tr style=\"text-align: right;\">\n",
              "      <th></th>\n",
              "      <th>T (degC)</th>\n",
              "      <th>Tdew (degC)</th>\n",
              "      <th>rh (%)</th>\n",
              "      <th>VPact (mbar)</th>\n",
              "    </tr>\n",
              "  </thead>\n",
              "  <tbody>\n",
              "    <tr>\n",
              "      <th>0</th>\n",
              "      <td>-2.073744</td>\n",
              "      <td>-2.058420</td>\n",
              "      <td>1.049513</td>\n",
              "      <td>-1.535058</td>\n",
              "    </tr>\n",
              "    <tr>\n",
              "      <th>1</th>\n",
              "      <td>-2.120042</td>\n",
              "      <td>-2.114880</td>\n",
              "      <td>1.055582</td>\n",
              "      <td>-1.556569</td>\n",
              "    </tr>\n",
              "    <tr>\n",
              "      <th>2</th>\n",
              "      <td>-2.131913</td>\n",
              "      <td>-2.119337</td>\n",
              "      <td>1.085927</td>\n",
              "      <td>-1.558960</td>\n",
              "    </tr>\n",
              "    <tr>\n",
              "      <th>3</th>\n",
              "      <td>-2.108171</td>\n",
              "      <td>-2.083678</td>\n",
              "      <td>1.104134</td>\n",
              "      <td>-1.544619</td>\n",
              "    </tr>\n",
              "    <tr>\n",
              "      <th>4</th>\n",
              "      <td>-2.103422</td>\n",
              "      <td>-2.079221</td>\n",
              "      <td>1.098065</td>\n",
              "      <td>-1.542229</td>\n",
              "    </tr>\n",
              "  </tbody>\n",
              "</table>\n",
              "</div>\n",
              "      <button class=\"colab-df-convert\" onclick=\"convertToInteractive('df-0652df33-8a85-485a-b4aa-677c55685731')\"\n",
              "              title=\"Convert this dataframe to an interactive table.\"\n",
              "              style=\"display:none;\">\n",
              "        \n",
              "  <svg xmlns=\"http://www.w3.org/2000/svg\" height=\"24px\"viewBox=\"0 0 24 24\"\n",
              "       width=\"24px\">\n",
              "    <path d=\"M0 0h24v24H0V0z\" fill=\"none\"/>\n",
              "    <path d=\"M18.56 5.44l.94 2.06.94-2.06 2.06-.94-2.06-.94-.94-2.06-.94 2.06-2.06.94zm-11 1L8.5 8.5l.94-2.06 2.06-.94-2.06-.94L8.5 2.5l-.94 2.06-2.06.94zm10 10l.94 2.06.94-2.06 2.06-.94-2.06-.94-.94-2.06-.94 2.06-2.06.94z\"/><path d=\"M17.41 7.96l-1.37-1.37c-.4-.4-.92-.59-1.43-.59-.52 0-1.04.2-1.43.59L10.3 9.45l-7.72 7.72c-.78.78-.78 2.05 0 2.83L4 21.41c.39.39.9.59 1.41.59.51 0 1.02-.2 1.41-.59l7.78-7.78 2.81-2.81c.8-.78.8-2.07 0-2.86zM5.41 20L4 18.59l7.72-7.72 1.47 1.35L5.41 20z\"/>\n",
              "  </svg>\n",
              "      </button>\n",
              "      \n",
              "  <style>\n",
              "    .colab-df-container {\n",
              "      display:flex;\n",
              "      flex-wrap:wrap;\n",
              "      gap: 12px;\n",
              "    }\n",
              "\n",
              "    .colab-df-convert {\n",
              "      background-color: #E8F0FE;\n",
              "      border: none;\n",
              "      border-radius: 50%;\n",
              "      cursor: pointer;\n",
              "      display: none;\n",
              "      fill: #1967D2;\n",
              "      height: 32px;\n",
              "      padding: 0 0 0 0;\n",
              "      width: 32px;\n",
              "    }\n",
              "\n",
              "    .colab-df-convert:hover {\n",
              "      background-color: #E2EBFA;\n",
              "      box-shadow: 0px 1px 2px rgba(60, 64, 67, 0.3), 0px 1px 3px 1px rgba(60, 64, 67, 0.15);\n",
              "      fill: #174EA6;\n",
              "    }\n",
              "\n",
              "    [theme=dark] .colab-df-convert {\n",
              "      background-color: #3B4455;\n",
              "      fill: #D2E3FC;\n",
              "    }\n",
              "\n",
              "    [theme=dark] .colab-df-convert:hover {\n",
              "      background-color: #434B5C;\n",
              "      box-shadow: 0px 1px 3px 1px rgba(0, 0, 0, 0.15);\n",
              "      filter: drop-shadow(0px 1px 2px rgba(0, 0, 0, 0.3));\n",
              "      fill: #FFFFFF;\n",
              "    }\n",
              "  </style>\n",
              "\n",
              "      <script>\n",
              "        const buttonEl =\n",
              "          document.querySelector('#df-0652df33-8a85-485a-b4aa-677c55685731 button.colab-df-convert');\n",
              "        buttonEl.style.display =\n",
              "          google.colab.kernel.accessAllowed ? 'block' : 'none';\n",
              "\n",
              "        async function convertToInteractive(key) {\n",
              "          const element = document.querySelector('#df-0652df33-8a85-485a-b4aa-677c55685731');\n",
              "          const dataTable =\n",
              "            await google.colab.kernel.invokeFunction('convertToInteractive',\n",
              "                                                     [key], {});\n",
              "          if (!dataTable) return;\n",
              "\n",
              "          const docLinkHtml = 'Like what you see? Visit the ' +\n",
              "            '<a target=\"_blank\" href=https://colab.research.google.com/notebooks/data_table.ipynb>data table notebook</a>'\n",
              "            + ' to learn more about interactive tables.';\n",
              "          element.innerHTML = '';\n",
              "          dataTable['output_type'] = 'display_data';\n",
              "          await google.colab.output.renderOutput(dataTable, element);\n",
              "          const docLink = document.createElement('div');\n",
              "          docLink.innerHTML = docLinkHtml;\n",
              "          element.appendChild(docLink);\n",
              "        }\n",
              "      </script>\n",
              "    </div>\n",
              "  </div>\n",
              "  "
            ],
            "text/plain": [
              "   T (degC)  Tdew (degC)    rh (%)  VPact (mbar)\n",
              "0 -2.073744    -2.058420  1.049513     -1.535058\n",
              "1 -2.120042    -2.114880  1.055582     -1.556569\n",
              "2 -2.131913    -2.119337  1.085927     -1.558960\n",
              "3 -2.108171    -2.083678  1.104134     -1.544619\n",
              "4 -2.103422    -2.079221  1.098065     -1.542229"
            ]
          },
          "metadata": {},
          "execution_count": 19
        }
      ]
    },
    {
      "cell_type": "code",
      "source": [
        "df3 = (df-df.min())/(df.max()-df.min())\n",
        "df3.head()\n",
        "# normalized to uniform distribution, range 0 to 1.  "
      ],
      "metadata": {
        "id": "PVn-VBW1PNb4",
        "outputId": "61059cfe-6f94-4095-b20d-28198d9df1dc",
        "colab": {
          "base_uri": "https://localhost:8080/",
          "height": 206
        }
      },
      "execution_count": 20,
      "outputs": [
        {
          "output_type": "execute_result",
          "data": {
            "text/html": [
              "\n",
              "  <div id=\"df-e9b2b220-7ed7-4067-8a4d-767ae8501dc5\">\n",
              "    <div class=\"colab-df-container\">\n",
              "      <div>\n",
              "<style scoped>\n",
              "    .dataframe tbody tr th:only-of-type {\n",
              "        vertical-align: middle;\n",
              "    }\n",
              "\n",
              "    .dataframe tbody tr th {\n",
              "        vertical-align: top;\n",
              "    }\n",
              "\n",
              "    .dataframe thead th {\n",
              "        text-align: right;\n",
              "    }\n",
              "</style>\n",
              "<table border=\"1\" class=\"dataframe\">\n",
              "  <thead>\n",
              "    <tr style=\"text-align: right;\">\n",
              "      <th></th>\n",
              "      <th>T (degC)</th>\n",
              "      <th>Tdew (degC)</th>\n",
              "      <th>rh (%)</th>\n",
              "      <th>VPact (mbar)</th>\n",
              "    </tr>\n",
              "  </thead>\n",
              "  <tbody>\n",
              "    <tr>\n",
              "      <th>0</th>\n",
              "      <td>0.248632</td>\n",
              "      <td>0.334788</td>\n",
              "      <td>0.923033</td>\n",
              "      <td>0.084272</td>\n",
              "    </tr>\n",
              "    <tr>\n",
              "      <th>1</th>\n",
              "      <td>0.242163</td>\n",
              "      <td>0.326891</td>\n",
              "      <td>0.924182</td>\n",
              "      <td>0.081003</td>\n",
              "    </tr>\n",
              "    <tr>\n",
              "      <th>2</th>\n",
              "      <td>0.240504</td>\n",
              "      <td>0.326268</td>\n",
              "      <td>0.929925</td>\n",
              "      <td>0.080639</td>\n",
              "    </tr>\n",
              "    <tr>\n",
              "      <th>3</th>\n",
              "      <td>0.243822</td>\n",
              "      <td>0.331255</td>\n",
              "      <td>0.933372</td>\n",
              "      <td>0.082819</td>\n",
              "    </tr>\n",
              "    <tr>\n",
              "      <th>4</th>\n",
              "      <td>0.244485</td>\n",
              "      <td>0.331879</td>\n",
              "      <td>0.932223</td>\n",
              "      <td>0.083182</td>\n",
              "    </tr>\n",
              "  </tbody>\n",
              "</table>\n",
              "</div>\n",
              "      <button class=\"colab-df-convert\" onclick=\"convertToInteractive('df-e9b2b220-7ed7-4067-8a4d-767ae8501dc5')\"\n",
              "              title=\"Convert this dataframe to an interactive table.\"\n",
              "              style=\"display:none;\">\n",
              "        \n",
              "  <svg xmlns=\"http://www.w3.org/2000/svg\" height=\"24px\"viewBox=\"0 0 24 24\"\n",
              "       width=\"24px\">\n",
              "    <path d=\"M0 0h24v24H0V0z\" fill=\"none\"/>\n",
              "    <path d=\"M18.56 5.44l.94 2.06.94-2.06 2.06-.94-2.06-.94-.94-2.06-.94 2.06-2.06.94zm-11 1L8.5 8.5l.94-2.06 2.06-.94-2.06-.94L8.5 2.5l-.94 2.06-2.06.94zm10 10l.94 2.06.94-2.06 2.06-.94-2.06-.94-.94-2.06-.94 2.06-2.06.94z\"/><path d=\"M17.41 7.96l-1.37-1.37c-.4-.4-.92-.59-1.43-.59-.52 0-1.04.2-1.43.59L10.3 9.45l-7.72 7.72c-.78.78-.78 2.05 0 2.83L4 21.41c.39.39.9.59 1.41.59.51 0 1.02-.2 1.41-.59l7.78-7.78 2.81-2.81c.8-.78.8-2.07 0-2.86zM5.41 20L4 18.59l7.72-7.72 1.47 1.35L5.41 20z\"/>\n",
              "  </svg>\n",
              "      </button>\n",
              "      \n",
              "  <style>\n",
              "    .colab-df-container {\n",
              "      display:flex;\n",
              "      flex-wrap:wrap;\n",
              "      gap: 12px;\n",
              "    }\n",
              "\n",
              "    .colab-df-convert {\n",
              "      background-color: #E8F0FE;\n",
              "      border: none;\n",
              "      border-radius: 50%;\n",
              "      cursor: pointer;\n",
              "      display: none;\n",
              "      fill: #1967D2;\n",
              "      height: 32px;\n",
              "      padding: 0 0 0 0;\n",
              "      width: 32px;\n",
              "    }\n",
              "\n",
              "    .colab-df-convert:hover {\n",
              "      background-color: #E2EBFA;\n",
              "      box-shadow: 0px 1px 2px rgba(60, 64, 67, 0.3), 0px 1px 3px 1px rgba(60, 64, 67, 0.15);\n",
              "      fill: #174EA6;\n",
              "    }\n",
              "\n",
              "    [theme=dark] .colab-df-convert {\n",
              "      background-color: #3B4455;\n",
              "      fill: #D2E3FC;\n",
              "    }\n",
              "\n",
              "    [theme=dark] .colab-df-convert:hover {\n",
              "      background-color: #434B5C;\n",
              "      box-shadow: 0px 1px 3px 1px rgba(0, 0, 0, 0.15);\n",
              "      filter: drop-shadow(0px 1px 2px rgba(0, 0, 0, 0.3));\n",
              "      fill: #FFFFFF;\n",
              "    }\n",
              "  </style>\n",
              "\n",
              "      <script>\n",
              "        const buttonEl =\n",
              "          document.querySelector('#df-e9b2b220-7ed7-4067-8a4d-767ae8501dc5 button.colab-df-convert');\n",
              "        buttonEl.style.display =\n",
              "          google.colab.kernel.accessAllowed ? 'block' : 'none';\n",
              "\n",
              "        async function convertToInteractive(key) {\n",
              "          const element = document.querySelector('#df-e9b2b220-7ed7-4067-8a4d-767ae8501dc5');\n",
              "          const dataTable =\n",
              "            await google.colab.kernel.invokeFunction('convertToInteractive',\n",
              "                                                     [key], {});\n",
              "          if (!dataTable) return;\n",
              "\n",
              "          const docLinkHtml = 'Like what you see? Visit the ' +\n",
              "            '<a target=\"_blank\" href=https://colab.research.google.com/notebooks/data_table.ipynb>data table notebook</a>'\n",
              "            + ' to learn more about interactive tables.';\n",
              "          element.innerHTML = '';\n",
              "          dataTable['output_type'] = 'display_data';\n",
              "          await google.colab.output.renderOutput(dataTable, element);\n",
              "          const docLink = document.createElement('div');\n",
              "          docLink.innerHTML = docLinkHtml;\n",
              "          element.appendChild(docLink);\n",
              "        }\n",
              "      </script>\n",
              "    </div>\n",
              "  </div>\n",
              "  "
            ],
            "text/plain": [
              "   T (degC)  Tdew (degC)    rh (%)  VPact (mbar)\n",
              "0  0.248632     0.334788  0.923033      0.084272\n",
              "1  0.242163     0.326891  0.924182      0.081003\n",
              "2  0.240504     0.326268  0.929925      0.080639\n",
              "3  0.243822     0.331255  0.933372      0.082819\n",
              "4  0.244485     0.331879  0.932223      0.083182"
            ]
          },
          "metadata": {},
          "execution_count": 20
        }
      ]
    },
    {
      "cell_type": "code",
      "source": [
        "# plot some relationships.  Temperature seems related to \n",
        "# rh, relative humidity, and VPact, pressure actual?  \n",
        "import matplotlib.pyplot as plt\n",
        "\n",
        "df3.plot()"
      ],
      "metadata": {
        "id": "HldC_ZLLN4oK",
        "outputId": "71a4c72d-910c-449b-b82d-179d7476b045",
        "colab": {
          "base_uri": "https://localhost:8080/",
          "height": 282
        }
      },
      "execution_count": 28,
      "outputs": [
        {
          "output_type": "execute_result",
          "data": {
            "text/plain": [
              "<matplotlib.axes._subplots.AxesSubplot at 0x7f16f3fa30d0>"
            ]
          },
          "metadata": {},
          "execution_count": 28
        },
        {
          "output_type": "display_data",
          "data": {
            "image/png": "[encoded data removed]",
            "text/plain": [
              "<Figure size 432x288 with 1 Axes>"
            ]
          },
          "metadata": {
            "needs_background": "light"
          }
        }
      ]
    },
    {
      "cell_type": "code",
      "source": [
        "df4 = df3.iloc[0:100]\n",
        "df4\n",
        "df4.plot()"
      ],
      "metadata": {
        "id": "ccc7T05wN4sQ",
        "outputId": "e949ae31-f9e3-4677-8ca8-cb52b1274d90",
        "colab": {
          "base_uri": "https://localhost:8080/",
          "height": 282
        }
      },
      "execution_count": 27,
      "outputs": [
        {
          "output_type": "execute_result",
          "data": {
            "text/plain": [
              "<matplotlib.axes._subplots.AxesSubplot at 0x7f16f3fe2ed0>"
            ]
          },
          "metadata": {},
          "execution_count": 27
        },
        {
          "output_type": "display_data",
          "data": {
            "image/png": "[encoded data removed]",
            "text/plain": [
              "<Figure size 432x288 with 1 Axes>"
            ]
          },
          "metadata": {
            "needs_background": "light"
          }
        }
      ]
    },
    {
      "cell_type": "code",
      "source": [
        ""
      ],
      "metadata": {
        "id": "0Hg249nsN4xJ"
      },
      "execution_count": null,
      "outputs": []
    },
    {
      "cell_type": "code",
      "source": [
        ""
      ],
      "metadata": {
        "id": "vPftHg9QN42V"
      },
      "execution_count": null,
      "outputs": []
    },
    {
      "cell_type": "markdown",
      "metadata": {
        "id": "PFG0NxRccy6V"
      },
      "source": [
        "**Parsing the data**"
      ]
    },
    {
      "cell_type": "code",
      "execution_count": null,
      "metadata": {
        "id": "8_ekyW0Jcy6W"
      },
      "outputs": [],
      "source": [
        "import numpy as np\n",
        "temperature = np.zeros((len(lines),))\n",
        "raw_data = np.zeros((len(lines), len(header) - 1))\n",
        "for i, line in enumerate(lines):\n",
        "    values = [float(x) for x in line.split(\",\")[1:]]\n",
        "    temperature[i] = values[1]\n",
        "    raw_data[i, :] = values[:]"
      ]
    },
    {
      "cell_type": "code",
      "source": [
        "print(raw_data[0])"
      ],
      "metadata": {
        "id": "cNNTdODAeQQR",
        "outputId": "989b8439-dadf-4fef-cf4f-7f8e925476d5",
        "colab": {
          "base_uri": "https://localhost:8080/"
        }
      },
      "execution_count": null,
      "outputs": [
        {
          "output_type": "stream",
          "name": "stdout",
          "text": [
            "[ 9.96520e+02 -8.02000e+00  2.65400e+02 -8.90000e+00  9.33000e+01\n",
            "  3.33000e+00  3.11000e+00  2.20000e-01  1.94000e+00  3.12000e+00\n",
            "  1.30775e+03  1.03000e+00  1.75000e+00  1.52300e+02]\n"
          ]
        }
      ]
    },
    {
      "cell_type": "markdown",
      "metadata": {
        "id": "_tPVHvH6cy6X"
      },
      "source": [
        "**Plotting the temperature timeseries**"
      ]
    },
    {
      "cell_type": "code",
      "execution_count": null,
      "metadata": {
        "id": "pbee9ws_cy6b",
        "outputId": "9f882827-6dd1-4d38-af8e-c1b74bfedb41",
        "colab": {
          "base_uri": "https://localhost:8080/",
          "height": 285
        }
      },
      "outputs": [
        {
          "output_type": "execute_result",
          "data": {
            "text/plain": [
              "[<matplotlib.lines.Line2D at 0x7fece2861890>]"
            ]
          },
          "metadata": {},
          "execution_count": 5
        },
        {
          "output_type": "display_data",
          "data": {
            "image/png": "[encoded data removed]",
            "text/plain": [
              "<Figure size 432x288 with 1 Axes>"
            ]
          },
          "metadata": {
            "needs_background": "light"
          }
        }
      ],
      "source": [
        "from matplotlib import pyplot as plt\n",
        "plt.plot(range(len(temperature)), temperature)"
      ]
    },
    {
      "cell_type": "markdown",
      "metadata": {
        "id": "9c3o-u05cy6b"
      },
      "source": [
        "**Plotting the first 10 days of the temperature timeseries**"
      ]
    },
    {
      "cell_type": "code",
      "execution_count": null,
      "metadata": {
        "id": "n2qtlFhLcy6c",
        "outputId": "22af6585-632f-4d25-e590-8a34e6104bbd",
        "colab": {
          "base_uri": "https://localhost:8080/",
          "height": 282
        }
      },
      "outputs": [
        {
          "output_type": "execute_result",
          "data": {
            "text/plain": [
              "[<matplotlib.lines.Line2D at 0x7fece2340d10>]"
            ]
          },
          "metadata": {},
          "execution_count": 6
        },
        {
          "output_type": "display_data",
          "data": {
            "image/png": "[encoded data removed]",
            "text/plain": [
              "<Figure size 432x288 with 1 Axes>"
            ]
          },
          "metadata": {
            "needs_background": "light"
          }
        }
      ],
      "source": [
        "plt.plot(range(1440), temperature[:1440])"
      ]
    },
    {
      "cell_type": "markdown",
      "metadata": {
        "id": "AEi5Z5kucy6c"
      },
      "source": [
        "**Computing the number of samples we'll use for each data split**"
      ]
    },
    {
      "cell_type": "code",
      "execution_count": null,
      "metadata": {
        "id": "MnCE-Wyzcy6d",
        "outputId": "1c7f87c3-e171-4c95-fd84-0c1f4d58aa2b",
        "colab": {
          "base_uri": "https://localhost:8080/"
        }
      },
      "outputs": [
        {
          "output_type": "stream",
          "name": "stdout",
          "text": [
            "num_train_samples: 210225\n",
            "num_val_samples: 105112\n",
            "num_test_samples: 105114\n"
          ]
        }
      ],
      "source": [
        "num_train_samples = int(0.5 * len(raw_data))\n",
        "num_val_samples = int(0.25 * len(raw_data))\n",
        "num_test_samples = len(raw_data) - num_train_samples - num_val_samples\n",
        "print(\"num_train_samples:\", num_train_samples)\n",
        "print(\"num_val_samples:\", num_val_samples)\n",
        "print(\"num_test_samples:\", num_test_samples)"
      ]
    },
    {
      "cell_type": "markdown",
      "metadata": {
        "id": "WHzBeO3wcy6e"
      },
      "source": [
        "### Preparing the data"
      ]
    },
    {
      "cell_type": "markdown",
      "metadata": {
        "id": "bGsPxm8Ecy6e"
      },
      "source": [
        "**Normalizing the data**"
      ]
    },
    {
      "cell_type": "code",
      "execution_count": null,
      "metadata": {
        "id": "AYOZEO8Tcy6f"
      },
      "outputs": [],
      "source": [
        "mean = raw_data[:num_train_samples].mean(axis=0)\n",
        "raw_data -= mean\n",
        "std = raw_data[:num_train_samples].std(axis=0)\n",
        "raw_data /= std"
      ]
    },
    {
      "cell_type": "code",
      "execution_count": null,
      "metadata": {
        "id": "Q_dRdCxzcy6f",
        "outputId": "a7428aff-314c-4383-b7c4-ac58d0d16440",
        "colab": {
          "base_uri": "https://localhost:8080/"
        }
      },
      "outputs": [
        {
          "output_type": "stream",
          "name": "stdout",
          "text": [
            "[0, 1, 2] 3\n",
            "[1, 2, 3] 4\n",
            "[2, 3, 4] 5\n",
            "[3, 4, 5] 6\n",
            "[4, 5, 6] 7\n"
          ]
        }
      ],
      "source": [
        "import numpy as np\n",
        "from tensorflow import keras\n",
        "int_sequence = np.arange(10)\n",
        "dummy_dataset = keras.utils.timeseries_dataset_from_array(\n",
        "    data=int_sequence[:-3],\n",
        "    targets=int_sequence[3:],\n",
        "    sequence_length=3,\n",
        "    batch_size=2,\n",
        ")\n",
        "\n",
        "for inputs, targets in dummy_dataset:\n",
        "    for i in range(inputs.shape[0]):\n",
        "        print([int(x) for x in inputs[i]], int(targets[i]))"
      ]
    },
    {
      "cell_type": "markdown",
      "metadata": {
        "id": "IVIGe1IOcy6g"
      },
      "source": [
        "**Instantiating datasets for training, validation, and testing**"
      ]
    },
    {
      "cell_type": "code",
      "execution_count": null,
      "metadata": {
        "id": "H8pPpd4ycy6g"
      },
      "outputs": [],
      "source": [
        "sampling_rate = 6\n",
        "sequence_length = 120\n",
        "delay = sampling_rate * (sequence_length + 24 - 1)\n",
        "batch_size = 256\n",
        "\n",
        "train_dataset = keras.utils.timeseries_dataset_from_array(\n",
        "    raw_data[:-delay],\n",
        "    targets=temperature[delay:],\n",
        "    sampling_rate=sampling_rate,\n",
        "    sequence_length=sequence_length,\n",
        "    shuffle=True,\n",
        "    batch_size=batch_size,\n",
        "    start_index=0,\n",
        "    end_index=num_train_samples)\n",
        "\n",
        "val_dataset = keras.utils.timeseries_dataset_from_array(\n",
        "    raw_data[:-delay],\n",
        "    targets=temperature[delay:],\n",
        "    sampling_rate=sampling_rate,\n",
        "    sequence_length=sequence_length,\n",
        "    shuffle=True,\n",
        "    batch_size=batch_size,\n",
        "    start_index=num_train_samples,\n",
        "    end_index=num_train_samples + num_val_samples)\n",
        "\n",
        "test_dataset = keras.utils.timeseries_dataset_from_array(\n",
        "    raw_data[:-delay],\n",
        "    targets=temperature[delay:],\n",
        "    sampling_rate=sampling_rate,\n",
        "    sequence_length=sequence_length,\n",
        "    shuffle=True,\n",
        "    batch_size=batch_size,\n",
        "    start_index=num_train_samples + num_val_samples)"
      ]
    },
    {
      "cell_type": "markdown",
      "metadata": {
        "id": "E0Fj5Nczcy6h"
      },
      "source": [
        "**Inspecting the output of one of our datasets**"
      ]
    },
    {
      "cell_type": "code",
      "execution_count": null,
      "metadata": {
        "id": "_H1QWd8gcy6h",
        "outputId": "ef651186-bba1-4c72-c418-cc514fc20d72",
        "colab": {
          "base_uri": "https://localhost:8080/"
        }
      },
      "outputs": [
        {
          "output_type": "stream",
          "name": "stdout",
          "text": [
            "samples shape: (256, 120, 14)\n",
            "targets shape: (256,)\n"
          ]
        }
      ],
      "source": [
        "for samples, targets in train_dataset:\n",
        "    print(\"samples shape:\", samples.shape)\n",
        "    print(\"targets shape:\", targets.shape)\n",
        "    break"
      ]
    },
    {
      "cell_type": "markdown",
      "metadata": {
        "id": "OnOaBNrJcy6i"
      },
      "source": [
        "### A common-sense, non-machine-learning baseline"
      ]
    },
    {
      "cell_type": "markdown",
      "metadata": {
        "id": "NhAla7Wzcy6i"
      },
      "source": [
        "**Computing the common-sense baseline MAE**"
      ]
    },
    {
      "cell_type": "code",
      "execution_count": null,
      "metadata": {
        "id": "7rN6SslYcy6i",
        "outputId": "ed4ba793-c853-4e8b-d7ed-289caef6d059",
        "colab": {
          "base_uri": "https://localhost:8080/"
        }
      },
      "outputs": [
        {
          "output_type": "stream",
          "name": "stdout",
          "text": [
            "Validation MAE: 2.44\n",
            "Test MAE: 2.62\n"
          ]
        }
      ],
      "source": [
        "def evaluate_naive_method(dataset):\n",
        "    total_abs_err = 0.\n",
        "    samples_seen = 0\n",
        "    for samples, targets in dataset:\n",
        "        preds = samples[:, -1, 1] * std[1] + mean[1]\n",
        "        total_abs_err += np.sum(np.abs(preds - targets))\n",
        "        samples_seen += samples.shape[0]\n",
        "    return total_abs_err / samples_seen\n",
        "\n",
        "print(f\"Validation MAE: {evaluate_naive_method(val_dataset):.2f}\")\n",
        "print(f\"Test MAE: {evaluate_naive_method(test_dataset):.2f}\")"
      ]
    },
    {
      "cell_type": "markdown",
      "metadata": {
        "id": "c9YCnikmcy6j"
      },
      "source": [
        "### Let's try a basic machine-learning model"
      ]
    },
    {
      "cell_type": "markdown",
      "metadata": {
        "id": "8yJZNMLTcy6j"
      },
      "source": [
        "**Training and evaluating a densely connected model**"
      ]
    },
    {
      "cell_type": "code",
      "execution_count": null,
      "metadata": {
        "id": "VEkgtgN_cy6j",
        "outputId": "e565050c-da2a-4e0a-e6bd-de63acfc8e0e",
        "colab": {
          "base_uri": "https://localhost:8080/"
        }
      },
      "outputs": [
        {
          "output_type": "stream",
          "name": "stdout",
          "text": [
            "Epoch 1/10\n",
            "819/819 [==============================] - 41s 48ms/step - loss: 12.2833 - mae: 2.7212 - val_loss: 11.6259 - val_mae: 2.6992\n",
            "Epoch 2/10\n",
            "819/819 [==============================] - 42s 51ms/step - loss: 9.1401 - mae: 2.3734 - val_loss: 11.2358 - val_mae: 2.6536\n",
            "Epoch 3/10\n",
            "819/819 [==============================] - 40s 48ms/step - loss: 8.3581 - mae: 2.2720 - val_loss: 11.0665 - val_mae: 2.6238\n",
            "Epoch 4/10\n",
            "819/819 [==============================] - 40s 48ms/step - loss: 7.8731 - mae: 2.2055 - val_loss: 10.9442 - val_mae: 2.6081\n",
            "Epoch 5/10\n",
            "819/819 [==============================] - 40s 48ms/step - loss: 7.5150 - mae: 2.1577 - val_loss: 13.5004 - val_mae: 2.9345\n",
            "Epoch 6/10\n",
            "819/819 [==============================] - 40s 48ms/step - loss: 7.2529 - mae: 2.1207 - val_loss: 11.3990 - val_mae: 2.6574\n",
            "Epoch 7/10\n",
            "819/819 [==============================] - 39s 48ms/step - loss: 7.0605 - mae: 2.0921 - val_loss: 13.6571 - val_mae: 2.9037\n",
            "Epoch 8/10\n",
            "819/819 [==============================] - 40s 48ms/step - loss: 6.8798 - mae: 2.0680 - val_loss: 12.2689 - val_mae: 2.7595\n",
            "Epoch 9/10\n",
            "819/819 [==============================] - 40s 48ms/step - loss: 6.7367 - mae: 2.0463 - val_loss: 11.3430 - val_mae: 2.6495\n",
            "Epoch 10/10\n",
            "819/819 [==============================] - 40s 49ms/step - loss: 6.6119 - mae: 2.0241 - val_loss: 12.5864 - val_mae: 2.7918\n",
            "405/405 [==============================] - 13s 32ms/step - loss: 11.7503 - mae: 2.7161\n",
            "Test MAE: 2.72\n"
          ]
        }
      ],
      "source": [
        "from tensorflow import keras\n",
        "from tensorflow.keras import layers\n",
        "\n",
        "inputs = keras.Input(shape=(sequence_length, raw_data.shape[-1]))\n",
        "x = layers.Flatten()(inputs)\n",
        "x = layers.Dense(16, activation=\"relu\")(x)\n",
        "outputs = layers.Dense(1)(x)\n",
        "model = keras.Model(inputs, outputs)\n",
        "\n",
        "callbacks = [\n",
        "    keras.callbacks.ModelCheckpoint(\"jena_dense.keras\",\n",
        "                                    save_best_only=True)\n",
        "]\n",
        "model.compile(optimizer=\"rmsprop\", loss=\"mse\", metrics=[\"mae\"])\n",
        "history = model.fit(train_dataset,\n",
        "                    epochs=10,\n",
        "                    validation_data=val_dataset,\n",
        "                    callbacks=callbacks)\n",
        "\n",
        "model = keras.models.load_model(\"jena_dense.keras\")\n",
        "print(f\"Test MAE: {model.evaluate(test_dataset)[1]:.2f}\")"
      ]
    },
    {
      "cell_type": "markdown",
      "metadata": {
        "id": "d-neTOl8cy6k"
      },
      "source": [
        "**Plotting results**"
      ]
    },
    {
      "cell_type": "code",
      "execution_count": null,
      "metadata": {
        "id": "-dXf3PVpcy6k",
        "outputId": "67d730ab-ae77-4fe2-a8e1-569280352547",
        "colab": {
          "base_uri": "https://localhost:8080/",
          "height": 281
        }
      },
      "outputs": [
        {
          "output_type": "display_data",
          "data": {
            "image/png": "[encoded data removed]",
            "text/plain": [
              "<Figure size 432x288 with 1 Axes>"
            ]
          },
          "metadata": {
            "needs_background": "light"
          }
        }
      ],
      "source": [
        "import matplotlib.pyplot as plt\n",
        "loss = history.history[\"mae\"]\n",
        "val_loss = history.history[\"val_mae\"]\n",
        "epochs = range(1, len(loss) + 1)\n",
        "plt.figure()\n",
        "plt.plot(epochs, loss, \"bo\", label=\"Training MAE\")\n",
        "plt.plot(epochs, val_loss, \"b\", label=\"Validation MAE\")\n",
        "plt.title(\"Training and validation MAE\")\n",
        "plt.legend()\n",
        "plt.show()"
      ]
    },
    {
      "cell_type": "markdown",
      "metadata": {
        "id": "jqiGm_Cvcy6k"
      },
      "source": [
        "### Let's try a 1D convolutional model"
      ]
    },
    {
      "cell_type": "code",
      "execution_count": null,
      "metadata": {
        "id": "Lz3OBQmDcy6k",
        "outputId": "79a83a07-1348-48bb-e527-59826a128650",
        "colab": {
          "base_uri": "https://localhost:8080/"
        }
      },
      "outputs": [
        {
          "output_type": "stream",
          "name": "stdout",
          "text": [
            "Epoch 1/10\n",
            "819/819 [==============================] - 50s 51ms/step - loss: 23.1273 - mae: 3.7091 - val_loss: 18.1833 - val_mae: 3.4032\n",
            "Epoch 2/10\n",
            "819/819 [==============================] - 42s 51ms/step - loss: 15.2723 - mae: 3.0975 - val_loss: 16.4407 - val_mae: 3.1559\n",
            "Epoch 3/10\n",
            "819/819 [==============================] - 42s 51ms/step - loss: 14.1100 - mae: 2.9755 - val_loss: 13.9052 - val_mae: 2.9538\n",
            "Epoch 4/10\n",
            "819/819 [==============================] - 42s 51ms/step - loss: 13.2307 - mae: 2.8772 - val_loss: 14.2448 - val_mae: 3.0004\n",
            "Epoch 5/10\n",
            "819/819 [==============================] - 42s 51ms/step - loss: 12.5884 - mae: 2.8018 - val_loss: 14.5509 - val_mae: 2.9916\n",
            "Epoch 6/10\n",
            "819/819 [==============================] - 42s 51ms/step - loss: 12.0534 - mae: 2.7430 - val_loss: 14.2911 - val_mae: 2.9857\n",
            "Epoch 7/10\n",
            "819/819 [==============================] - 42s 51ms/step - loss: 11.5949 - mae: 2.6903 - val_loss: 14.8805 - val_mae: 3.0525\n"
          ]
        }
      ],
      "source": [
        "inputs = keras.Input(shape=(sequence_length, raw_data.shape[-1]))\n",
        "x = layers.Conv1D(8, 24, activation=\"relu\")(inputs)\n",
        "x = layers.MaxPooling1D(2)(x)\n",
        "x = layers.Conv1D(8, 12, activation=\"relu\")(x)\n",
        "x = layers.MaxPooling1D(2)(x)\n",
        "x = layers.Conv1D(8, 6, activation=\"relu\")(x)\n",
        "x = layers.GlobalAveragePooling1D()(x)\n",
        "outputs = layers.Dense(1)(x)\n",
        "model = keras.Model(inputs, outputs)\n",
        "\n",
        "callbacks = [\n",
        "    keras.callbacks.ModelCheckpoint(\"jena_conv.keras\",\n",
        "                                    save_best_only=True)\n",
        "]\n",
        "model.compile(optimizer=\"rmsprop\", loss=\"mse\", metrics=[\"mae\"])\n",
        "history = model.fit(train_dataset,\n",
        "                    epochs=10,\n",
        "                    validation_data=val_dataset,\n",
        "                    callbacks=callbacks)\n",
        "\n",
        "model = keras.models.load_model(\"jena_conv.keras\")\n",
        "print(f\"Test MAE: {model.evaluate(test_dataset)[1]:.2f}\")"
      ]
    },
    {
      "cell_type": "markdown",
      "metadata": {
        "id": "f1LRpjRUcy6l"
      },
      "source": [
        "### A first recurrent baseline"
      ]
    },
    {
      "cell_type": "markdown",
      "metadata": {
        "id": "tFjj-4xjcy6l"
      },
      "source": [
        "**A simple LSTM-based model**"
      ]
    },
    {
      "cell_type": "code",
      "execution_count": null,
      "metadata": {
        "id": "V7CE52yQcy6l"
      },
      "outputs": [],
      "source": [
        "inputs = keras.Input(shape=(sequence_length, raw_data.shape[-1]))\n",
        "x = layers.LSTM(16)(inputs)\n",
        "outputs = layers.Dense(1)(x)\n",
        "model = keras.Model(inputs, outputs)\n",
        "\n",
        "callbacks = [\n",
        "    keras.callbacks.ModelCheckpoint(\"jena_lstm.keras\",\n",
        "                                    save_best_only=True)\n",
        "]\n",
        "model.compile(optimizer=\"rmsprop\", loss=\"mse\", metrics=[\"mae\"])\n",
        "history = model.fit(train_dataset,\n",
        "                    epochs=10,\n",
        "                    validation_data=val_dataset,\n",
        "                    callbacks=callbacks)\n",
        "\n",
        "model = keras.models.load_model(\"jena_lstm.keras\")\n",
        "print(f\"Test MAE: {model.evaluate(test_dataset)[1]:.2f}\")"
      ]
    },
    {
      "cell_type": "markdown",
      "metadata": {
        "id": "6DQ48o1lcy6m"
      },
      "source": [
        "## Understanding recurrent neural networks"
      ]
    },
    {
      "cell_type": "markdown",
      "metadata": {
        "id": "IB2L_pNrcy6m"
      },
      "source": [
        "**NumPy implementation of a simple RNN**"
      ]
    },
    {
      "cell_type": "code",
      "execution_count": null,
      "metadata": {
        "id": "EZazfuNUcy6m"
      },
      "outputs": [],
      "source": [
        "import numpy as np\n",
        "timesteps = 100\n",
        "input_features = 32\n",
        "output_features = 64\n",
        "inputs = np.random.random((timesteps, input_features))\n",
        "state_t = np.zeros((output_features,))\n",
        "W = np.random.random((output_features, input_features))\n",
        "U = np.random.random((output_features, output_features))\n",
        "b = np.random.random((output_features,))\n",
        "successive_outputs = []\n",
        "for input_t in inputs:\n",
        "    output_t = np.tanh(np.dot(W, input_t) + np.dot(U, state_t) + b)\n",
        "    successive_outputs.append(output_t)\n",
        "    state_t = output_t\n",
        "final_output_sequence = np.stack(successive_outputs, axis=0)"
      ]
    },
    {
      "cell_type": "markdown",
      "metadata": {
        "id": "aCjyMeTmcy6n"
      },
      "source": [
        "### A recurrent layer in Keras"
      ]
    },
    {
      "cell_type": "markdown",
      "metadata": {
        "id": "ascnZ3BLcy6n"
      },
      "source": [
        "**An RNN layer that can process sequences of any length**"
      ]
    },
    {
      "cell_type": "code",
      "execution_count": null,
      "metadata": {
        "id": "LwgxTDBScy6n"
      },
      "outputs": [],
      "source": [
        "num_features = 14\n",
        "inputs = keras.Input(shape=(None, num_features))\n",
        "outputs = layers.SimpleRNN(16)(inputs)"
      ]
    },
    {
      "cell_type": "markdown",
      "metadata": {
        "id": "cIqIszD3cy6n"
      },
      "source": [
        "**An RNN layer that returns only its last output step**"
      ]
    },
    {
      "cell_type": "code",
      "execution_count": null,
      "metadata": {
        "id": "PWhxM2chcy6n"
      },
      "outputs": [],
      "source": [
        "num_features = 14\n",
        "steps = 120\n",
        "inputs = keras.Input(shape=(steps, num_features))\n",
        "outputs = layers.SimpleRNN(16, return_sequences=False)(inputs)\n",
        "print(outputs.shape)"
      ]
    },
    {
      "cell_type": "markdown",
      "metadata": {
        "id": "90YYkVCFcy6o"
      },
      "source": [
        "**An RNN layer that returns its full output sequence**"
      ]
    },
    {
      "cell_type": "code",
      "execution_count": null,
      "metadata": {
        "id": "foYtkwQfcy6o"
      },
      "outputs": [],
      "source": [
        "num_features = 14\n",
        "steps = 120\n",
        "inputs = keras.Input(shape=(steps, num_features))\n",
        "outputs = layers.SimpleRNN(16, return_sequences=True)(inputs)\n",
        "print(outputs.shape)"
      ]
    },
    {
      "cell_type": "markdown",
      "metadata": {
        "id": "wX9JpJh1cy6o"
      },
      "source": [
        "**Stacking RNN layers**"
      ]
    },
    {
      "cell_type": "code",
      "execution_count": null,
      "metadata": {
        "id": "9fYpmKKXcy6o"
      },
      "outputs": [],
      "source": [
        "inputs = keras.Input(shape=(steps, num_features))\n",
        "x = layers.SimpleRNN(16, return_sequences=True)(inputs)\n",
        "x = layers.SimpleRNN(16, return_sequences=True)(x)\n",
        "outputs = layers.SimpleRNN(16)(x)"
      ]
    },
    {
      "cell_type": "markdown",
      "metadata": {
        "id": "XsGSYj4ccy6p"
      },
      "source": [
        "## Advanced use of recurrent neural networks"
      ]
    },
    {
      "cell_type": "markdown",
      "metadata": {
        "id": "V_D2EBVzcy6p"
      },
      "source": [
        "### Using recurrent dropout to fight overfitting"
      ]
    },
    {
      "cell_type": "markdown",
      "metadata": {
        "id": "3n-ZqkV9cy6p"
      },
      "source": [
        "**Training and evaluating a dropout-regularized LSTM**"
      ]
    },
    {
      "cell_type": "code",
      "execution_count": null,
      "metadata": {
        "id": "0VOr0nZDcy6p"
      },
      "outputs": [],
      "source": [
        "inputs = keras.Input(shape=(sequence_length, raw_data.shape[-1]))\n",
        "x = layers.LSTM(32, recurrent_dropout=0.25)(inputs)\n",
        "x = layers.Dropout(0.5)(x)\n",
        "outputs = layers.Dense(1)(x)\n",
        "model = keras.Model(inputs, outputs)\n",
        "\n",
        "callbacks = [\n",
        "    keras.callbacks.ModelCheckpoint(\"jena_lstm_dropout.keras\",\n",
        "                                    save_best_only=True)\n",
        "]\n",
        "model.compile(optimizer=\"rmsprop\", loss=\"mse\", metrics=[\"mae\"])\n",
        "history = model.fit(train_dataset,\n",
        "                    epochs=50,\n",
        "                    validation_data=val_dataset,\n",
        "                    callbacks=callbacks)"
      ]
    },
    {
      "cell_type": "code",
      "execution_count": null,
      "metadata": {
        "id": "BRUOoRsecy6p"
      },
      "outputs": [],
      "source": [
        "inputs = keras.Input(shape=(sequence_length, num_features))\n",
        "x = layers.LSTM(32, recurrent_dropout=0.2, unroll=True)(inputs)"
      ]
    },
    {
      "cell_type": "markdown",
      "metadata": {
        "id": "z-z6cJ5qcy6q"
      },
      "source": [
        "### Stacking recurrent layers"
      ]
    },
    {
      "cell_type": "markdown",
      "metadata": {
        "id": "pJGGHjIXcy6q"
      },
      "source": [
        "**Training and evaluating a dropout-regularized, stacked GRU model**"
      ]
    },
    {
      "cell_type": "code",
      "execution_count": null,
      "metadata": {
        "id": "bs4ihYlRcy6q"
      },
      "outputs": [],
      "source": [
        "inputs = keras.Input(shape=(sequence_length, raw_data.shape[-1]))\n",
        "x = layers.GRU(32, recurrent_dropout=0.5, return_sequences=True)(inputs)\n",
        "x = layers.GRU(32, recurrent_dropout=0.5)(x)\n",
        "x = layers.Dropout(0.5)(x)\n",
        "outputs = layers.Dense(1)(x)\n",
        "model = keras.Model(inputs, outputs)\n",
        "\n",
        "callbacks = [\n",
        "    keras.callbacks.ModelCheckpoint(\"jena_stacked_gru_dropout.keras\",\n",
        "                                    save_best_only=True)\n",
        "]\n",
        "model.compile(optimizer=\"rmsprop\", loss=\"mse\", metrics=[\"mae\"])\n",
        "history = model.fit(train_dataset,\n",
        "                    epochs=50,\n",
        "                    validation_data=val_dataset,\n",
        "                    callbacks=callbacks)\n",
        "model = keras.models.load_model(\"jena_stacked_gru_dropout.keras\")\n",
        "print(f\"Test MAE: {model.evaluate(test_dataset)[1]:.2f}\")"
      ]
    },
    {
      "cell_type": "markdown",
      "metadata": {
        "id": "oe9HR6gncy6q"
      },
      "source": [
        "### Using bidirectional RNNs"
      ]
    },
    {
      "cell_type": "markdown",
      "metadata": {
        "id": "vm-s3vXVcy6r"
      },
      "source": [
        "**Training and evaluating a bidirectional LSTM**"
      ]
    },
    {
      "cell_type": "code",
      "execution_count": null,
      "metadata": {
        "id": "D7xElt9ccy6r"
      },
      "outputs": [],
      "source": [
        "inputs = keras.Input(shape=(sequence_length, raw_data.shape[-1]))\n",
        "x = layers.Bidirectional(layers.LSTM(16))(inputs)\n",
        "outputs = layers.Dense(1)(x)\n",
        "model = keras.Model(inputs, outputs)\n",
        "\n",
        "model.compile(optimizer=\"rmsprop\", loss=\"mse\", metrics=[\"mae\"])\n",
        "history = model.fit(train_dataset,\n",
        "                    epochs=10,\n",
        "                    validation_data=val_dataset)"
      ]
    },
    {
      "cell_type": "markdown",
      "metadata": {
        "id": "ljqjW7_0cy6r"
      },
      "source": [
        "### Going even further"
      ]
    },
    {
      "cell_type": "markdown",
      "metadata": {
        "id": "NH1Q-JbBcy6r"
      },
      "source": [
        "## Summary"
      ]
    }
  ],
  "metadata": {
    "colab": {
      "collapsed_sections": [],
      "name": "chapter10_dl-for-timeseries.i",
      "provenance": [],
      "include_colab_link": true
    },
    "kernelspec": {
      "display_name": "Python 3",
      "language": "python",
      "name": "python3"
    },
    "language_info": {
      "codemirror_mode": {
        "name": "ipython",
        "version": 3
      },
      "file_extension": ".py",
      "mimetype": "text/x-python",
      "name": "python",
      "nbconvert_exporter": "python",
      "pygments_lexer": "ipython3",
      "version": "3.7.0"
    },
    "accelerator": "GPU"
  },
  "nbformat": 4,
  "nbformat_minor": 0
}