{
  "nbformat": 4,
  "nbformat_minor": 0,
  "metadata": {
    "colab": {
      "provenance": [],
      "authorship_tag": "ABX9TyMj9dEZJ43sPY67LBzMPnRG",
      "include_colab_link": true
    },
    "kernelspec": {
      "name": "python3",
      "display_name": "Python 3"
    },
    "language_info": {
      "name": "python"
    }
  },
  "cells": [
    {
      "cell_type": "markdown",
      "metadata": {
        "id": "view-in-github",
        "colab_type": "text"
      },
      "source": [
        "<a href=\"https://colab.research.google.com/github/JennEYoon/deep-learning/blob/main/geron-ml3/annotate2.ipynb\" target=\"_parent\"><img src=\"https://colab.research.google.com/assets/colab-badge.svg\" alt=\"Open In Colab\"/></a>"
      ]
    },
    {
      "cell_type": "code",
      "execution_count": null,
      "metadata": {
        "id": "27SPRwqzRXVg"
      },
      "outputs": [],
      "source": []
    },
    {
      "cell_type": "markdown",
      "source": [
        "# Arrow annotation, matplotlib  \n",
        "ax.annotate()  plt.annotate()  \n",
        "from A. Geron 3rd ed book chp 1\n",
        "Jennifer E Yoon practice"
      ],
      "metadata": {
        "id": "JfI_P56oRkWR"
      }
    },
    {
      "cell_type": "code",
      "source": [
        "import numpy as np\n",
        "import matplotlib.pyplot as plt\n",
        "\n",
        "np.random.seed(1)\n",
        "x, y = np.random.random((2,50))"
      ],
      "metadata": {
        "id": "KiGCZw5mRcl9"
      },
      "execution_count": 1,
      "outputs": []
    },
    {
      "cell_type": "code",
      "source": [
        "fig, ax = plt.subplots()\n",
        "ax.plot(x, y, 'bo')"
      ],
      "metadata": {
        "colab": {
          "base_uri": "https://localhost:8080/",
          "height": 285
        },
        "id": "kidjFMQPRdsr",
        "outputId": "c6ce623b-94be-49be-c36c-6001e495eabe"
      },
      "execution_count": 2,
      "outputs": [
        {
          "output_type": "execute_result",
          "data": {
            "text/plain": [
              "[<matplotlib.lines.Line2D at 0x7f60902e44c0>]"
            ]
          },
          "metadata": {},
          "execution_count": 2
        },
        {
          "output_type": "display_data",
          "data": {
            "text/plain": [
              "<Figure size 432x288 with 1 Axes>"
            ],
            "image/png": "[encoded data removed]"
          },
          "metadata": {
            "needs_background": "light"
          }
        }
      ]
    },
    {
      "cell_type": "code",
      "source": [
        "fig, ax = plt.subplots()\n",
        "ax.plot(x, y, 'bo')\n",
        "\n",
        "# The key option here is `bbox`. I'm just going a bit crazy with it.\n",
        "ax.annotate('Something', xy=(x[0], y[0]), xytext=(-20,20), \n",
        "            textcoords='offset points', ha='center', va='bottom',\n",
        "            bbox=dict(boxstyle='round,pad=0.2', fc='yellow', alpha=0.3),\n",
        "            arrowprops=dict(arrowstyle='->', connectionstyle='arc3,rad=0.5', \n",
        "                            color='red'))\n",
        "\n",
        "plt.show()"
      ],
      "metadata": {
        "colab": {
          "base_uri": "https://localhost:8080/",
          "height": 267
        },
        "id": "J4bw3_viRe19",
        "outputId": "df28305b-953e-4c53-c982-282b779b0cc0"
      },
      "execution_count": 4,
      "outputs": [
        {
          "output_type": "display_data",
          "data": {
            "text/plain": [
              "<Figure size 432x288 with 1 Axes>"
            ],
            "image/png": "[encoded data removed]"
          },
          "metadata": {
            "needs_background": "light"
          }
        }
      ]
    },
    {
      "cell_type": "code",
      "source": [
        "fig, ax = plt.subplots()\n",
        "ax.plot(x, y, 'bo')\n",
        "\n",
        "# The key option here is `bbox`. I'm just going a bit crazy with it.\n",
        "# move box to right side. xytext=(30, ), ha='left' to start arrow on left of bbox.\n",
        "ax.annotate('First Point', xy=(x[0], y[0]), xytext=(30,20), \n",
        "            textcoords='offset points', ha='left', va='bottom',\n",
        "            bbox=dict(boxstyle='round,pad=0.5', fc='yellow', alpha=0.3),\n",
        "            arrowprops=dict(arrowstyle='->', connectionstyle='arc3,rad=0.5', \n",
        "                            lw=3, color='red'))\n",
        "\n",
        "# lw=3, thicken arrow width"
      ],
      "metadata": {
        "colab": {
          "base_uri": "https://localhost:8080/",
          "height": 285
        },
        "id": "5fp25154Re8K",
        "outputId": "36712cd0-3126-43b8-c20c-97ad8fb17901"
      },
      "execution_count": 13,
      "outputs": [
        {
          "output_type": "execute_result",
          "data": {
            "text/plain": [
              "Text(30, 20, 'First Point')"
            ]
          },
          "metadata": {},
          "execution_count": 13
        },
        {
          "output_type": "display_data",
          "data": {
            "text/plain": [
              "<Figure size 432x288 with 1 Axes>"
            ],
            "image/png": "[encoded data removed]"
          },
          "metadata": {
            "needs_background": "light"
          }
        }
      ]
    }
  ]
}