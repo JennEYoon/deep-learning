{
  "nbformat": 4,
  "nbformat_minor": 0,
  "metadata": {
    "colab": {
      "provenance": []
    },
    "kernelspec": {
      "name": "python3",
      "display_name": "Python 3"
    },
    "language_info": {
      "name": "python"
    }
  },
  "cells": [
    {
      "cell_type": "code",
      "execution_count": null,
      "metadata": {
        "id": "27SPRwqzRXVg"
      },
      "outputs": [],
      "source": []
    },
    {
      "cell_type": "markdown",
      "source": [
        "# Arrow annotation, matplotlib  \n",
        "ax.annotate()  plt.annotate()  \n",
        "from A. Geron 3rd ed book chp 1\n",
        "Jennifer E Yoon practice"
      ],
      "metadata": {
        "id": "JfI_P56oRkWR"
      }
    },
    {
      "cell_type": "code",
      "source": [
        "import numpy as np\n",
        "import matplotlib.pyplot as plt\n",
        "\n",
        "np.random.seed(1)\n",
        "x, y = np.random.random((2,50))"
      ],
      "metadata": {
        "id": "KiGCZw5mRcl9"
      },
      "execution_count": 1,
      "outputs": []
    },
    {
      "cell_type": "code",
      "source": [
        "fig, ax = plt.subplots()\n",
        "ax.plot(x, y, 'bo')"
      ],
      "metadata": {
        "colab": {
          "base_uri": "https://localhost:8080/",
          "height": 285
        },
        "id": "kidjFMQPRdsr",
        "outputId": "c6ce623b-94be-49be-c36c-6001e495eabe"
      },
      "execution_count": 2,
      "outputs": [
        {
          "output_type": "execute_result",
          "data": {
            "text/plain": [
              "[<matplotlib.lines.Line2D at 0x7f60902e44c0>]"
            ]
          },
          "metadata": {},
          "execution_count": 2
        },
        {
          "output_type": "display_data",
          "data": {
            "text/plain": [
              "<Figure size 432x288 with 1 Axes>"
            ],
            "image/png": "[encoded data removed]"
          },
          "metadata": {
            "needs_background": "light"
          }
        }
      ]
    },
    {
      "cell_type": "code",
      "source": [
        "fig, ax = plt.subplots()\n",
        "ax.plot(x, y, 'bo')\n",
        "\n",
        "# The key option here is `bbox`. I'm just going a bit crazy with it.\n",
        "ax.annotate('Something', xy=(x[0], y[0]), xytext=(-20,20), \n",
        "            textcoords='offset points', ha='center', va='bottom',\n",
        "            bbox=dict(boxstyle='round,pad=0.2', fc='yellow', alpha=0.3),\n",
        "            arrowprops=dict(arrowstyle='->', connectionstyle='arc3,rad=0.5', \n",
        "                            color='red'))\n",
        "\n",
        "plt.show()"
      ],
      "metadata": {
        "colab": {
          "base_uri": "https://localhost:8080/",
          "height": 267
        },
        "id": "J4bw3_viRe19",
        "outputId": "df28305b-953e-4c53-c982-282b779b0cc0"
      },
      "execution_count": 4,
      "outputs": [
        {
          "output_type": "display_data",
          "data": {
            "text/plain": [
              "<Figure size 432x288 with 1 Axes>"
            ],
            "image/png": "[encoded data removed]"
          },
          "metadata": {
            "needs_background": "light"
          }
        }
      ]
    },
    {
      "cell_type": "code",
      "source": [
        "fig, ax = plt.subplots()\n",
        "ax.plot(x, y, 'bo')\n",
        "\n",
        "# The key option here is `bbox`. I'm just going a bit crazy with it.\n",
        "# move box to right side.  \n",
        "ax.annotate('First Point', xy=(x[0], y[0]), xytext=(30,20), \n",
        "            textcoords='offset points', ha='left', va='bottom',\n",
        "            bbox=dict(boxstyle='round,pad=0.5', fc='yellow', alpha=0.3),\n",
        "            arrowprops=dict(arrowstyle='->', connectionstyle='arc3,rad=0.5', \n",
        "                            color='red'))\n"
      ],
      "metadata": {
        "colab": {
          "base_uri": "https://localhost:8080/",
          "height": 285
        },
        "id": "5fp25154Re8K",
        "outputId": "99e8b317-0388-4a55-bea6-49e1f472c22f"
      },
      "execution_count": 10,
      "outputs": [
        {
          "output_type": "execute_result",
          "data": {
            "text/plain": [
              "Text(30, 20, 'First Point')"
            ]
          },
          "metadata": {},
          "execution_count": 10
        },
        {
          "output_type": "display_data",
          "data": {
            "text/plain": [
              "<Figure size 432x288 with 1 Axes>"
            ],
            "image/png": "[encoded data removed]"
          },
          "metadata": {
            "needs_background": "light"
          }
        }
      ]
    }
  ]
}