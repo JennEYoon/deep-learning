{
 "cells": [
  {
   "cell_type": "markdown",
   "id": "dd4a3188",
   "metadata": {},
   "source": [
    "# chapter 1, scratch \n",
    "Source: A. Geron, homl, 3rd ed.  \n",
    "By: Jennifer E Yoon\n",
    "Date: 2/23/2023 4am EDT  \n",
    "Env: local, wsl2, conda base w Python v 3.9, --no-browser flag"
   ]
  },
  {
   "cell_type": "code",
   "execution_count": 9,
   "id": "d9e3dd90",
   "metadata": {},
   "outputs": [],
   "source": [
    "# import libraries  \n",
    "import matplotlib.pyplot as plt\n",
    "import numpy as np\n",
    "import pandas as pd\n",
    "# different  \n",
    "from sklearn.linear_model import LinearRegression  \n",
    "# class object, LinearRegression\n",
    "# submodule package name w underscore, linear_model\n",
    "import sklearn"
   ]
  },
  {
   "cell_type": "code",
   "execution_count": 3,
   "id": "45f732bf",
   "metadata": {},
   "outputs": [
    {
     "name": "stdout",
     "output_type": "stream",
     "text": [
      "/bin/bash: /home/jyoon/conda3/lib/libtinfo.so.6: no version information available (required by /bin/bash)\r\n",
      "Python 3.9.12\r\n"
     ]
    }
   ],
   "source": [
    "!python --version"
   ]
  },
  {
   "cell_type": "code",
   "execution_count": 10,
   "id": "fef8d71b",
   "metadata": {},
   "outputs": [
    {
     "data": {
      "text/plain": [
       "'1.0.2'"
      ]
     },
     "execution_count": 10,
     "metadata": {},
     "output_type": "execute_result"
    }
   ],
   "source": [
    "sklearn.__version__"
   ]
  },
  {
   "cell_type": "code",
   "execution_count": 11,
   "id": "1a95e216",
   "metadata": {},
   "outputs": [],
   "source": [
    "np.random.seed(42)"
   ]
  },
  {
   "cell_type": "code",
   "execution_count": 17,
   "id": "5001f751",
   "metadata": {
    "scrolled": false
   },
   "outputs": [
    {
     "data": {
      "text/html": [
       "<div>\n",
       "<style scoped>\n",
       "    .dataframe tbody tr th:only-of-type {\n",
       "        vertical-align: middle;\n",
       "    }\n",
       "\n",
       "    .dataframe tbody tr th {\n",
       "        vertical-align: top;\n",
       "    }\n",
       "\n",
       "    .dataframe thead th {\n",
       "        text-align: right;\n",
       "    }\n",
       "</style>\n",
       "<table border=\"1\" class=\"dataframe\">\n",
       "  <thead>\n",
       "    <tr style=\"text-align: right;\">\n",
       "      <th></th>\n",
       "      <th>Country</th>\n",
       "      <th>GDP per capita (USD)</th>\n",
       "      <th>Life satisfaction</th>\n",
       "    </tr>\n",
       "  </thead>\n",
       "  <tbody>\n",
       "    <tr>\n",
       "      <th>0</th>\n",
       "      <td>Russia</td>\n",
       "      <td>26456.387938</td>\n",
       "      <td>5.8</td>\n",
       "    </tr>\n",
       "    <tr>\n",
       "      <th>1</th>\n",
       "      <td>Greece</td>\n",
       "      <td>27287.083401</td>\n",
       "      <td>5.4</td>\n",
       "    </tr>\n",
       "    <tr>\n",
       "      <th>2</th>\n",
       "      <td>Turkey</td>\n",
       "      <td>28384.987785</td>\n",
       "      <td>5.5</td>\n",
       "    </tr>\n",
       "    <tr>\n",
       "      <th>3</th>\n",
       "      <td>Latvia</td>\n",
       "      <td>29932.493910</td>\n",
       "      <td>5.9</td>\n",
       "    </tr>\n",
       "    <tr>\n",
       "      <th>4</th>\n",
       "      <td>Hungary</td>\n",
       "      <td>31007.768407</td>\n",
       "      <td>5.6</td>\n",
       "    </tr>\n",
       "    <tr>\n",
       "      <th>5</th>\n",
       "      <td>Portugal</td>\n",
       "      <td>32181.154537</td>\n",
       "      <td>5.4</td>\n",
       "    </tr>\n",
       "    <tr>\n",
       "      <th>6</th>\n",
       "      <td>Poland</td>\n",
       "      <td>32238.157259</td>\n",
       "      <td>6.1</td>\n",
       "    </tr>\n",
       "    <tr>\n",
       "      <th>7</th>\n",
       "      <td>Estonia</td>\n",
       "      <td>35638.421351</td>\n",
       "      <td>5.7</td>\n",
       "    </tr>\n",
       "    <tr>\n",
       "      <th>8</th>\n",
       "      <td>Spain</td>\n",
       "      <td>36215.447591</td>\n",
       "      <td>6.3</td>\n",
       "    </tr>\n",
       "    <tr>\n",
       "      <th>9</th>\n",
       "      <td>Slovenia</td>\n",
       "      <td>36547.738956</td>\n",
       "      <td>5.9</td>\n",
       "    </tr>\n",
       "    <tr>\n",
       "      <th>10</th>\n",
       "      <td>Lithuania</td>\n",
       "      <td>36732.034744</td>\n",
       "      <td>5.9</td>\n",
       "    </tr>\n",
       "    <tr>\n",
       "      <th>11</th>\n",
       "      <td>Israel</td>\n",
       "      <td>38341.307570</td>\n",
       "      <td>7.2</td>\n",
       "    </tr>\n",
       "    <tr>\n",
       "      <th>12</th>\n",
       "      <td>Italy</td>\n",
       "      <td>38992.148381</td>\n",
       "      <td>6.0</td>\n",
       "    </tr>\n",
       "    <tr>\n",
       "      <th>13</th>\n",
       "      <td>United Kingdom</td>\n",
       "      <td>41627.129269</td>\n",
       "      <td>6.8</td>\n",
       "    </tr>\n",
       "    <tr>\n",
       "      <th>14</th>\n",
       "      <td>France</td>\n",
       "      <td>42025.617373</td>\n",
       "      <td>6.5</td>\n",
       "    </tr>\n",
       "    <tr>\n",
       "      <th>15</th>\n",
       "      <td>New Zealand</td>\n",
       "      <td>42404.393738</td>\n",
       "      <td>7.3</td>\n",
       "    </tr>\n",
       "    <tr>\n",
       "      <th>16</th>\n",
       "      <td>Canada</td>\n",
       "      <td>45856.625626</td>\n",
       "      <td>7.4</td>\n",
       "    </tr>\n",
       "    <tr>\n",
       "      <th>17</th>\n",
       "      <td>Finland</td>\n",
       "      <td>47260.800458</td>\n",
       "      <td>7.6</td>\n",
       "    </tr>\n",
       "    <tr>\n",
       "      <th>18</th>\n",
       "      <td>Belgium</td>\n",
       "      <td>48210.033111</td>\n",
       "      <td>6.9</td>\n",
       "    </tr>\n",
       "    <tr>\n",
       "      <th>19</th>\n",
       "      <td>Australia</td>\n",
       "      <td>48697.837028</td>\n",
       "      <td>7.3</td>\n",
       "    </tr>\n",
       "    <tr>\n",
       "      <th>20</th>\n",
       "      <td>Sweden</td>\n",
       "      <td>50683.323510</td>\n",
       "      <td>7.3</td>\n",
       "    </tr>\n",
       "    <tr>\n",
       "      <th>21</th>\n",
       "      <td>Germany</td>\n",
       "      <td>50922.358023</td>\n",
       "      <td>7.0</td>\n",
       "    </tr>\n",
       "    <tr>\n",
       "      <th>22</th>\n",
       "      <td>Austria</td>\n",
       "      <td>51935.603862</td>\n",
       "      <td>7.1</td>\n",
       "    </tr>\n",
       "    <tr>\n",
       "      <th>23</th>\n",
       "      <td>Iceland</td>\n",
       "      <td>52279.728851</td>\n",
       "      <td>7.5</td>\n",
       "    </tr>\n",
       "    <tr>\n",
       "      <th>24</th>\n",
       "      <td>Netherlands</td>\n",
       "      <td>54209.563836</td>\n",
       "      <td>7.4</td>\n",
       "    </tr>\n",
       "    <tr>\n",
       "      <th>25</th>\n",
       "      <td>Denmark</td>\n",
       "      <td>55938.212809</td>\n",
       "      <td>7.6</td>\n",
       "    </tr>\n",
       "    <tr>\n",
       "      <th>26</th>\n",
       "      <td>United States</td>\n",
       "      <td>60235.728492</td>\n",
       "      <td>6.9</td>\n",
       "    </tr>\n",
       "  </tbody>\n",
       "</table>\n",
       "</div>"
      ],
      "text/plain": [
       "           Country  GDP per capita (USD)  Life satisfaction\n",
       "0           Russia          26456.387938                5.8\n",
       "1           Greece          27287.083401                5.4\n",
       "2           Turkey          28384.987785                5.5\n",
       "3           Latvia          29932.493910                5.9\n",
       "4          Hungary          31007.768407                5.6\n",
       "5         Portugal          32181.154537                5.4\n",
       "6           Poland          32238.157259                6.1\n",
       "7          Estonia          35638.421351                5.7\n",
       "8            Spain          36215.447591                6.3\n",
       "9         Slovenia          36547.738956                5.9\n",
       "10       Lithuania          36732.034744                5.9\n",
       "11          Israel          38341.307570                7.2\n",
       "12           Italy          38992.148381                6.0\n",
       "13  United Kingdom          41627.129269                6.8\n",
       "14          France          42025.617373                6.5\n",
       "15     New Zealand          42404.393738                7.3\n",
       "16          Canada          45856.625626                7.4\n",
       "17         Finland          47260.800458                7.6\n",
       "18         Belgium          48210.033111                6.9\n",
       "19       Australia          48697.837028                7.3\n",
       "20          Sweden          50683.323510                7.3\n",
       "21         Germany          50922.358023                7.0\n",
       "22         Austria          51935.603862                7.1\n",
       "23         Iceland          52279.728851                7.5\n",
       "24     Netherlands          54209.563836                7.4\n",
       "25         Denmark          55938.212809                7.6\n",
       "26   United States          60235.728492                6.9"
      ]
     },
     "execution_count": 17,
     "metadata": {},
     "output_type": "execute_result"
    }
   ],
   "source": [
    "# Test download data from URL  \n",
    "data_root = \"https://github.com/ageron/data/raw/main/\"\n",
    "data = pd.read_csv(data_root + \"lifesat/lifesat.csv\")\n",
    "# read_csv is underscore, class method? 2nd dot will be confusing after pd. dot.  \n",
    "# forgot \"/\" last folder divider in data_root.  \n",
    "# combined URL needs to have proper folder path structure on Github.com.  \n",
    "data"
   ]
  },
  {
   "cell_type": "code",
   "execution_count": 18,
   "id": "abe58a4c",
   "metadata": {},
   "outputs": [
    {
     "data": {
      "text/plain": [
       "pandas.core.frame.DataFrame"
      ]
     },
     "execution_count": 18,
     "metadata": {},
     "output_type": "execute_result"
    }
   ],
   "source": [
    "type(data)\n",
    "# pd.read_csv creates a dataframe by default.  "
   ]
  },
  {
   "cell_type": "code",
   "execution_count": 20,
   "id": "c3f7d483",
   "metadata": {},
   "outputs": [
    {
     "data": {
      "text/plain": [
       "Index(['Country', 'GDP per capita (USD)', 'Life satisfaction'], dtype='object')"
      ]
     },
     "execution_count": 20,
     "metadata": {},
     "output_type": "execute_result"
    }
   ],
   "source": [
    "data.columns"
   ]
  },
  {
   "cell_type": "code",
   "execution_count": 21,
   "id": "4ff085f7",
   "metadata": {},
   "outputs": [
    {
     "name": "stdout",
     "output_type": "stream",
     "text": [
      "<class 'pandas.core.frame.DataFrame'>\n",
      "RangeIndex: 27 entries, 0 to 26\n",
      "Data columns (total 3 columns):\n",
      " #   Column                Non-Null Count  Dtype  \n",
      "---  ------                --------------  -----  \n",
      " 0   Country               27 non-null     object \n",
      " 1   GDP per capita (USD)  27 non-null     float64\n",
      " 2   Life satisfaction     27 non-null     float64\n",
      "dtypes: float64(2), object(1)\n",
      "memory usage: 776.0+ bytes\n"
     ]
    }
   ],
   "source": [
    "data.info()"
   ]
  },
  {
   "cell_type": "code",
   "execution_count": 40,
   "id": "5b853f8c",
   "metadata": {},
   "outputs": [
    {
     "data": {
      "text/plain": [
       "(0    26456.387938\n",
       " 1    27287.083401\n",
       " 2    28384.987785\n",
       " 3    29932.493910\n",
       " 4    31007.768407\n",
       " Name: GDP per capita (USD), dtype: float64,\n",
       " 0    5.8\n",
       " 1    5.4\n",
       " 2    5.5\n",
       " 3    5.9\n",
       " 4    5.6\n",
       " Name: Life satisfaction, dtype: float64)"
      ]
     },
     "execution_count": 40,
     "metadata": {},
     "output_type": "execute_result"
    }
   ],
   "source": [
    "a = data.iloc[:, 1]\n",
    "b = data.iloc[:, 2]\n",
    "a.head(5), b.head(5)"
   ]
  },
  {
   "cell_type": "code",
   "execution_count": 41,
   "id": "884b3b19",
   "metadata": {},
   "outputs": [
    {
     "data": {
      "text/plain": [
       "[<matplotlib.lines.Line2D at 0x7f00d8286490>]"
      ]
     },
     "execution_count": 41,
     "metadata": {},
     "output_type": "execute_result"
    },
    {
     "data": {
      "image/png": "[encoded data removed]",
      "text/plain": [
       "<Figure size 640x480 with 1 Axes>"
      ]
     },
     "metadata": {},
     "output_type": "display_data"
    }
   ],
   "source": [
    "fig = plt.figure(1)\n",
    "plt.plot(a, b, 'bo')\n",
    "# basic matplotlib pyplot without any formatting"
   ]
  },
  {
   "cell_type": "code",
   "execution_count": 34,
   "id": "be28aef0",
   "metadata": {},
   "outputs": [
    {
     "data": {
      "text/plain": [
       "pandas.core.frame.DataFrame"
      ]
     },
     "execution_count": 34,
     "metadata": {},
     "output_type": "execute_result"
    }
   ],
   "source": [
    "type(data)"
   ]
  },
  {
   "cell_type": "code",
   "execution_count": 54,
   "id": "02ab1273",
   "metadata": {},
   "outputs": [
    {
     "name": "stderr",
     "output_type": "stream",
     "text": [
      "/home/jyoon/conda3/lib/python3.9/site-packages/pandas/plotting/_matplotlib/core.py:1114: UserWarning: No data for colormapping provided via 'c'. Parameters 'cmap' will be ignored\n",
      "  scatter = ax.scatter(\n"
     ]
    },
    {
     "data": {
      "text/plain": [
       "<AxesSubplot: xlabel='GDP per capita (USD)', ylabel='Life satisfaction'>"
      ]
     },
     "execution_count": 54,
     "metadata": {},
     "output_type": "execute_result"
    },
    {
     "data": {
      "image/png": "[encoded data removed]",
      "text/plain": [
       "<Figure size 640x480 with 1 Axes>"
      ]
     },
     "metadata": {},
     "output_type": "display_data"
    }
   ],
   "source": [
    "# book uses pandas plot, wrapper around matplotlib pyplot.   \n",
    "#x = data[[\"GDP per capita (USD)\"]].values\n",
    "#y = data[[\"Life satisfaction\"]].values\n",
    "#type(x)  # ndarray\n",
    "# No need to define x, y ndarray, plot uses keynames from data df.  \n",
    "\n",
    "type(data) # dataframe still\n",
    "# data.plot(kind='scatter', x ='GDP', y = 'Lifesat')  \n",
    "# creates a key-error. data[x].values, data[y].values.  \n",
    "# quoted text is used as \"key\" to lookup column in dataframe to plot. \n",
    "# text needs to match dataframe column name exactly.  \n",
    "\n",
    "data.plot(kind='scatter', grid=True, x=\"GDP per capita (USD)\", y='Life satisfaction')\n",
    "#plt.axis([23_500, 62_500, 4, 9])\n",
    "#plt.show() "
   ]
  },
  {
   "cell_type": "code",
   "execution_count": 52,
   "id": "e41351d5",
   "metadata": {},
   "outputs": [],
   "source": [
    "x = 0\n",
    "y = 1"
   ]
  },
  {
   "cell_type": "code",
   "execution_count": 55,
   "id": "c2abcdcb",
   "metadata": {},
   "outputs": [
    {
     "name": "stdout",
     "output_type": "stream",
     "text": [
      "0 1\n"
     ]
    }
   ],
   "source": [
    "print(x, y)"
   ]
  },
  {
   "cell_type": "code",
   "execution_count": 59,
   "id": "b25c6690",
   "metadata": {},
   "outputs": [
    {
     "name": "stdout",
     "output_type": "stream",
     "text": [
      "[[26456.38793813]\n",
      " [27287.08340093]\n",
      " [28384.98778463]\n",
      " [29932.49391006]\n",
      " [31007.76840654]] [[5.8]\n",
      " [5.4]\n",
      " [5.5]\n",
      " [5.9]\n",
      " [5.6]]\n"
     ]
    },
    {
     "data": {
      "text/plain": [
       "LinearRegression()"
      ]
     },
     "execution_count": 59,
     "metadata": {},
     "output_type": "execute_result"
    }
   ],
   "source": [
    "# train linear regression  \n",
    "# here is where ndarray X and y are used  \n",
    "X = data[[\"GDP per capita (USD)\"]].values\n",
    "y = data[[\"Life satisfaction\"]].values\n",
    "print(X[:5], y[:5])\n",
    "\n",
    "# specify the regression model\n",
    "model = LinearRegression()  # class name\n",
    "model.fit(X, y)"
   ]
  },
  {
   "cell_type": "code",
   "execution_count": 61,
   "id": "ec5dfce2",
   "metadata": {},
   "outputs": [
    {
     "name": "stdout",
     "output_type": "stream",
     "text": [
      "[[6.30165767]]\n"
     ]
    }
   ],
   "source": [
    "# make a prediction for Cypr_655.2us, 2020 GDP per capita  \n",
    "X_cyprus = [[37_655.2]]\n",
    "# why is _ used for thousand mark?  \n",
    "# reasoning for double brackets?  dataframe column selector?  \n",
    "print(model.predict(X_cyprus))"
   ]
  },
  {
   "cell_type": "code",
   "execution_count": 68,
   "id": "839528e6",
   "metadata": {},
   "outputs": [
    {
     "data": {
      "text/plain": [
       "[<matplotlib.lines.Line2D at 0x7f00d3f4fa60>]"
      ]
     },
     "execution_count": 68,
     "metadata": {},
     "output_type": "execute_result"
    },
    {
     "data": {
      "image/png": "[encoded data removed]",
      "text/plain": [
       "<Figure size 640x480 with 1 Axes>"
      ]
     },
     "metadata": {},
     "output_type": "display_data"
    }
   ],
   "source": [
    "# add regression line  \n",
    "\n",
    "y_pred = model.predict(X)\n",
    "\n",
    "fig = plt.figure(2)\n",
    "plt.scatter(X, y, color='g') \n",
    "plt.plot(X, y_pred, color='k') \n",
    "plt.plot(37655, 6.30166, 'ro')"
   ]
  },
  {
   "cell_type": "code",
   "execution_count": null,
   "id": "7498b262",
   "metadata": {},
   "outputs": [],
   "source": [
    "# add arrow annotation ?  \n",
    "# need more help on how to add an arrow to matplotlib.  \n",
    "\n",
    "position_text = {\n",
    "    \"Cyprus\": (37_655, 6.3),\n",
    "    \"Turkey\": (29_500, 4.2),\n",
    "    \"Hungary\": (28_000, 6.9),\n",
    "    \"France\": (40_000, 5),}\n",
    "\n",
    "for country, pos_text in position_text.items():\n",
    "    pos_data_x = country_stats[gdppc_col].loc[country]\n",
    "    pos_data_y = country_stats[lifesat_col].loc[country]\n",
    "    # if US, else country:  \n",
    "    plt.annotate(country, xy=(pos_data_x, pos_data_y),\n",
    "                 xytext=pos_text, fontsize=12,\n",
    "                 arrowprops=dict(facecolor='black', width=0.5,\n",
    "                                 shrink=0.08, headwidth=5))"
   ]
  },
  {
   "cell_type": "code",
   "execution_count": null,
   "id": "ab01fca4",
   "metadata": {},
   "outputs": [],
   "source": [
    "# Simple arrow\n",
    "plt.annotate('Maximum value of sin(x)',xy=(1.55,0.98),xytext=(1,-0.25),\n",
    "             arrowprops={\"width\":6,\"headwidth\":20,'headlength':20},\n",
    "             horizontalalignment='center',fontsize=15)"
   ]
  },
  {
   "cell_type": "code",
   "execution_count": 94,
   "id": "f0ea05df",
   "metadata": {},
   "outputs": [
    {
     "data": {
      "image/png": "[encoded data removed]",
      "text/plain": [
       "<Figure size 640x480 with 1 Axes>"
      ]
     },
     "metadata": {},
     "output_type": "display_data"
    }
   ],
   "source": [
    "fig = plt.figure(3)\n",
    "plt.scatter(X, y, color='g') \n",
    "plt.plot(X, y_pred, color='k') \n",
    "plt.plot(37655, 6.30166, 'ro')\n",
    "plt.annotate('Cyprus', xy=(37600, 6.25), xytext=(35000, 6), \n",
    "             arrowprops={\"width\":3,\"headwidth\":6,'headlength':5, 'color':'r'},\n",
    "             horizontalalignment='left', fontsize=10, color='k')\n",
    "plt.xlabel('GDP per capita')\n",
    "plt.ylabel('Life Satisfaction')\n",
    "plt.title(\"Regression: GDP vs Life Satisfaction\")\n",
    "plt.grid(True)\n",
    "plt.savefig('chp1_GDP_LifeSat.png', format='png')\n",
    "# worked. Need to save in the same cell as when figure is drawn in memory. \n",
    "\n",
    "# arrow annotate: xy= point to, xytext= text location, \n",
    "# arrowprops= dictionary modifies arrow, key-value.  \n",
    "# aligns text, fontsize, color of text.  \n",
    "# can also have curing arrow, with arc angle, arrow style.  \n",
    "# https://www.scaler.com/topics/matplotlib/arrow-in-matplotlib/  "
   ]
  },
  {
   "cell_type": "markdown",
   "id": "6ebe86e8",
   "metadata": {},
   "source": [
    "### 3/7/2023 9am - 11am continue\n",
    "\n",
    "**Memo:** Cyprus is not part of the countries for which life satisfaction survey is available. Closest I can find is Happiness Index. in 2015 this index was 5.55, and in 2021 this index was 6.22. (On a scale of 0 to 10, 10 is most happy).  "
   ]
  },
  {
   "cell_type": "code",
   "execution_count": 1,
   "id": "5f7028bb",
   "metadata": {},
   "outputs": [],
   "source": [
    "### To reproduce work for 2022. \n",
    "# Data needs to pass through pipeline again.  "
   ]
  },
  {
   "cell_type": "raw",
   "id": "cf8e3727",
   "metadata": {},
   "source": [
    "### to do, k-nearest neighbor, Cyprus prediction, other samples.  \n",
    "\n",
    "from sklearn.neighbors import KNeighborsRegressor\n",
    "model = KNeighborRegressor(n_neighbors=3)"
   ]
  },
  {
   "cell_type": "code",
   "execution_count": null,
   "id": "42768e1c",
   "metadata": {},
   "outputs": [],
   "source": []
  },
  {
   "cell_type": "code",
   "execution_count": null,
   "id": "1ed4fda6",
   "metadata": {},
   "outputs": [],
   "source": []
  },
  {
   "cell_type": "markdown",
   "id": "752070c4",
   "metadata": {},
   "source": [
    "### Exercises (1-19)  \n",
    "\n",
    "1) How would you define machine learning?\n",
    "\n",
    "A method for auto-differentiation and grouping of items based on a distance measure of abstract concepts. The machine learns an internal encoding space, which represents abstract concepts. Items closer together on the encoding space have closer meaning or concepts. \n",
    "\n",
    "2) Can you name 4 types of applications where it shines?  \n",
    "\n",
    "Classification (images, text)\n",
    "Regression  \n",
    "Natural Language Processing (text-to-text translation) \n",
    "Generation (images - Stable Diffusion; text ChatGPT)\n",
    "Tree-based: Random Forest, XGBoost (decision trees, segmentation)\n",
    "Clustering similar items (k-nearest-neighbor)\n",
    "\n",
    "3) What is labeled training set? \n",
    "\n",
    "A dataset used for training the dl model where each input item has an associated label. Ex. image classification task where each image file has an associated category label, such as dog or cat. It is a Supervised Learning task.   \n",
    "\n",
    "\n",
    "\n",
    "\n",
    "\n"
   ]
  },
  {
   "cell_type": "markdown",
   "id": "5cc330af",
   "metadata": {},
   "source": [
    "Later - copy answers from book notebook.  \n",
    "\n",
    "\n",
    "\n",
    "\n",
    "\n"
   ]
  },
  {
   "cell_type": "code",
   "execution_count": null,
   "id": "91d121fc",
   "metadata": {},
   "outputs": [],
   "source": []
  }
 ],
 "metadata": {
  "kernelspec": {
   "display_name": "base",
   "language": "python",
   "name": "base"
  },
  "language_info": {
   "codemirror_mode": {
    "name": "ipython",
    "version": 3
   },
   "file_extension": ".py",
   "mimetype": "text/x-python",
   "name": "python",
   "nbconvert_exporter": "python",
   "pygments_lexer": "ipython3",
   "version": "3.9.12"
  }
 },
 "nbformat": 4,
 "nbformat_minor": 5
}
